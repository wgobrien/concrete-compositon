{
 "cells": [
  {
   "cell_type": "code",
   "execution_count": 2,
   "id": "8542e708",
   "metadata": {},
   "outputs": [],
   "source": [
    "import pandas as pd\n",
    "import numpy as np\n",
    "\n",
    "from scipy import stats\n",
    "\n",
    "import matplotlib.pyplot as plt\n",
    "import seaborn as sns\n",
    "\n",
    "from sklearn.model_selection import train_test_split, cross_val_score, KFold, RandomizedSearchCV\n",
    "from sklearn.metrics import mean_squared_error\n",
    "\n",
    "import xgboost as xgb\n",
    "\n",
    "from ga import GeneticAlgorithm"
   ]
  },
  {
   "cell_type": "code",
   "execution_count": 3,
   "id": "57db55e9",
   "metadata": {},
   "outputs": [],
   "source": [
    "sns.set_style('darkgrid')"
   ]
  },
  {
   "cell_type": "markdown",
   "id": "c768b065",
   "metadata": {},
   "source": [
    "## Milestone 2\n",
    "\n",
    "In the last milestone, I implemented a genetic algorithm that could be used to search non-convex spaces for global maximia/minima and the respective parameters. The genetic algorithm is a useful tool in application when we need to find optimal solutions in spaces that are not well-defined or are high dimensional such that gradient-based numerical solutions are unable to locate global optimums. In materials science, an application of this tool is finding optimal mix configurations to produce high performing concrete. That is, we want to find the parameter set of concrete components that produces a mix with a maximum concrete compressive strength. Using data from Yeh, I-Cheng (1998), we can model the feature space using machine learning and run the genetic algorithm to find the optimal concrete configuration.\n",
    "\n",
    "In this milestone, I use XGBoost and use the GA to output the predicted highest performing feature set. XGBoost is a gradient boosted tree method known for its speed and performance on tabular data. It seems a good chocie for thsi problem, "
   ]
  },
  {
   "cell_type": "markdown",
   "id": "94f34654",
   "metadata": {},
   "source": [
    "Data courtesy of I-Cheng Yeh, \"Modeling of strength of high performance concrete using artificial neural networks,\" Cement and Concrete Research, Vol. 28, No. 12, pp. 1797-1808 (1998). The data includes 1030 instances measuring the compressive strength measurement of concrete given 8 configuration parameters shown below. The data was posted on UCI's data repository: https://archive.ics.uci.edu/ml/datasets/Concrete+Compressive+Strength.\n",
    "\n",
    "According to the author, many non-linear relationships underly the concrete compressive strength measurement that results from a composition of its 8 constituents. This made the dataset an attractive application for the genetic algorithm (GA). We can first design a machine learning model that captures these complexities, and then use the GA to predict the composition that will create an optimally performing, strong concrete mix."
   ]
  },
  {
   "cell_type": "code",
   "execution_count": 16,
   "id": "f0e464bd",
   "metadata": {},
   "outputs": [
    {
     "data": {
      "text/html": [
       "<div>\n",
       "<style scoped>\n",
       "    .dataframe tbody tr th:only-of-type {\n",
       "        vertical-align: middle;\n",
       "    }\n",
       "\n",
       "    .dataframe tbody tr th {\n",
       "        vertical-align: top;\n",
       "    }\n",
       "\n",
       "    .dataframe thead th {\n",
       "        text-align: right;\n",
       "    }\n",
       "</style>\n",
       "<table border=\"1\" class=\"dataframe\">\n",
       "  <thead>\n",
       "    <tr style=\"text-align: right;\">\n",
       "      <th></th>\n",
       "      <th>Cement (component 1)(kg in a m^3 mixture)</th>\n",
       "      <th>Blast Furnace Slag (component 2)(kg in a m^3 mixture)</th>\n",
       "      <th>Fly Ash (component 3)(kg in a m^3 mixture)</th>\n",
       "      <th>Water  (component 4)(kg in a m^3 mixture)</th>\n",
       "      <th>Superplasticizer (component 5)(kg in a m^3 mixture)</th>\n",
       "      <th>Coarse Aggregate  (component 6)(kg in a m^3 mixture)</th>\n",
       "      <th>Fine Aggregate (component 7)(kg in a m^3 mixture)</th>\n",
       "      <th>Age (day)</th>\n",
       "      <th>Concrete compressive strength(MPa, megapascals)</th>\n",
       "    </tr>\n",
       "  </thead>\n",
       "  <tbody>\n",
       "    <tr>\n",
       "      <th>count</th>\n",
       "      <td>1030.00</td>\n",
       "      <td>1030.00</td>\n",
       "      <td>1030.00</td>\n",
       "      <td>1030.00</td>\n",
       "      <td>1030.00</td>\n",
       "      <td>1030.00</td>\n",
       "      <td>1030.00</td>\n",
       "      <td>1030.00</td>\n",
       "      <td>1030.00</td>\n",
       "    </tr>\n",
       "    <tr>\n",
       "      <th>mean</th>\n",
       "      <td>281.17</td>\n",
       "      <td>73.90</td>\n",
       "      <td>54.19</td>\n",
       "      <td>181.57</td>\n",
       "      <td>6.20</td>\n",
       "      <td>972.92</td>\n",
       "      <td>773.58</td>\n",
       "      <td>45.66</td>\n",
       "      <td>35.82</td>\n",
       "    </tr>\n",
       "    <tr>\n",
       "      <th>std</th>\n",
       "      <td>104.51</td>\n",
       "      <td>86.28</td>\n",
       "      <td>64.00</td>\n",
       "      <td>21.36</td>\n",
       "      <td>5.97</td>\n",
       "      <td>77.75</td>\n",
       "      <td>80.18</td>\n",
       "      <td>63.17</td>\n",
       "      <td>16.71</td>\n",
       "    </tr>\n",
       "    <tr>\n",
       "      <th>min</th>\n",
       "      <td>102.00</td>\n",
       "      <td>0.00</td>\n",
       "      <td>0.00</td>\n",
       "      <td>121.75</td>\n",
       "      <td>0.00</td>\n",
       "      <td>801.00</td>\n",
       "      <td>594.00</td>\n",
       "      <td>1.00</td>\n",
       "      <td>2.33</td>\n",
       "    </tr>\n",
       "    <tr>\n",
       "      <th>25%</th>\n",
       "      <td>192.38</td>\n",
       "      <td>0.00</td>\n",
       "      <td>0.00</td>\n",
       "      <td>164.90</td>\n",
       "      <td>0.00</td>\n",
       "      <td>932.00</td>\n",
       "      <td>730.95</td>\n",
       "      <td>7.00</td>\n",
       "      <td>23.71</td>\n",
       "    </tr>\n",
       "    <tr>\n",
       "      <th>50%</th>\n",
       "      <td>272.90</td>\n",
       "      <td>22.00</td>\n",
       "      <td>0.00</td>\n",
       "      <td>185.00</td>\n",
       "      <td>6.35</td>\n",
       "      <td>968.00</td>\n",
       "      <td>779.51</td>\n",
       "      <td>28.00</td>\n",
       "      <td>34.44</td>\n",
       "    </tr>\n",
       "    <tr>\n",
       "      <th>75%</th>\n",
       "      <td>350.00</td>\n",
       "      <td>142.95</td>\n",
       "      <td>118.27</td>\n",
       "      <td>192.00</td>\n",
       "      <td>10.16</td>\n",
       "      <td>1029.40</td>\n",
       "      <td>824.00</td>\n",
       "      <td>56.00</td>\n",
       "      <td>46.14</td>\n",
       "    </tr>\n",
       "    <tr>\n",
       "      <th>max</th>\n",
       "      <td>540.00</td>\n",
       "      <td>359.40</td>\n",
       "      <td>200.10</td>\n",
       "      <td>247.00</td>\n",
       "      <td>32.20</td>\n",
       "      <td>1145.00</td>\n",
       "      <td>992.60</td>\n",
       "      <td>365.00</td>\n",
       "      <td>82.60</td>\n",
       "    </tr>\n",
       "  </tbody>\n",
       "</table>\n",
       "</div>"
      ],
      "text/plain": [
       "       Cement (component 1)(kg in a m^3 mixture)  \\\n",
       "count                                    1030.00   \n",
       "mean                                      281.17   \n",
       "std                                       104.51   \n",
       "min                                       102.00   \n",
       "25%                                       192.38   \n",
       "50%                                       272.90   \n",
       "75%                                       350.00   \n",
       "max                                       540.00   \n",
       "\n",
       "       Blast Furnace Slag (component 2)(kg in a m^3 mixture)  \\\n",
       "count                                            1030.00       \n",
       "mean                                               73.90       \n",
       "std                                                86.28       \n",
       "min                                                 0.00       \n",
       "25%                                                 0.00       \n",
       "50%                                                22.00       \n",
       "75%                                               142.95       \n",
       "max                                               359.40       \n",
       "\n",
       "       Fly Ash (component 3)(kg in a m^3 mixture)  \\\n",
       "count                                     1030.00   \n",
       "mean                                        54.19   \n",
       "std                                         64.00   \n",
       "min                                          0.00   \n",
       "25%                                          0.00   \n",
       "50%                                          0.00   \n",
       "75%                                        118.27   \n",
       "max                                        200.10   \n",
       "\n",
       "       Water  (component 4)(kg in a m^3 mixture)  \\\n",
       "count                                    1030.00   \n",
       "mean                                      181.57   \n",
       "std                                        21.36   \n",
       "min                                       121.75   \n",
       "25%                                       164.90   \n",
       "50%                                       185.00   \n",
       "75%                                       192.00   \n",
       "max                                       247.00   \n",
       "\n",
       "       Superplasticizer (component 5)(kg in a m^3 mixture)  \\\n",
       "count                                            1030.00     \n",
       "mean                                                6.20     \n",
       "std                                                 5.97     \n",
       "min                                                 0.00     \n",
       "25%                                                 0.00     \n",
       "50%                                                 6.35     \n",
       "75%                                                10.16     \n",
       "max                                                32.20     \n",
       "\n",
       "       Coarse Aggregate  (component 6)(kg in a m^3 mixture)  \\\n",
       "count                                            1030.00      \n",
       "mean                                              972.92      \n",
       "std                                                77.75      \n",
       "min                                               801.00      \n",
       "25%                                               932.00      \n",
       "50%                                               968.00      \n",
       "75%                                              1029.40      \n",
       "max                                              1145.00      \n",
       "\n",
       "       Fine Aggregate (component 7)(kg in a m^3 mixture)  Age (day)  \\\n",
       "count                                            1030.00    1030.00   \n",
       "mean                                              773.58      45.66   \n",
       "std                                                80.18      63.17   \n",
       "min                                               594.00       1.00   \n",
       "25%                                               730.95       7.00   \n",
       "50%                                               779.51      28.00   \n",
       "75%                                               824.00      56.00   \n",
       "max                                               992.60     365.00   \n",
       "\n",
       "       Concrete compressive strength(MPa, megapascals)   \n",
       "count                                           1030.00  \n",
       "mean                                              35.82  \n",
       "std                                               16.71  \n",
       "min                                                2.33  \n",
       "25%                                               23.71  \n",
       "50%                                               34.44  \n",
       "75%                                               46.14  \n",
       "max                                               82.60  "
      ]
     },
     "execution_count": 16,
     "metadata": {},
     "output_type": "execute_result"
    }
   ],
   "source": [
    "df = pd.read_excel('concrete.xls')\n",
    "df.describe().round(2)"
   ]
  },
  {
   "cell_type": "code",
   "execution_count": 4,
   "id": "fc212885",
   "metadata": {
    "scrolled": true
   },
   "outputs": [
    {
     "name": "stdout",
     "output_type": "stream",
     "text": [
      "<class 'pandas.core.frame.DataFrame'>\n",
      "RangeIndex: 1030 entries, 0 to 1029\n",
      "Data columns (total 9 columns):\n",
      " #   Column                                                 Non-Null Count  Dtype  \n",
      "---  ------                                                 --------------  -----  \n",
      " 0   Cement (component 1)(kg in a m^3 mixture)              1030 non-null   float64\n",
      " 1   Blast Furnace Slag (component 2)(kg in a m^3 mixture)  1030 non-null   float64\n",
      " 2   Fly Ash (component 3)(kg in a m^3 mixture)             1030 non-null   float64\n",
      " 3   Water  (component 4)(kg in a m^3 mixture)              1030 non-null   float64\n",
      " 4   Superplasticizer (component 5)(kg in a m^3 mixture)    1030 non-null   float64\n",
      " 5   Coarse Aggregate  (component 6)(kg in a m^3 mixture)   1030 non-null   float64\n",
      " 6   Fine Aggregate (component 7)(kg in a m^3 mixture)      1030 non-null   float64\n",
      " 7   Age (day)                                              1030 non-null   int64  \n",
      " 8   Concrete compressive strength(MPa, megapascals)        1030 non-null   float64\n",
      "dtypes: float64(8), int64(1)\n",
      "memory usage: 72.5 KB\n"
     ]
    }
   ],
   "source": [
    "df.info()"
   ]
  },
  {
   "cell_type": "markdown",
   "id": "1729e195",
   "metadata": {},
   "source": [
    "Split the data by training paramters and labels, break into training and testing sets."
   ]
  },
  {
   "cell_type": "code",
   "execution_count": 5,
   "id": "e9c02ea7",
   "metadata": {},
   "outputs": [],
   "source": [
    "X, y = df.iloc[:,:-1], df.iloc[:,-1]\n",
    "X_train, X_test, y_train, y_test = train_test_split(X, y, test_size=.2)"
   ]
  },
  {
   "cell_type": "markdown",
   "id": "7cb7d6c2",
   "metadata": {},
   "source": [
    "First, lets try using the off the shelf model and get cross validation scores to get a baseline performance measure."
   ]
  },
  {
   "cell_type": "code",
   "execution_count": 6,
   "id": "7f496696",
   "metadata": {},
   "outputs": [
    {
     "name": "stdout",
     "output_type": "stream",
     "text": [
      "Mean cross-validation score: 0.91\n",
      "K-fold CV average score: 0.92\n",
      "MSE: 20.45\n",
      "RMSE: 4.52\n"
     ]
    }
   ],
   "source": [
    "'''XGBRegressor(verbosity=0\n",
    "             , base_score=0.5\n",
    "             , booster='gbtree'\n",
    "             , colsample_bylevel=1\n",
    "             , colsample_bynode=1\n",
    "             , colsample_bytree=1\n",
    "             , gamma=0\n",
    "             , importance_type='gain'\n",
    "             , learning_rate=0.1\n",
    "             , max_delta_step=0\n",
    "             , max_depth=3\n",
    "             , min_child_weight=1\n",
    "             , missing=None\n",
    "             , n_estimators=100\n",
    "             , n_jobs=1\n",
    "             , nthread=None\n",
    "             , objective='reg:linear'\n",
    "             , random_state=0\n",
    "             , reg_alpha=0\n",
    "             , reg_lambda=1\n",
    "             , scale_pos_weight=1\n",
    "             , seed=None\n",
    "             , silent=None\n",
    "             , subsample=1)'''\n",
    "\n",
    "xgbr = xgb.XGBRegressor(verbosity=0)\n",
    "\n",
    "# cross validataion \n",
    "scores = cross_val_score(xgbr, X_train, y_train, cv=5)\n",
    "print(\"Mean cross-validation score: %.2f\" % scores.mean())\n",
    "\n",
    "kfold = KFold(n_splits=10, shuffle=True)\n",
    "kf_cv_scores = cross_val_score(xgbr, X_train, y_train, cv=kfold )\n",
    "print(\"K-fold CV average score: %.2f\" % kf_cv_scores.mean())\n",
    "\n",
    "xgbr.fit(X_train, y_train)\n",
    "\n",
    "mse = mean_squared_error(y_test, xgbr.predict(X_test))\n",
    "print(\"MSE: %.2f\" % mse)\n",
    "print(\"RMSE: %.2f\" % (mse**(1/2.0)))"
   ]
  },
  {
   "cell_type": "markdown",
   "id": "9c0eb2b8",
   "metadata": {},
   "source": [
    "Here I use sklearn's randomized parameter search which uses cross validation testing parmater values in the specified ranges. Once it runs, we can get the training parameters that fit our data best."
   ]
  },
  {
   "cell_type": "code",
   "execution_count": 7,
   "id": "9ae8f32c",
   "metadata": {},
   "outputs": [
    {
     "name": "stdout",
     "output_type": "stream",
     "text": [
      "Fitting 5 folds for each of 25 candidates, totalling 125 fits\n",
      "Fitting 5 folds for each of 25 candidates, totalling 125 fits\n",
      "Fitting 5 folds for each of 25 candidates, totalling 125 fits\n",
      "Fitting 5 folds for each of 25 candidates, totalling 125 fits\n",
      "Fitting 5 folds for each of 25 candidates, totalling 125 fits\n",
      "Fitting 5 folds for each of 25 candidates, totalling 125 fits\n",
      "Fitting 5 folds for each of 25 candidates, totalling 125 fits\n",
      "Fitting 5 folds for each of 25 candidates, totalling 125 fits\n",
      "[CV 4/5] END colsample_bytree=0.6128907647899967, learning_rate=0.10259270220990106, max_depth=4, min_child_weight=1, n_estimators=381, subsample=0.5661588537737381;, score=0.923 total time=   0.1s\n",
      "[CV 1/5] END colsample_bytree=0.5108144535249373, learning_rate=0.2893178685883751, max_depth=3, min_child_weight=3, n_estimators=361, subsample=0.6545434968747608;, score=0.919 total time=   0.1s\n",
      "[CV 5/5] END colsample_bytree=0.5108144535249373, learning_rate=0.2893178685883751, max_depth=3, min_child_weight=3, n_estimators=361, subsample=0.6545434968747608;, score=0.929 total time=   0.1s\n",
      "[CV 3/5] END colsample_bytree=0.8251074607655813, learning_rate=0.3066120938226911, max_depth=6, min_child_weight=3, n_estimators=356, subsample=0.6546034440962204;, score=0.901 total time=   0.3s\n",
      "[CV 1/5] END colsample_bytree=0.6945632949491531, learning_rate=0.12056031791987, max_depth=4, min_child_weight=2, n_estimators=285, subsample=0.6609531958856669;, score=0.916 total time=   0.1s\n",
      "[CV 3/5] END colsample_bytree=0.6945632949491531, learning_rate=0.12056031791987, max_depth=4, min_child_weight=2, n_estimators=285, subsample=0.6609531958856669;, score=0.920 total time=   0.1s\n",
      "[CV 1/5] END colsample_bytree=0.6411928470143597, learning_rate=0.01761999621939663, max_depth=4, min_child_weight=1, n_estimators=252, subsample=0.9698751356867945;, score=0.868 total time=   0.1s\n",
      "[CV 4/5] END colsample_bytree=0.6411928470143597, learning_rate=0.01761999621939663, max_depth=4, min_child_weight=1, n_estimators=252, subsample=0.9698751356867945;, score=0.865 total time=   0.1s\n",
      "[CV 1/5] END colsample_bytree=0.7384652676591644, learning_rate=0.16444886159338387, max_depth=6, min_child_weight=1, n_estimators=447, subsample=0.8255770910093068;, score=0.913 total time=   0.3s\n",
      "[CV 3/5] END colsample_bytree=0.5949184911663314, learning_rate=0.20905371183998686, max_depth=9, min_child_weight=3, n_estimators=270, subsample=0.9584575891145621;, score=0.921 total time=   0.2s\n",
      "[CV 2/5] END colsample_bytree=0.8472376848951158, learning_rate=0.17764577835242198, max_depth=7, min_child_weight=3, n_estimators=406, subsample=0.5112769114921843;, score=0.907 total time=   0.3s\n",
      "[CV 5/5] END colsample_bytree=0.5612304383151866, learning_rate=0.23756222361454585, max_depth=6, min_child_weight=1, n_estimators=472, subsample=0.8325915834987467;, score=0.935 total time=   0.2s\n",
      "[CV 2/5] END colsample_bytree=0.6429276412311167, learning_rate=0.11692741477927042, max_depth=9, min_child_weight=2, n_estimators=228, subsample=0.7377871164683986;, score=0.915 total time=   0.2s\n",
      "[CV 4/5] END colsample_bytree=0.5551935046310184, learning_rate=0.03630255133798998, max_depth=6, min_child_weight=2, n_estimators=489, subsample=0.49191801155835313;, score=0.917 total time=   0.3s\n",
      "[CV 2/5] END colsample_bytree=0.596365521411854, learning_rate=0.270079748484007, max_depth=7, min_child_weight=1, n_estimators=496, subsample=0.9589996445433266;, score=0.898 total time=   0.3s\n",
      "[CV 3/5] END colsample_bytree=0.6017862157034561, learning_rate=0.2801679098994585, max_depth=5, min_child_weight=2, n_estimators=158, subsample=0.9609291722223101;, score=0.925 total time=   0.1s\n",
      "[CV 4/5] END colsample_bytree=0.5865842146863426, learning_rate=0.0708421081398171, max_depth=3, min_child_weight=3, n_estimators=359, subsample=0.6110275036864656;, score=0.912 total time=   0.1s\n",
      "[CV 2/5] END colsample_bytree=0.658980460194543, learning_rate=0.20681803380919145, max_depth=5, min_child_weight=2, n_estimators=240, subsample=0.7774324899552882;, score=0.913 total time=   0.1s\n",
      "[CV 4/5] END colsample_bytree=0.8207531888794941, learning_rate=0.21277367607256217, max_depth=7, min_child_weight=1, n_estimators=364, subsample=0.7982976757659939;, score=0.896 total time=   0.3s\n",
      "[CV 2/5] END colsample_bytree=0.6820258370095078, learning_rate=0.07446025076491086, max_depth=4, min_child_weight=2, n_estimators=155, subsample=0.4529109081357404;, score=0.915 total time=   0.1s\n",
      "[CV 3/5] END colsample_bytree=0.6820258370095078, learning_rate=0.07446025076491086, max_depth=4, min_child_weight=2, n_estimators=155, subsample=0.4529109081357404;, score=0.896 total time=   0.1s\n",
      "[CV 3/5] END colsample_bytree=0.5892552377628643, learning_rate=0.24410842535909144, max_depth=6, min_child_weight=1, n_estimators=314, subsample=0.579269128434756;, score=0.873 total time=   0.2s\n",
      "[CV 4/5] END colsample_bytree=0.5892552377628643, learning_rate=0.24410842535909144, max_depth=6, min_child_weight=1, n_estimators=314, subsample=0.579269128434756;, score=0.909 total time=   0.2s\n",
      "[CV 4/5] END colsample_bytree=0.9135015582660202, learning_rate=0.15372689696478242, max_depth=7, min_child_weight=1, n_estimators=471, subsample=0.7238535515583988;, score=0.906 total time=   0.4s\n",
      "[CV 5/5] END colsample_bytree=0.9135015582660202, learning_rate=0.15372689696478242, max_depth=7, min_child_weight=1, n_estimators=471, subsample=0.7238535515583988;, score=0.907 total time=   0.4s\n",
      "[CV 2/5] END colsample_bytree=0.6275637202856466, learning_rate=0.274905781717752, max_depth=4, min_child_weight=3, n_estimators=390, subsample=0.87319988101576;, score=0.897 total time=   0.2s\n",
      "[CV 3/5] END colsample_bytree=0.6275637202856466, learning_rate=0.274905781717752, max_depth=4, min_child_weight=3, n_estimators=390, subsample=0.87319988101576;, score=0.872 total time=   0.2s\n",
      "[CV 4/5] END colsample_bytree=0.9417188116667032, learning_rate=0.0556756057118995, max_depth=3, min_child_weight=1, n_estimators=217, subsample=0.30283426513902656;, score=0.912 total time=   0.1s\n",
      "[CV 5/5] END colsample_bytree=0.9417188116667032, learning_rate=0.0556756057118995, max_depth=3, min_child_weight=1, n_estimators=217, subsample=0.30283426513902656;, score=0.904 total time=   0.1s\n",
      "[CV 5/5] END colsample_bytree=0.694837236107995, learning_rate=0.1053285343643135, max_depth=8, min_child_weight=3, n_estimators=281, subsample=0.3709403233188012;, score=0.915 total time=   0.2s\n",
      "[CV 1/5] END colsample_bytree=0.5028264230170217, learning_rate=0.1503829108878642, max_depth=6, min_child_weight=3, n_estimators=320, subsample=0.7921001683027522;, score=0.940 total time=   0.2s\n",
      "[CV 3/5] END colsample_bytree=0.6327348645005346, learning_rate=0.03888040417565769, max_depth=6, min_child_weight=2, n_estimators=255, subsample=0.7095949209235477;, score=0.886 total time=   0.2s\n",
      "[CV 4/5] END colsample_bytree=0.6659390925384017, learning_rate=0.026560865094244046, max_depth=4, min_child_weight=1, n_estimators=228, subsample=0.6055311915361645;, score=0.884 total time=   0.1s\n",
      "[CV 5/5] END colsample_bytree=0.5064521023081668, learning_rate=0.19163506294337532, max_depth=7, min_child_weight=1, n_estimators=345, subsample=0.6900204882513767;, score=0.893 total time=   0.2s\n",
      "[CV 4/5] END colsample_bytree=0.9448352156565575, learning_rate=0.0508448808452049, max_depth=3, min_child_weight=3, n_estimators=335, subsample=0.3896572736429895;, score=0.907 total time=   0.1s\n",
      "[CV 5/5] END colsample_bytree=0.9448352156565575, learning_rate=0.0508448808452049, max_depth=3, min_child_weight=3, n_estimators=335, subsample=0.3896572736429895;, score=0.912 total time=   0.1s\n",
      "[CV 5/5] END colsample_bytree=0.9095610107760941, learning_rate=0.2408995004151816, max_depth=8, min_child_weight=2, n_estimators=480, subsample=0.6543932703328524;, score=0.895 total time=   0.4s\n",
      "[CV 1/5] END colsample_bytree=0.6700209664017511, learning_rate=0.256425557384164, max_depth=4, min_child_weight=1, n_estimators=413, subsample=0.6518647283357337;, score=0.929 total time=   0.2s\n",
      "[CV 5/5] END colsample_bytree=0.8057024546789733, learning_rate=0.21212196781741827, max_depth=4, min_child_weight=2, n_estimators=453, subsample=0.4679605808820978;, score=0.899 total time=   0.2s\n",
      "[CV 1/5] END colsample_bytree=0.6034124990381091, learning_rate=0.1336491935337133, max_depth=4, min_child_weight=3, n_estimators=460, subsample=0.9555474695103636;, score=0.938 total time=   0.2s\n",
      "[CV 2/5] END colsample_bytree=0.591790926558744, learning_rate=0.2976802746807924, max_depth=4, min_child_weight=3, n_estimators=211, subsample=0.6642738558787606;, score=0.913 total time=   0.1s\n",
      "[CV 3/5] END colsample_bytree=0.591790926558744, learning_rate=0.2976802746807924, max_depth=4, min_child_weight=3, n_estimators=211, subsample=0.6642738558787606;, score=0.879 total time=   0.1s\n",
      "[CV 2/5] END colsample_bytree=0.7208924781863753, learning_rate=0.0952309728542781, max_depth=4, min_child_weight=3, n_estimators=284, subsample=0.9804819768856787;, score=0.921 total time=   0.1s\n",
      "[CV 3/5] END colsample_bytree=0.7208924781863753, learning_rate=0.0952309728542781, max_depth=4, min_child_weight=3, n_estimators=284, subsample=0.9804819768856787;, score=0.906 total time=   0.1s\n",
      "[CV 1/5] END colsample_bytree=0.6429093750256056, learning_rate=0.08022299121763524, max_depth=3, min_child_weight=1, n_estimators=310, subsample=0.7639138626261868;, score=0.939 total time=   0.1s\n",
      "[CV 2/5] END colsample_bytree=0.6429093750256056, learning_rate=0.08022299121763524, max_depth=3, min_child_weight=1, n_estimators=310, subsample=0.7639138626261868;, score=0.913 total time=   0.1s\n",
      "[CV 2/5] END colsample_bytree=0.8458929765274925, learning_rate=0.05368591975762641, max_depth=3, min_child_weight=2, n_estimators=310, subsample=0.6691474443572243;, score=0.901 total time=   0.1s\n",
      "[CV 3/5] END colsample_bytree=0.8458929765274925, learning_rate=0.05368591975762641, max_depth=3, min_child_weight=2, n_estimators=310, subsample=0.6691474443572243;, score=0.909 total time=   0.1s\n",
      "[CV 4/5] END colsample_bytree=0.8575419565651514, learning_rate=0.06039437832085438, max_depth=8, min_child_weight=3, n_estimators=342, subsample=0.8649517072830082;, score=0.899 total time=   0.3s\n",
      "[CV 1/5] END colsample_bytree=0.860816451826641, learning_rate=0.23607661480576342, max_depth=3, min_child_weight=3, n_estimators=210, subsample=0.6988323422246786;, score=0.928 total time=   0.1s\n",
      "[CV 2/5] END colsample_bytree=0.860816451826641, learning_rate=0.23607661480576342, max_depth=3, min_child_weight=3, n_estimators=210, subsample=0.6988323422246786;, score=0.908 total time=   0.1s\n",
      "[CV 2/5] END colsample_bytree=0.5338173695003847, learning_rate=0.1753942499079638, max_depth=5, min_child_weight=3, n_estimators=270, subsample=0.7733630241280571;, score=0.917 total time=   0.1s\n",
      "[CV 5/5] END colsample_bytree=0.7663553293542189, learning_rate=0.13690191709848953, max_depth=9, min_child_weight=1, n_estimators=288, subsample=0.32578577311262846;, score=0.917 total time=   0.2s\n",
      "[CV 4/5] END colsample_bytree=0.8708796171437739, learning_rate=0.210987434199535, max_depth=9, min_child_weight=2, n_estimators=247, subsample=0.5476866880612441;, score=0.911 total time=   0.2s\n",
      "[CV 5/5] END colsample_bytree=0.8708796171437739, learning_rate=0.210987434199535, max_depth=9, min_child_weight=2, n_estimators=247, subsample=0.5476866880612441;, score=0.913 total time=   0.2s\n",
      "[CV 4/5] END colsample_bytree=0.6130411744326181, learning_rate=0.23391283952642658, max_depth=5, min_child_weight=3, n_estimators=418, subsample=0.9608110493730138;, score=0.914 total time=   0.2s\n",
      "[CV 5/5] END colsample_bytree=0.6130411744326181, learning_rate=0.23391283952642658, max_depth=5, min_child_weight=3, n_estimators=418, subsample=0.9608110493730138;, score=0.921 total time=   0.2s\n",
      "[CV 4/5] END colsample_bytree=0.7351669040060803, learning_rate=0.039063755861552196, max_depth=6, min_child_weight=1, n_estimators=213, subsample=0.5577529258150473;, score=0.911 total time=   0.1s\n",
      "[CV 5/5] END colsample_bytree=0.7351669040060803, learning_rate=0.039063755861552196, max_depth=6, min_child_weight=1, n_estimators=213, subsample=0.5577529258150473;, score=0.917 total time=   0.1s\n",
      "[CV 2/5] END colsample_bytree=0.7297036695438972, learning_rate=0.21212743741339904, max_depth=9, min_child_weight=1, n_estimators=242, subsample=0.46165896913630494;, score=0.929 total time=   0.2s\n",
      "[CV 3/5] END colsample_bytree=0.7297036695438972, learning_rate=0.21212743741339904, max_depth=9, min_child_weight=1, n_estimators=242, subsample=0.46165896913630494;, score=0.909 total time=   0.2s\n",
      "[CV 2/5] END colsample_bytree=0.704248536213918, learning_rate=0.08230510777964822, max_depth=6, min_child_weight=1, n_estimators=389, subsample=0.45993858108845853;, score=0.930 total time=   0.2s\n",
      "[CV 3/5] END colsample_bytree=0.704248536213918, learning_rate=0.08230510777964822, max_depth=6, min_child_weight=1, n_estimators=389, subsample=0.45993858108845853;, score=0.935 total time=   0.2s\n",
      "[CV 2/5] END colsample_bytree=0.5490490865394494, learning_rate=0.20027221282022886, max_depth=5, min_child_weight=2, n_estimators=440, subsample=0.30887098167562727;, score=0.906 total time=   0.2s\n",
      "[CV 3/5] END colsample_bytree=0.5490490865394494, learning_rate=0.20027221282022886, max_depth=5, min_child_weight=2, n_estimators=440, subsample=0.30887098167562727;, score=0.931 total time=   0.2s\n",
      "[CV 4/5] END colsample_bytree=0.5480363559969418, learning_rate=0.2168068648014577, max_depth=3, min_child_weight=1, n_estimators=237, subsample=0.839031077875801;, score=0.898 total time=   0.1s\n",
      "[CV 5/5] END colsample_bytree=0.5480363559969418, learning_rate=0.2168068648014577, max_depth=3, min_child_weight=1, n_estimators=237, subsample=0.839031077875801;, score=0.936 total time=   0.1s\n",
      "[CV 3/5] END colsample_bytree=0.9043282791333973, learning_rate=0.20689541197970548, max_depth=4, min_child_weight=3, n_estimators=390, subsample=0.8765745990336484;, score=0.924 total time=   0.2s\n",
      "[CV 1/5] END colsample_bytree=0.6794128020418015, learning_rate=0.1920635975680169, max_depth=6, min_child_weight=1, n_estimators=220, subsample=0.4845660998826722;, score=0.918 total time=   0.1s\n",
      "[CV 5/5] END colsample_bytree=0.6465118098113198, learning_rate=0.2784963218865161, max_depth=3, min_child_weight=3, n_estimators=421, subsample=0.5362584361587839;, score=0.916 total time=   0.1s\n",
      "[CV 4/5] END colsample_bytree=0.6468487781256698, learning_rate=0.12894394920270588, max_depth=6, min_child_weight=2, n_estimators=370, subsample=0.33409065126026777;, score=0.909 total time=   0.2s\n",
      "[CV 5/5] END colsample_bytree=0.6468487781256698, learning_rate=0.12894394920270588, max_depth=6, min_child_weight=2, n_estimators=370, subsample=0.33409065126026777;, score=0.910 total time=   0.2s\n",
      "[CV 5/5] END colsample_bytree=0.611482839519456, learning_rate=0.06587146111438892, max_depth=6, min_child_weight=1, n_estimators=352, subsample=0.4499099555749775;, score=0.923 total time=   0.2s\n",
      "[CV 1/5] END colsample_bytree=0.5290690304322101, learning_rate=0.05002889598096813, max_depth=3, min_child_weight=3, n_estimators=484, subsample=0.80143170649669;, score=0.927 total time=   0.1s\n",
      "[CV 1/5] END colsample_bytree=0.8195091133739596, learning_rate=0.05684117797044759, max_depth=3, min_child_weight=2, n_estimators=448, subsample=0.8429784267389095;, score=0.928 total time=   0.2s\n",
      "[CV 2/5] END colsample_bytree=0.8195091133739596, learning_rate=0.05684117797044759, max_depth=3, min_child_weight=2, n_estimators=448, subsample=0.8429784267389095;, score=0.905 total time=   0.2s\n",
      "[CV 2/5] END colsample_bytree=0.7795033397762938, learning_rate=0.13048096489316283, max_depth=5, min_child_weight=2, n_estimators=412, subsample=0.9718709252932884;, score=0.903 total time=   0.2s\n",
      "[CV 3/5] END colsample_bytree=0.7795033397762938, learning_rate=0.13048096489316283, max_depth=5, min_child_weight=2, n_estimators=412, subsample=0.9718709252932884;, score=0.900 total time=   0.2s\n",
      "[CV 1/5] END colsample_bytree=0.770486251433288, learning_rate=0.01843868012301047, max_depth=7, min_child_weight=1, n_estimators=313, subsample=0.3378521695727145;, score=0.926 total time=   0.2s\n",
      "[CV 2/5] END colsample_bytree=0.770486251433288, learning_rate=0.01843868012301047, max_depth=7, min_child_weight=1, n_estimators=313, subsample=0.3378521695727145;, score=0.910 total time=   0.2s\n",
      "[CV 2/5] END colsample_bytree=0.5525661002865564, learning_rate=0.06772038634888945, max_depth=5, min_child_weight=3, n_estimators=475, subsample=0.8490108466352804;, score=0.905 total time=   0.2s\n",
      "[CV 3/5] END colsample_bytree=0.5525661002865564, learning_rate=0.06772038634888945, max_depth=5, min_child_weight=3, n_estimators=475, subsample=0.8490108466352804;, score=0.911 total time=   0.2s\n"
     ]
    },
    {
     "name": "stdout",
     "output_type": "stream",
     "text": [
      "[CV 5/5] END colsample_bytree=0.6128907647899967, learning_rate=0.10259270220990106, max_depth=4, min_child_weight=1, n_estimators=381, subsample=0.5661588537737381;, score=0.941 total time=   0.1s\n",
      "[CV 3/5] END colsample_bytree=0.5108144535249373, learning_rate=0.2893178685883751, max_depth=3, min_child_weight=3, n_estimators=361, subsample=0.6545434968747608;, score=0.905 total time=   0.1s\n",
      "[CV 3/5] END colsample_bytree=0.5950928892792711, learning_rate=0.24001775729179314, max_depth=8, min_child_weight=2, n_estimators=492, subsample=0.87143666434577;, score=0.926 total time=   0.4s\n",
      "[CV 2/5] END colsample_bytree=0.8912646329305884, learning_rate=0.2221144192689027, max_depth=8, min_child_weight=1, n_estimators=491, subsample=0.5992181249447543;, score=0.898 total time=   0.5s\n",
      "[CV 2/5] END colsample_bytree=0.9191304923622433, learning_rate=0.06154131354601591, max_depth=4, min_child_weight=3, n_estimators=167, subsample=0.45370237148673326;, score=0.904 total time=   0.1s\n",
      "[CV 4/5] END colsample_bytree=0.7384652676591644, learning_rate=0.16444886159338387, max_depth=6, min_child_weight=1, n_estimators=447, subsample=0.8255770910093068;, score=0.888 total time=   0.3s\n",
      "[CV 3/5] END colsample_bytree=0.7721882428956437, learning_rate=0.2622835563430857, max_depth=6, min_child_weight=3, n_estimators=473, subsample=0.8360120120237464;, score=0.932 total time=   0.3s\n",
      "[CV 1/5] END colsample_bytree=0.5612304383151866, learning_rate=0.23756222361454585, max_depth=6, min_child_weight=1, n_estimators=472, subsample=0.8325915834987467;, score=0.922 total time=   0.2s\n",
      "[CV 3/5] END colsample_bytree=0.9409736590926789, learning_rate=0.04764535730325267, max_depth=3, min_child_weight=2, n_estimators=457, subsample=0.7049997936156244;, score=0.913 total time=   0.2s\n",
      "[CV 1/5] END colsample_bytree=0.5551935046310184, learning_rate=0.03630255133798998, max_depth=6, min_child_weight=2, n_estimators=489, subsample=0.49191801155835313;, score=0.923 total time=   0.2s\n",
      "[CV 4/5] END colsample_bytree=0.8850201853287518, learning_rate=0.2946008909729073, max_depth=8, min_child_weight=2, n_estimators=274, subsample=0.4295163153995134;, score=0.894 total time=   0.2s\n",
      "[CV 2/5] END colsample_bytree=0.6845677333856455, learning_rate=0.037091840688915835, max_depth=7, min_child_weight=1, n_estimators=313, subsample=0.7696763938340705;, score=0.912 total time=   0.2s\n",
      "[CV 2/5] END colsample_bytree=0.6017862157034561, learning_rate=0.2801679098994585, max_depth=5, min_child_weight=2, n_estimators=158, subsample=0.9609291722223101;, score=0.908 total time=   0.1s\n",
      "[CV 3/5] END colsample_bytree=0.5865842146863426, learning_rate=0.0708421081398171, max_depth=3, min_child_weight=3, n_estimators=359, subsample=0.6110275036864656;, score=0.923 total time=   0.1s\n",
      "[CV 5/5] END colsample_bytree=0.8982424956053876, learning_rate=0.17136820718639942, max_depth=6, min_child_weight=1, n_estimators=226, subsample=0.914493243996463;, score=0.934 total time=   0.2s\n",
      "[CV 2/5] END colsample_bytree=0.8207531888794941, learning_rate=0.21277367607256217, max_depth=7, min_child_weight=1, n_estimators=364, subsample=0.7982976757659939;, score=0.904 total time=   0.3s\n",
      "[CV 1/5] END colsample_bytree=0.6820258370095078, learning_rate=0.07446025076491086, max_depth=4, min_child_weight=2, n_estimators=155, subsample=0.4529109081357404;, score=0.924 total time=   0.1s\n",
      "[CV 1/5] END colsample_bytree=0.5892552377628643, learning_rate=0.24410842535909144, max_depth=6, min_child_weight=1, n_estimators=314, subsample=0.579269128434756;, score=0.926 total time=   0.2s\n",
      "[CV 2/5] END colsample_bytree=0.5892552377628643, learning_rate=0.24410842535909144, max_depth=6, min_child_weight=1, n_estimators=314, subsample=0.579269128434756;, score=0.894 total time=   0.2s\n",
      "[CV 2/5] END colsample_bytree=0.9135015582660202, learning_rate=0.15372689696478242, max_depth=7, min_child_weight=1, n_estimators=471, subsample=0.7238535515583988;, score=0.911 total time=   0.4s\n",
      "[CV 3/5] END colsample_bytree=0.9135015582660202, learning_rate=0.15372689696478242, max_depth=7, min_child_weight=1, n_estimators=471, subsample=0.7238535515583988;, score=0.890 total time=   0.4s\n",
      "[CV 4/5] END colsample_bytree=0.7293042751156595, learning_rate=0.15426994028925198, max_depth=4, min_child_weight=1, n_estimators=426, subsample=0.6198093206400364;, score=0.920 total time=   0.2s\n",
      "[CV 5/5] END colsample_bytree=0.7293042751156595, learning_rate=0.15426994028925198, max_depth=4, min_child_weight=1, n_estimators=426, subsample=0.6198093206400364;, score=0.912 total time=   0.2s\n",
      "[CV 5/5] END colsample_bytree=0.8628326452685318, learning_rate=0.08551120683176276, max_depth=3, min_child_weight=3, n_estimators=211, subsample=0.7782176217314494;, score=0.907 total time=   0.1s\n",
      "[CV 1/5] END colsample_bytree=0.9417188116667032, learning_rate=0.0556756057118995, max_depth=3, min_child_weight=1, n_estimators=217, subsample=0.30283426513902656;, score=0.918 total time=   0.1s\n",
      "[CV 4/5] END colsample_bytree=0.5415883790996069, learning_rate=0.15568353721206032, max_depth=5, min_child_weight=2, n_estimators=344, subsample=0.6119952918266416;, score=0.919 total time=   0.1s\n",
      "[CV 5/5] END colsample_bytree=0.5415883790996069, learning_rate=0.15568353721206032, max_depth=5, min_child_weight=2, n_estimators=344, subsample=0.6119952918266416;, score=0.906 total time=   0.2s\n",
      "[CV 5/5] END colsample_bytree=0.6735926060237436, learning_rate=0.15717428595077237, max_depth=3, min_child_weight=1, n_estimators=182, subsample=0.7305170156682171;, score=0.914 total time=   0.1s\n",
      "[CV 1/5] END colsample_bytree=0.6684290011825013, learning_rate=0.1947186582951404, max_depth=7, min_child_weight=1, n_estimators=215, subsample=0.622525346822645;, score=0.937 total time=   0.2s\n",
      "[CV 2/5] END colsample_bytree=0.6659390925384017, learning_rate=0.026560865094244046, max_depth=4, min_child_weight=1, n_estimators=228, subsample=0.6055311915361645;, score=0.904 total time=   0.1s\n",
      "[CV 1/5] END colsample_bytree=0.9423876888200939, learning_rate=0.17173746135258813, max_depth=5, min_child_weight=2, n_estimators=177, subsample=0.8690113530606967;, score=0.932 total time=   0.1s\n",
      "[CV 2/5] END colsample_bytree=0.7547880959139128, learning_rate=0.059233965744999395, max_depth=5, min_child_weight=3, n_estimators=156, subsample=0.4901203872210039;, score=0.916 total time=   0.1s\n",
      "[CV 5/5] END colsample_bytree=0.7547880959139128, learning_rate=0.059233965744999395, max_depth=5, min_child_weight=3, n_estimators=156, subsample=0.4901203872210039;, score=0.907 total time=   0.1s\n",
      "[CV 3/5] END colsample_bytree=0.6971897674532384, learning_rate=0.08255394455680529, max_depth=8, min_child_weight=3, n_estimators=491, subsample=0.9044220920495936;, score=0.902 total time=   0.4s\n",
      "[CV 1/5] END colsample_bytree=0.6722527454145587, learning_rate=0.09951772570597589, max_depth=5, min_child_weight=1, n_estimators=165, subsample=0.7331063977295481;, score=0.929 total time=   0.1s\n",
      "[CV 2/5] END colsample_bytree=0.6722527454145587, learning_rate=0.09951772570597589, max_depth=5, min_child_weight=1, n_estimators=165, subsample=0.7331063977295481;, score=0.920 total time=   0.1s\n",
      "[CV 2/5] END colsample_bytree=0.8599694231019941, learning_rate=0.07669053007271537, max_depth=5, min_child_weight=1, n_estimators=181, subsample=0.7936343347494275;, score=0.920 total time=   0.1s\n",
      "[CV 3/5] END colsample_bytree=0.8599694231019941, learning_rate=0.07669053007271537, max_depth=5, min_child_weight=1, n_estimators=181, subsample=0.7936343347494275;, score=0.919 total time=   0.1s\n",
      "[CV 2/5] END colsample_bytree=0.7648570232459118, learning_rate=0.16483304716937552, max_depth=3, min_child_weight=3, n_estimators=497, subsample=0.8249029184043513;, score=0.919 total time=   0.2s\n",
      "[CV 3/5] END colsample_bytree=0.7648570232459118, learning_rate=0.16483304716937552, max_depth=3, min_child_weight=3, n_estimators=497, subsample=0.8249029184043513;, score=0.910 total time=   0.2s\n",
      "[CV 3/5] END colsample_bytree=0.6805809159299325, learning_rate=0.20280352570225987, max_depth=9, min_child_weight=3, n_estimators=343, subsample=0.3756016035647356;, score=0.903 total time=   0.2s\n",
      "[CV 4/5] END colsample_bytree=0.6805809159299325, learning_rate=0.20280352570225987, max_depth=9, min_child_weight=3, n_estimators=343, subsample=0.3756016035647356;, score=0.901 total time=   0.2s\n",
      "[CV 5/5] END colsample_bytree=0.7392636692950943, learning_rate=0.22057934265040516, max_depth=5, min_child_weight=1, n_estimators=378, subsample=0.7987191183166638;, score=0.893 total time=   0.2s\n",
      "[CV 1/5] END colsample_bytree=0.7677090164711498, learning_rate=0.1507586222751454, max_depth=5, min_child_weight=1, n_estimators=258, subsample=0.5399700192610141;, score=0.934 total time=   0.2s\n",
      "[CV 1/5] END colsample_bytree=0.8575419565651514, learning_rate=0.06039437832085438, max_depth=8, min_child_weight=3, n_estimators=342, subsample=0.8649517072830082;, score=0.935 total time=   0.3s\n",
      "[CV 2/5] END colsample_bytree=0.8575419565651514, learning_rate=0.06039437832085438, max_depth=8, min_child_weight=3, n_estimators=342, subsample=0.8649517072830082;, score=0.916 total time=   0.3s\n",
      "[CV 3/5] END colsample_bytree=0.5338173695003847, learning_rate=0.1753942499079638, max_depth=5, min_child_weight=3, n_estimators=270, subsample=0.7733630241280571;, score=0.933 total time=   0.1s\n",
      "[CV 2/5] END colsample_bytree=0.8175218576996528, learning_rate=0.24072884693548566, max_depth=6, min_child_weight=3, n_estimators=465, subsample=0.8682621305022311;, score=0.901 total time=   0.3s\n",
      "[CV 5/5] END colsample_bytree=0.6701666572127698, learning_rate=0.2503254616924945, max_depth=4, min_child_weight=1, n_estimators=188, subsample=0.5664435059701372;, score=0.906 total time=   0.1s\n",
      "[CV 1/5] END colsample_bytree=0.894310369232056, learning_rate=0.014531213240489008, max_depth=8, min_child_weight=1, n_estimators=234, subsample=0.847362057587637;, score=0.904 total time=   0.2s\n",
      "[CV 2/5] END colsample_bytree=0.6130411744326181, learning_rate=0.23391283952642658, max_depth=5, min_child_weight=3, n_estimators=418, subsample=0.9608110493730138;, score=0.912 total time=   0.2s\n",
      "[CV 3/5] END colsample_bytree=0.6130411744326181, learning_rate=0.23391283952642658, max_depth=5, min_child_weight=3, n_estimators=418, subsample=0.9608110493730138;, score=0.925 total time=   0.2s\n",
      "[CV 2/5] END colsample_bytree=0.7351669040060803, learning_rate=0.039063755861552196, max_depth=6, min_child_weight=1, n_estimators=213, subsample=0.5577529258150473;, score=0.925 total time=   0.1s\n",
      "[CV 3/5] END colsample_bytree=0.7351669040060803, learning_rate=0.039063755861552196, max_depth=6, min_child_weight=1, n_estimators=213, subsample=0.5577529258150473;, score=0.931 total time=   0.1s\n",
      "[CV 3/5] END colsample_bytree=0.6758061137426097, learning_rate=0.25595238140245125, max_depth=5, min_child_weight=1, n_estimators=436, subsample=0.7819871190759129;, score=0.925 total time=   0.2s\n",
      "[CV 4/5] END colsample_bytree=0.6758061137426097, learning_rate=0.25595238140245125, max_depth=5, min_child_weight=1, n_estimators=436, subsample=0.7819871190759129;, score=0.898 total time=   0.2s\n",
      "[CV 5/5] END colsample_bytree=0.7178000946307121, learning_rate=0.30480976631830814, max_depth=4, min_child_weight=2, n_estimators=329, subsample=0.5881102831412145;, score=0.893 total time=   0.1s\n",
      "[CV 1/5] END colsample_bytree=0.6297846487583291, learning_rate=0.22146565368246268, max_depth=9, min_child_weight=2, n_estimators=457, subsample=0.672280275856584;, score=0.909 total time=   0.4s\n",
      "[CV 1/5] END colsample_bytree=0.6539392531668959, learning_rate=0.16591208148777403, max_depth=9, min_child_weight=2, n_estimators=162, subsample=0.3319961730341788;, score=0.902 total time=   0.1s\n",
      "[CV 2/5] END colsample_bytree=0.6539392531668959, learning_rate=0.16591208148777403, max_depth=9, min_child_weight=2, n_estimators=162, subsample=0.3319961730341788;, score=0.919 total time=   0.1s\n",
      "[CV 3/5] END colsample_bytree=0.762745739605424, learning_rate=0.03606033418897322, max_depth=3, min_child_weight=1, n_estimators=458, subsample=0.7702094204013971;, score=0.936 total time=   0.2s\n",
      "[CV 5/5] END colsample_bytree=0.9043282791333973, learning_rate=0.20689541197970548, max_depth=4, min_child_weight=3, n_estimators=390, subsample=0.8765745990336484;, score=0.908 total time=   0.2s\n",
      "[CV 2/5] END colsample_bytree=0.6794128020418015, learning_rate=0.1920635975680169, max_depth=6, min_child_weight=1, n_estimators=220, subsample=0.4845660998826722;, score=0.898 total time=   0.1s\n",
      "[CV 1/5] END colsample_bytree=0.7553979879759445, learning_rate=0.30192679222556895, max_depth=8, min_child_weight=3, n_estimators=400, subsample=0.5988548691095095;, score=0.915 total time=   0.3s\n",
      "[CV 3/5] END colsample_bytree=0.6749582553599609, learning_rate=0.16025171731946772, max_depth=6, min_child_weight=1, n_estimators=382, subsample=0.7848875042430252;, score=0.890 total time=   0.2s\n",
      "[CV 4/5] END colsample_bytree=0.6749582553599609, learning_rate=0.16025171731946772, max_depth=6, min_child_weight=1, n_estimators=382, subsample=0.7848875042430252;, score=0.890 total time=   0.2s\n",
      "[CV 5/5] END colsample_bytree=0.9045334386316106, learning_rate=0.1517515512935261, max_depth=3, min_child_weight=1, n_estimators=495, subsample=0.5214817361705714;, score=0.920 total time=   0.2s\n",
      "[CV 1/5] END colsample_bytree=0.6357220920912343, learning_rate=0.05886215248843644, max_depth=4, min_child_weight=3, n_estimators=324, subsample=0.699768994123298;, score=0.928 total time=   0.1s\n",
      "[CV 4/5] END colsample_bytree=0.8397729292752041, learning_rate=0.2617707701389024, max_depth=4, min_child_weight=1, n_estimators=231, subsample=0.7390420988834663;, score=0.907 total time=   0.1s\n",
      "[CV 5/5] END colsample_bytree=0.8397729292752041, learning_rate=0.2617707701389024, max_depth=4, min_child_weight=1, n_estimators=231, subsample=0.7390420988834663;, score=0.917 total time=   0.1s\n",
      "[CV 3/5] END colsample_bytree=0.6538583279947515, learning_rate=0.1429074244086385, max_depth=3, min_child_weight=1, n_estimators=398, subsample=0.5115550807781737;, score=0.922 total time=   0.2s\n",
      "[CV 4/5] END colsample_bytree=0.6538583279947515, learning_rate=0.1429074244086385, max_depth=3, min_child_weight=1, n_estimators=398, subsample=0.5115550807781737;, score=0.921 total time=   0.1s\n",
      "[CV 2/5] END colsample_bytree=0.8052540934955585, learning_rate=0.15909495143857233, max_depth=4, min_child_weight=2, n_estimators=208, subsample=0.5890522713524817;, score=0.904 total time=   0.1s\n",
      "[CV 3/5] END colsample_bytree=0.8052540934955585, learning_rate=0.15909495143857233, max_depth=4, min_child_weight=2, n_estimators=208, subsample=0.5890522713524817;, score=0.913 total time=   0.1s\n",
      "[CV 2/5] END colsample_bytree=0.853888540606428, learning_rate=0.12671574771933447, max_depth=5, min_child_weight=3, n_estimators=350, subsample=0.341613894536461;, score=0.903 total time=   0.2s\n",
      "[CV 3/5] END colsample_bytree=0.853888540606428, learning_rate=0.12671574771933447, max_depth=5, min_child_weight=3, n_estimators=350, subsample=0.341613894536461;, score=0.909 total time=   0.2s\n",
      "[CV 3/5] END colsample_bytree=0.8643108437295626, learning_rate=0.1909680296109365, max_depth=4, min_child_weight=2, n_estimators=437, subsample=0.5428635737864422;, score=0.920 total time=   0.2s\n",
      "[CV 5/5] END colsample_bytree=0.8643108437295626, learning_rate=0.1909680296109365, max_depth=4, min_child_weight=2, n_estimators=437, subsample=0.5428635737864422;, score=0.898 total time=   0.2s\n",
      "[CV 4/5] END colsample_bytree=0.8802655407677862, learning_rate=0.2495685071586038, max_depth=4, min_child_weight=3, n_estimators=352, subsample=0.7426129260084131;, score=0.900 total time=   0.1s\n",
      "[CV 3/5] END colsample_bytree=0.6952777881441835, learning_rate=0.06109521858460568, max_depth=6, min_child_weight=2, n_estimators=348, subsample=0.9527755306502514;, score=0.920 total time=   0.2s\n",
      "[CV 1/5] END colsample_bytree=0.6188200967924237, learning_rate=0.27010682028583427, max_depth=4, min_child_weight=3, n_estimators=487, subsample=0.9097297257406101;, score=0.907 total time=   0.2s\n",
      "[CV 5/5] END colsample_bytree=0.6188200967924237, learning_rate=0.27010682028583427, max_depth=4, min_child_weight=3, n_estimators=487, subsample=0.9097297257406101;, score=0.914 total time=   0.2s\n",
      "[CV 2/5] END colsample_bytree=0.6128907647899967, learning_rate=0.10259270220990106, max_depth=4, min_child_weight=1, n_estimators=381, subsample=0.5661588537737381;, score=0.918 total time=   0.1s\n",
      "[CV 4/5] END colsample_bytree=0.5108144535249373, learning_rate=0.2893178685883751, max_depth=3, min_child_weight=3, n_estimators=361, subsample=0.6545434968747608;, score=0.930 total time=   0.1s\n",
      "[CV 4/5] END colsample_bytree=0.5950928892792711, learning_rate=0.24001775729179314, max_depth=8, min_child_weight=2, n_estimators=492, subsample=0.87143666434577;, score=0.901 total time=   0.3s\n",
      "[CV 3/5] END colsample_bytree=0.8912646329305884, learning_rate=0.2221144192689027, max_depth=8, min_child_weight=1, n_estimators=491, subsample=0.5992181249447543;, score=0.921 total time=   0.4s\n",
      "[CV 1/5] END colsample_bytree=0.9191304923622433, learning_rate=0.06154131354601591, max_depth=4, min_child_weight=3, n_estimators=167, subsample=0.45370237148673326;, score=0.908 total time=   0.1s\n",
      "[CV 3/5] END colsample_bytree=0.7384652676591644, learning_rate=0.16444886159338387, max_depth=6, min_child_weight=1, n_estimators=447, subsample=0.8255770910093068;, score=0.923 total time=   0.3s\n",
      "[CV 2/5] END colsample_bytree=0.7721882428956437, learning_rate=0.2622835563430857, max_depth=6, min_child_weight=3, n_estimators=473, subsample=0.8360120120237464;, score=0.901 total time=   0.3s\n",
      "[CV 4/5] END colsample_bytree=0.8472376848951158, learning_rate=0.17764577835242198, max_depth=7, min_child_weight=3, n_estimators=406, subsample=0.5112769114921843;, score=0.897 total time=   0.3s\n",
      "[CV 1/5] END colsample_bytree=0.9409736590926789, learning_rate=0.04764535730325267, max_depth=3, min_child_weight=2, n_estimators=457, subsample=0.7049997936156244;, score=0.909 total time=   0.2s\n",
      "[CV 4/5] END colsample_bytree=0.6429276412311167, learning_rate=0.11692741477927042, max_depth=9, min_child_weight=2, n_estimators=228, subsample=0.7377871164683986;, score=0.896 total time=   0.2s\n",
      "[CV 2/5] END colsample_bytree=0.8850201853287518, learning_rate=0.2946008909729073, max_depth=8, min_child_weight=2, n_estimators=274, subsample=0.4295163153995134;, score=0.882 total time=   0.2s\n",
      "[CV 4/5] END colsample_bytree=0.596365521411854, learning_rate=0.270079748484007, max_depth=7, min_child_weight=1, n_estimators=496, subsample=0.9589996445433266;, score=0.882 total time=   0.3s\n",
      "[CV 4/5] END colsample_bytree=0.6017862157034561, learning_rate=0.2801679098994585, max_depth=5, min_child_weight=2, n_estimators=158, subsample=0.9609291722223101;, score=0.914 total time=   0.1s\n",
      "[CV 5/5] END colsample_bytree=0.5865842146863426, learning_rate=0.0708421081398171, max_depth=3, min_child_weight=3, n_estimators=359, subsample=0.6110275036864656;, score=0.929 total time=   0.1s\n",
      "[CV 3/5] END colsample_bytree=0.658980460194543, learning_rate=0.20681803380919145, max_depth=5, min_child_weight=2, n_estimators=240, subsample=0.7774324899552882;, score=0.933 total time=   0.1s\n",
      "[CV 5/5] END colsample_bytree=0.8207531888794941, learning_rate=0.21277367607256217, max_depth=7, min_child_weight=1, n_estimators=364, subsample=0.7982976757659939;, score=0.915 total time=   0.3s\n",
      "[CV 4/5] END colsample_bytree=0.6820258370095078, learning_rate=0.07446025076491086, max_depth=4, min_child_weight=2, n_estimators=155, subsample=0.4529109081357404;, score=0.910 total time=   0.1s\n",
      "[CV 5/5] END colsample_bytree=0.6820258370095078, learning_rate=0.07446025076491086, max_depth=4, min_child_weight=2, n_estimators=155, subsample=0.4529109081357404;, score=0.900 total time=   0.1s\n",
      "[CV 5/5] END colsample_bytree=0.5892552377628643, learning_rate=0.24410842535909144, max_depth=6, min_child_weight=1, n_estimators=314, subsample=0.579269128434756;, score=0.889 total time=   0.2s\n",
      "[CV 1/5] END colsample_bytree=0.883300167215453, learning_rate=0.10644753627257515, max_depth=8, min_child_weight=3, n_estimators=422, subsample=0.5365231960582166;, score=0.928 total time=   0.4s\n",
      "[CV 1/5] END colsample_bytree=0.667199166503053, learning_rate=0.17877890008166894, max_depth=8, min_child_weight=2, n_estimators=405, subsample=0.3955972152267109;, score=0.931 total time=   0.3s\n",
      "[CV 2/5] END colsample_bytree=0.667199166503053, learning_rate=0.17877890008166894, max_depth=8, min_child_weight=2, n_estimators=405, subsample=0.3955972152267109;, score=0.896 total time=   0.3s\n",
      "[CV 5/5] END colsample_bytree=0.6143025170018108, learning_rate=0.11527716977673863, max_depth=5, min_child_weight=1, n_estimators=430, subsample=0.7407692661495429;, score=0.912 total time=   0.2s\n",
      "[CV 1/5] END colsample_bytree=0.6275637202856466, learning_rate=0.274905781717752, max_depth=4, min_child_weight=3, n_estimators=390, subsample=0.87319988101576;, score=0.932 total time=   0.2s\n",
      "[CV 2/5] END colsample_bytree=0.9417188116667032, learning_rate=0.0556756057118995, max_depth=3, min_child_weight=1, n_estimators=217, subsample=0.30283426513902656;, score=0.897 total time=   0.1s\n",
      "[CV 3/5] END colsample_bytree=0.9417188116667032, learning_rate=0.0556756057118995, max_depth=3, min_child_weight=1, n_estimators=217, subsample=0.30283426513902656;, score=0.885 total time=   0.1s\n",
      "[CV 3/5] END colsample_bytree=0.694837236107995, learning_rate=0.1053285343643135, max_depth=8, min_child_weight=3, n_estimators=281, subsample=0.3709403233188012;, score=0.891 total time=   0.2s\n",
      "[CV 4/5] END colsample_bytree=0.694837236107995, learning_rate=0.1053285343643135, max_depth=8, min_child_weight=3, n_estimators=281, subsample=0.3709403233188012;, score=0.916 total time=   0.2s\n",
      "[CV 1/5] END colsample_bytree=0.6327348645005346, learning_rate=0.03888040417565769, max_depth=6, min_child_weight=2, n_estimators=255, subsample=0.7095949209235477;, score=0.935 total time=   0.1s\n",
      "[CV 2/5] END colsample_bytree=0.6327348645005346, learning_rate=0.03888040417565769, max_depth=6, min_child_weight=2, n_estimators=255, subsample=0.7095949209235477;, score=0.920 total time=   0.1s\n",
      "[CV 1/5] END colsample_bytree=0.5064521023081668, learning_rate=0.19163506294337532, max_depth=7, min_child_weight=1, n_estimators=345, subsample=0.6900204882513767;, score=0.931 total time=   0.2s\n",
      "[CV 2/5] END colsample_bytree=0.9448352156565575, learning_rate=0.0508448808452049, max_depth=3, min_child_weight=3, n_estimators=335, subsample=0.3896572736429895;, score=0.904 total time=   0.1s\n",
      "[CV 3/5] END colsample_bytree=0.9448352156565575, learning_rate=0.0508448808452049, max_depth=3, min_child_weight=3, n_estimators=335, subsample=0.3896572736429895;, score=0.897 total time=   0.1s\n",
      "[CV 3/5] END colsample_bytree=0.9095610107760941, learning_rate=0.2408995004151816, max_depth=8, min_child_weight=2, n_estimators=480, subsample=0.6543932703328524;, score=0.892 total time=   0.4s\n",
      "[CV 4/5] END colsample_bytree=0.9095610107760941, learning_rate=0.2408995004151816, max_depth=8, min_child_weight=2, n_estimators=480, subsample=0.6543932703328524;, score=0.886 total time=   0.4s\n",
      "[CV 5/5] END colsample_bytree=0.6805809159299325, learning_rate=0.20280352570225987, max_depth=9, min_child_weight=3, n_estimators=343, subsample=0.3756016035647356;, score=0.909 total time=   0.2s\n",
      "[CV 1/5] END colsample_bytree=0.591790926558744, learning_rate=0.2976802746807924, max_depth=4, min_child_weight=3, n_estimators=211, subsample=0.6642738558787606;, score=0.925 total time=   0.1s\n",
      "[CV 1/5] END colsample_bytree=0.7392636692950943, learning_rate=0.22057934265040516, max_depth=5, min_child_weight=1, n_estimators=378, subsample=0.7987191183166638;, score=0.933 total time=   0.2s\n",
      "[CV 2/5] END colsample_bytree=0.7392636692950943, learning_rate=0.22057934265040516, max_depth=5, min_child_weight=1, n_estimators=378, subsample=0.7987191183166638;, score=0.915 total time=   0.2s\n",
      "[CV 1/5] END colsample_bytree=0.6638314741388824, learning_rate=0.12337963348759304, max_depth=5, min_child_weight=2, n_estimators=476, subsample=0.5237335841568537;, score=0.937 total time=   0.3s\n",
      "[CV 2/5] END colsample_bytree=0.6638314741388824, learning_rate=0.12337963348759304, max_depth=5, min_child_weight=2, n_estimators=476, subsample=0.5237335841568537;, score=0.919 total time=   0.2s\n",
      "[CV 4/5] END colsample_bytree=0.7381796567434641, learning_rate=0.2522054978277282, max_depth=6, min_child_weight=1, n_estimators=321, subsample=0.9349110166436059;, score=0.902 total time=   0.2s\n",
      "[CV 2/5] END colsample_bytree=0.7663553293542189, learning_rate=0.13690191709848953, max_depth=9, min_child_weight=1, n_estimators=288, subsample=0.32578577311262846;, score=0.917 total time=   0.2s\n",
      "[CV 4/5] END colsample_bytree=0.8175218576996528, learning_rate=0.24072884693548566, max_depth=6, min_child_weight=3, n_estimators=465, subsample=0.8682621305022311;, score=0.903 total time=   0.3s\n",
      "[CV 4/5] END colsample_bytree=0.894310369232056, learning_rate=0.014531213240489008, max_depth=8, min_child_weight=1, n_estimators=234, subsample=0.847362057587637;, score=0.867 total time=   0.2s\n",
      "[CV 5/5] END colsample_bytree=0.894310369232056, learning_rate=0.014531213240489008, max_depth=8, min_child_weight=1, n_estimators=234, subsample=0.847362057587637;, score=0.884 total time=   0.2s\n",
      "[CV 1/5] END colsample_bytree=0.8757505113623159, learning_rate=0.2989432991346515, max_depth=7, min_child_weight=3, n_estimators=477, subsample=0.779268831322893;, score=0.910 total time=   0.4s\n",
      "[CV 2/5] END colsample_bytree=0.8757505113623159, learning_rate=0.2989432991346515, max_depth=7, min_child_weight=3, n_estimators=477, subsample=0.779268831322893;, score=0.897 total time=   0.4s\n",
      "[CV 1/5] END colsample_bytree=0.7178000946307121, learning_rate=0.30480976631830814, max_depth=4, min_child_weight=2, n_estimators=329, subsample=0.5881102831412145;, score=0.905 total time=   0.1s\n",
      "[CV 2/5] END colsample_bytree=0.7178000946307121, learning_rate=0.30480976631830814, max_depth=4, min_child_weight=2, n_estimators=329, subsample=0.5881102831412145;, score=0.909 total time=   0.1s\n",
      "[CV 3/5] END colsample_bytree=0.7957328656873287, learning_rate=0.1646167169778573, max_depth=5, min_child_weight=3, n_estimators=336, subsample=0.6392175651890286;, score=0.920 total time=   0.2s\n",
      "[CV 4/5] END colsample_bytree=0.7957328656873287, learning_rate=0.1646167169778573, max_depth=5, min_child_weight=3, n_estimators=336, subsample=0.6392175651890286;, score=0.914 total time=   0.2s\n",
      "[CV 3/5] END colsample_bytree=0.6539392531668959, learning_rate=0.16591208148777403, max_depth=9, min_child_weight=2, n_estimators=162, subsample=0.3319961730341788;, score=0.926 total time=   0.1s\n",
      "[CV 4/5] END colsample_bytree=0.6539392531668959, learning_rate=0.16591208148777403, max_depth=9, min_child_weight=2, n_estimators=162, subsample=0.3319961730341788;, score=0.927 total time=   0.1s\n",
      "[CV 2/5] END colsample_bytree=0.9043282791333973, learning_rate=0.20689541197970548, max_depth=4, min_child_weight=3, n_estimators=390, subsample=0.8765745990336484;, score=0.901 total time=   0.2s\n",
      "[CV 4/5] END colsample_bytree=0.5538419869116598, learning_rate=0.18356561215922104, max_depth=6, min_child_weight=3, n_estimators=231, subsample=0.560063197014788;, score=0.916 total time=   0.1s\n",
      "[CV 3/5] END colsample_bytree=0.6794128020418015, learning_rate=0.1920635975680169, max_depth=6, min_child_weight=1, n_estimators=220, subsample=0.4845660998826722;, score=0.912 total time=   0.1s\n",
      "[CV 4/5] END colsample_bytree=0.6465118098113198, learning_rate=0.2784963218865161, max_depth=3, min_child_weight=3, n_estimators=421, subsample=0.5362584361587839;, score=0.911 total time=   0.1s\n",
      "[CV 2/5] END colsample_bytree=0.6468487781256698, learning_rate=0.12894394920270588, max_depth=6, min_child_weight=2, n_estimators=370, subsample=0.33409065126026777;, score=0.901 total time=   0.2s\n",
      "[CV 3/5] END colsample_bytree=0.6468487781256698, learning_rate=0.12894394920270588, max_depth=6, min_child_weight=2, n_estimators=370, subsample=0.33409065126026777;, score=0.910 total time=   0.2s\n",
      "[CV 3/5] END colsample_bytree=0.611482839519456, learning_rate=0.06587146111438892, max_depth=6, min_child_weight=1, n_estimators=352, subsample=0.4499099555749775;, score=0.931 total time=   0.2s\n",
      "[CV 4/5] END colsample_bytree=0.611482839519456, learning_rate=0.06587146111438892, max_depth=6, min_child_weight=1, n_estimators=352, subsample=0.4499099555749775;, score=0.909 total time=   0.2s\n",
      "[CV 4/5] END colsample_bytree=0.6357220920912343, learning_rate=0.05886215248843644, max_depth=4, min_child_weight=3, n_estimators=324, subsample=0.699768994123298;, score=0.912 total time=   0.1s\n",
      "[CV 5/5] END colsample_bytree=0.6357220920912343, learning_rate=0.05886215248843644, max_depth=4, min_child_weight=3, n_estimators=324, subsample=0.699768994123298;, score=0.912 total time=   0.1s\n",
      "[CV 3/5] END colsample_bytree=0.7003178759063104, learning_rate=0.022099580872024707, max_depth=3, min_child_weight=2, n_estimators=339, subsample=0.9795684576365742;, score=0.885 total time=   0.1s\n",
      "[CV 4/5] END colsample_bytree=0.7003178759063104, learning_rate=0.022099580872024707, max_depth=3, min_child_weight=2, n_estimators=339, subsample=0.9795684576365742;, score=0.877 total time=   0.1s\n",
      "[CV 4/5] END colsample_bytree=0.5276057027294968, learning_rate=0.0434502078095273, max_depth=4, min_child_weight=3, n_estimators=398, subsample=0.9893363832369675;, score=0.917 total time=   0.1s\n",
      "[CV 5/5] END colsample_bytree=0.5276057027294968, learning_rate=0.0434502078095273, max_depth=4, min_child_weight=3, n_estimators=398, subsample=0.9893363832369675;, score=0.920 total time=   0.2s\n",
      "[CV 3/5] END colsample_bytree=0.770486251433288, learning_rate=0.01843868012301047, max_depth=7, min_child_weight=1, n_estimators=313, subsample=0.3378521695727145;, score=0.911 total time=   0.2s\n",
      "[CV 4/5] END colsample_bytree=0.770486251433288, learning_rate=0.01843868012301047, max_depth=7, min_child_weight=1, n_estimators=313, subsample=0.3378521695727145;, score=0.891 total time=   0.2s\n",
      "[CV 1/5] END colsample_bytree=0.8643108437295626, learning_rate=0.1909680296109365, max_depth=4, min_child_weight=2, n_estimators=437, subsample=0.5428635737864422;, score=0.919 total time=   0.2s\n",
      "[CV 2/5] END colsample_bytree=0.8643108437295626, learning_rate=0.1909680296109365, max_depth=4, min_child_weight=2, n_estimators=437, subsample=0.5428635737864422;, score=0.899 total time=   0.2s\n",
      "[CV 1/5] END colsample_bytree=0.8802655407677862, learning_rate=0.2495685071586038, max_depth=4, min_child_weight=3, n_estimators=352, subsample=0.7426129260084131;, score=0.911 total time=   0.2s\n",
      "[CV 1/5] END colsample_bytree=0.671957566005949, learning_rate=0.2325907365345849, max_depth=8, min_child_weight=3, n_estimators=493, subsample=0.6409897486435672;, score=0.905 total time=   0.3s\n",
      "[CV 4/5] END colsample_bytree=0.6188200967924237, learning_rate=0.27010682028583427, max_depth=4, min_child_weight=3, n_estimators=487, subsample=0.9097297257406101;, score=0.927 total time=   0.2s\n",
      "[CV 2/5] END colsample_bytree=0.5879864135682118, learning_rate=0.16020011186092722, max_depth=8, min_child_weight=2, n_estimators=161, subsample=0.9525448420046763;, score=0.942 total time=   0.1s\n",
      "[CV 3/5] END colsample_bytree=0.5879864135682118, learning_rate=0.16020011186092722, max_depth=8, min_child_weight=2, n_estimators=161, subsample=0.9525448420046763;, score=0.900 total time=   0.1s\n",
      "[CV 4/5] END colsample_bytree=0.8365166022774724, learning_rate=0.11986957827476478, max_depth=3, min_child_weight=1, n_estimators=379, subsample=0.62595063889955;, score=0.932 total time=   0.1s\n",
      "[CV 5/5] END colsample_bytree=0.8365166022774724, learning_rate=0.11986957827476478, max_depth=3, min_child_weight=1, n_estimators=379, subsample=0.62595063889955;, score=0.917 total time=   0.1s\n",
      "[CV 5/5] END colsample_bytree=0.7469370655622576, learning_rate=0.23802424328316987, max_depth=3, min_child_weight=3, n_estimators=289, subsample=0.8450593644660676;, score=0.911 total time=   0.1s\n",
      "[CV 1/5] END colsample_bytree=0.8417695951987891, learning_rate=0.11904749959528799, max_depth=8, min_child_weight=2, n_estimators=279, subsample=0.8560828021981925;, score=0.919 total time=   0.2s\n",
      "[CV 5/5] END colsample_bytree=0.7346004291734185, learning_rate=0.018888972604414182, max_depth=6, min_child_weight=1, n_estimators=164, subsample=0.8640324551553398;, score=0.849 total time=   0.1s\n",
      "[CV 1/5] END colsample_bytree=0.6128907647899967, learning_rate=0.10259270220990106, max_depth=4, min_child_weight=1, n_estimators=381, subsample=0.5661588537737381;, score=0.925 total time=   0.1s\n",
      "[CV 4/5] END colsample_bytree=0.5828527637697932, learning_rate=0.2930682915750034, max_depth=5, min_child_weight=2, n_estimators=329, subsample=0.5382861027403686;, score=0.915 total time=   0.1s\n",
      "[CV 2/5] END colsample_bytree=0.5950928892792711, learning_rate=0.24001775729179314, max_depth=8, min_child_weight=2, n_estimators=492, subsample=0.87143666434577;, score=0.907 total time=   0.4s\n",
      "[CV 4/5] END colsample_bytree=0.8912646329305884, learning_rate=0.2221144192689027, max_depth=8, min_child_weight=1, n_estimators=491, subsample=0.5992181249447543;, score=0.905 total time=   0.5s\n",
      "[CV 2/5] END colsample_bytree=0.7384652676591644, learning_rate=0.16444886159338387, max_depth=6, min_child_weight=1, n_estimators=447, subsample=0.8255770910093068;, score=0.913 total time=   0.3s\n",
      "[CV 2/5] END colsample_bytree=0.5949184911663314, learning_rate=0.20905371183998686, max_depth=9, min_child_weight=3, n_estimators=270, subsample=0.9584575891145621;, score=0.903 total time=   0.2s\n",
      "[CV 5/5] END colsample_bytree=0.7721882428956437, learning_rate=0.2622835563430857, max_depth=6, min_child_weight=3, n_estimators=473, subsample=0.8360120120237464;, score=0.916 total time=   0.3s\n",
      "[CV 3/5] END colsample_bytree=0.5612304383151866, learning_rate=0.23756222361454585, max_depth=6, min_child_weight=1, n_estimators=472, subsample=0.8325915834987467;, score=0.920 total time=   0.3s\n",
      "[CV 3/5] END colsample_bytree=0.6429276412311167, learning_rate=0.11692741477927042, max_depth=9, min_child_weight=2, n_estimators=228, subsample=0.7377871164683986;, score=0.921 total time=   0.2s\n",
      "[CV 1/5] END colsample_bytree=0.8850201853287518, learning_rate=0.2946008909729073, max_depth=8, min_child_weight=2, n_estimators=274, subsample=0.4295163153995134;, score=0.880 total time=   0.3s\n",
      "[CV 1/5] END colsample_bytree=0.6845677333856455, learning_rate=0.037091840688915835, max_depth=7, min_child_weight=1, n_estimators=313, subsample=0.7696763938340705;, score=0.916 total time=   0.2s\n",
      "[CV 5/5] END colsample_bytree=0.6845677333856455, learning_rate=0.037091840688915835, max_depth=7, min_child_weight=1, n_estimators=313, subsample=0.7696763938340705;, score=0.937 total time=   0.2s\n",
      "[CV 1/5] END colsample_bytree=0.658980460194543, learning_rate=0.20681803380919145, max_depth=5, min_child_weight=2, n_estimators=240, subsample=0.7774324899552882;, score=0.918 total time=   0.1s\n",
      "[CV 1/5] END colsample_bytree=0.8207531888794941, learning_rate=0.21277367607256217, max_depth=7, min_child_weight=1, n_estimators=364, subsample=0.7982976757659939;, score=0.934 total time=   0.3s\n",
      "[CV 4/5] END colsample_bytree=0.8741288980772026, learning_rate=0.23925621477472064, max_depth=8, min_child_weight=3, n_estimators=352, subsample=0.9770782441764907;, score=0.898 total time=   0.3s\n",
      "[CV 5/5] END colsample_bytree=0.8352605402897357, learning_rate=0.06673328629797655, max_depth=9, min_child_weight=1, n_estimators=305, subsample=0.3472256678918349;, score=0.912 total time=   0.2s\n",
      "[CV 1/5] END colsample_bytree=0.9135015582660202, learning_rate=0.15372689696478242, max_depth=7, min_child_weight=1, n_estimators=471, subsample=0.7238535515583988;, score=0.931 total time=   0.4s\n",
      "[CV 1/5] END colsample_bytree=0.8907993123284983, learning_rate=0.11331446732742019, max_depth=4, min_child_weight=3, n_estimators=180, subsample=0.8421018244386651;, score=0.926 total time=   0.1s\n",
      "[CV 2/5] END colsample_bytree=0.8907993123284983, learning_rate=0.11331446732742019, max_depth=4, min_child_weight=3, n_estimators=180, subsample=0.8421018244386651;, score=0.906 total time=   0.1s\n",
      "[CV 5/5] END colsample_bytree=0.8907993123284983, learning_rate=0.11331446732742019, max_depth=4, min_child_weight=3, n_estimators=180, subsample=0.8421018244386651;, score=0.913 total time=   0.1s\n",
      "[CV 1/5] END colsample_bytree=0.7293042751156595, learning_rate=0.15426994028925198, max_depth=4, min_child_weight=1, n_estimators=426, subsample=0.6198093206400364;, score=0.929 total time=   0.2s\n",
      "[CV 1/5] END colsample_bytree=0.8628326452685318, learning_rate=0.08551120683176276, max_depth=3, min_child_weight=3, n_estimators=211, subsample=0.7782176217314494;, score=0.918 total time=   0.1s\n",
      "[CV 2/5] END colsample_bytree=0.8628326452685318, learning_rate=0.08551120683176276, max_depth=3, min_child_weight=3, n_estimators=211, subsample=0.7782176217314494;, score=0.906 total time=   0.1s\n",
      "[CV 1/5] END colsample_bytree=0.7998823941117593, learning_rate=0.22608244727795287, max_depth=8, min_child_weight=3, n_estimators=168, subsample=0.3847697007749792;, score=0.915 total time=   0.1s\n",
      "[CV 2/5] END colsample_bytree=0.7998823941117593, learning_rate=0.22608244727795287, max_depth=8, min_child_weight=3, n_estimators=168, subsample=0.3847697007749792;, score=0.899 total time=   0.1s\n",
      "[CV 2/5] END colsample_bytree=0.5028264230170217, learning_rate=0.1503829108878642, max_depth=6, min_child_weight=3, n_estimators=320, subsample=0.7921001683027522;, score=0.908 total time=   0.2s\n",
      "[CV 3/5] END colsample_bytree=0.5028264230170217, learning_rate=0.1503829108878642, max_depth=6, min_child_weight=3, n_estimators=320, subsample=0.7921001683027522;, score=0.896 total time=   0.2s\n",
      "[CV 5/5] END colsample_bytree=0.6327348645005346, learning_rate=0.03888040417565769, max_depth=6, min_child_weight=2, n_estimators=255, subsample=0.7095949209235477;, score=0.906 total time=   0.2s\n",
      "[CV 5/5] END colsample_bytree=0.6659390925384017, learning_rate=0.026560865094244046, max_depth=4, min_child_weight=1, n_estimators=228, subsample=0.6055311915361645;, score=0.899 total time=   0.1s\n",
      "[CV 4/5] END colsample_bytree=0.5064521023081668, learning_rate=0.19163506294337532, max_depth=7, min_child_weight=1, n_estimators=345, subsample=0.6900204882513767;, score=0.908 total time=   0.2s\n",
      "[CV 1/5] END colsample_bytree=0.9448352156565575, learning_rate=0.0508448808452049, max_depth=3, min_child_weight=3, n_estimators=335, subsample=0.3896572736429895;, score=0.934 total time=   0.1s\n",
      "[CV 1/5] END colsample_bytree=0.9095610107760941, learning_rate=0.2408995004151816, max_depth=8, min_child_weight=2, n_estimators=480, subsample=0.6543932703328524;, score=0.929 total time=   0.4s\n",
      "[CV 2/5] END colsample_bytree=0.9095610107760941, learning_rate=0.2408995004151816, max_depth=8, min_child_weight=2, n_estimators=480, subsample=0.6543932703328524;, score=0.905 total time=   0.4s\n",
      "[CV 4/5] END colsample_bytree=0.6034124990381091, learning_rate=0.1336491935337133, max_depth=4, min_child_weight=3, n_estimators=460, subsample=0.9555474695103636;, score=0.926 total time=   0.2s\n",
      "[CV 5/5] END colsample_bytree=0.6034124990381091, learning_rate=0.1336491935337133, max_depth=4, min_child_weight=3, n_estimators=460, subsample=0.9555474695103636;, score=0.917 total time=   0.2s\n",
      "[CV 3/5] END colsample_bytree=0.7562664996598729, learning_rate=0.08581006781286536, max_depth=6, min_child_weight=1, n_estimators=248, subsample=0.7518935338629913;, score=0.915 total time=   0.2s\n",
      "[CV 4/5] END colsample_bytree=0.7562664996598729, learning_rate=0.08581006781286536, max_depth=6, min_child_weight=1, n_estimators=248, subsample=0.7518935338629913;, score=0.900 total time=   0.2s\n",
      "[CV 5/5] END colsample_bytree=0.6429093750256056, learning_rate=0.08022299121763524, max_depth=3, min_child_weight=1, n_estimators=310, subsample=0.7639138626261868;, score=0.917 total time=   0.1s\n",
      "[CV 1/5] END colsample_bytree=0.8458929765274925, learning_rate=0.05368591975762641, max_depth=3, min_child_weight=2, n_estimators=310, subsample=0.6691474443572243;, score=0.932 total time=   0.1s\n",
      "[CV 5/5] END colsample_bytree=0.6638314741388824, learning_rate=0.12337963348759304, max_depth=5, min_child_weight=2, n_estimators=476, subsample=0.5237335841568537;, score=0.913 total time=   0.2s\n",
      "[CV 1/5] END colsample_bytree=0.6745832060385054, learning_rate=0.05399264908170335, max_depth=4, min_child_weight=1, n_estimators=467, subsample=0.33164971382991126;, score=0.940 total time=   0.2s\n",
      "[CV 2/5] END colsample_bytree=0.7381796567434641, learning_rate=0.2522054978277282, max_depth=6, min_child_weight=1, n_estimators=321, subsample=0.9349110166436059;, score=0.913 total time=   0.2s\n",
      "[CV 4/5] END colsample_bytree=0.860816451826641, learning_rate=0.23607661480576342, max_depth=3, min_child_weight=3, n_estimators=210, subsample=0.6988323422246786;, score=0.923 total time=   0.1s\n",
      "[CV 5/5] END colsample_bytree=0.5338173695003847, learning_rate=0.1753942499079638, max_depth=5, min_child_weight=3, n_estimators=270, subsample=0.7733630241280571;, score=0.921 total time=   0.1s\n",
      "[CV 3/5] END colsample_bytree=0.8175218576996528, learning_rate=0.24072884693548566, max_depth=6, min_child_weight=3, n_estimators=465, subsample=0.8682621305022311;, score=0.914 total time=   0.3s\n",
      "[CV 1/5] END colsample_bytree=0.6701666572127698, learning_rate=0.2503254616924945, max_depth=4, min_child_weight=1, n_estimators=188, subsample=0.5664435059701372;, score=0.915 total time=   0.1s\n",
      "[CV 2/5] END colsample_bytree=0.6701666572127698, learning_rate=0.2503254616924945, max_depth=4, min_child_weight=1, n_estimators=188, subsample=0.5664435059701372;, score=0.921 total time=   0.1s\n",
      "[CV 5/5] END colsample_bytree=0.5935884931961738, learning_rate=0.22098693560760338, max_depth=6, min_child_weight=2, n_estimators=225, subsample=0.8873744934273502;, score=0.898 total time=   0.1s\n",
      "[CV 1/5] END colsample_bytree=0.6130411744326181, learning_rate=0.23391283952642658, max_depth=5, min_child_weight=3, n_estimators=418, subsample=0.9608110493730138;, score=0.921 total time=   0.2s\n",
      "[CV 2/5] END colsample_bytree=0.7821416069753125, learning_rate=0.04643686547778453, max_depth=8, min_child_weight=1, n_estimators=272, subsample=0.6984785001301271;, score=0.925 total time=   0.2s\n",
      "[CV 3/5] END colsample_bytree=0.7821416069753125, learning_rate=0.04643686547778453, max_depth=8, min_child_weight=1, n_estimators=272, subsample=0.6984785001301271;, score=0.931 total time=   0.2s\n",
      "[CV 5/5] END colsample_bytree=0.6758061137426097, learning_rate=0.25595238140245125, max_depth=5, min_child_weight=1, n_estimators=436, subsample=0.7819871190759129;, score=0.918 total time=   0.2s\n",
      "[CV 1/5] END colsample_bytree=0.7297036695438972, learning_rate=0.21212743741339904, max_depth=9, min_child_weight=1, n_estimators=242, subsample=0.46165896913630494;, score=0.911 total time=   0.2s\n",
      "[CV 3/5] END colsample_bytree=0.7178000946307121, learning_rate=0.30480976631830814, max_depth=4, min_child_weight=2, n_estimators=329, subsample=0.5881102831412145;, score=0.923 total time=   0.1s\n",
      "[CV 4/5] END colsample_bytree=0.7178000946307121, learning_rate=0.30480976631830814, max_depth=4, min_child_weight=2, n_estimators=329, subsample=0.5881102831412145;, score=0.914 total time=   0.1s\n",
      "[CV 1/5] END colsample_bytree=0.7957328656873287, learning_rate=0.1646167169778573, max_depth=5, min_child_weight=3, n_estimators=336, subsample=0.6392175651890286;, score=0.920 total time=   0.2s\n",
      "[CV 2/5] END colsample_bytree=0.7957328656873287, learning_rate=0.1646167169778573, max_depth=5, min_child_weight=3, n_estimators=336, subsample=0.6392175651890286;, score=0.909 total time=   0.2s\n",
      "[CV 2/5] END colsample_bytree=0.5480363559969418, learning_rate=0.2168068648014577, max_depth=3, min_child_weight=1, n_estimators=237, subsample=0.839031077875801;, score=0.915 total time=   0.1s\n",
      "[CV 3/5] END colsample_bytree=0.5480363559969418, learning_rate=0.2168068648014577, max_depth=3, min_child_weight=1, n_estimators=237, subsample=0.839031077875801;, score=0.938 total time=   0.1s\n",
      "[CV 5/5] END colsample_bytree=0.762745739605424, learning_rate=0.03606033418897322, max_depth=3, min_child_weight=1, n_estimators=458, subsample=0.7702094204013971;, score=0.922 total time=   0.2s\n",
      "[CV 2/5] END colsample_bytree=0.5538419869116598, learning_rate=0.18356561215922104, max_depth=6, min_child_weight=3, n_estimators=231, subsample=0.560063197014788;, score=0.909 total time=   0.1s\n",
      "[CV 4/5] END colsample_bytree=0.6794128020418015, learning_rate=0.1920635975680169, max_depth=6, min_child_weight=1, n_estimators=220, subsample=0.4845660998826722;, score=0.906 total time=   0.1s\n",
      "[CV 2/5] END colsample_bytree=0.7553979879759445, learning_rate=0.30192679222556895, max_depth=8, min_child_weight=3, n_estimators=400, subsample=0.5988548691095095;, score=0.884 total time=   0.3s\n",
      "[CV 5/5] END colsample_bytree=0.6749582553599609, learning_rate=0.16025171731946772, max_depth=6, min_child_weight=1, n_estimators=382, subsample=0.7848875042430252;, score=0.903 total time=   0.2s\n",
      "[CV 1/5] END colsample_bytree=0.687135201749967, learning_rate=0.256515137135965, max_depth=9, min_child_weight=2, n_estimators=193, subsample=0.5487080139996783;, score=0.915 total time=   0.2s\n",
      "[CV 2/5] END colsample_bytree=0.6357220920912343, learning_rate=0.05886215248843644, max_depth=4, min_child_weight=3, n_estimators=324, subsample=0.699768994123298;, score=0.911 total time=   0.1s\n",
      "[CV 3/5] END colsample_bytree=0.6357220920912343, learning_rate=0.05886215248843644, max_depth=4, min_child_weight=3, n_estimators=324, subsample=0.699768994123298;, score=0.907 total time=   0.1s\n",
      "[CV 2/5] END colsample_bytree=0.8397729292752041, learning_rate=0.2617707701389024, max_depth=4, min_child_weight=1, n_estimators=231, subsample=0.7390420988834663;, score=0.887 total time=   0.1s\n",
      "[CV 3/5] END colsample_bytree=0.8397729292752041, learning_rate=0.2617707701389024, max_depth=4, min_child_weight=1, n_estimators=231, subsample=0.7390420988834663;, score=0.911 total time=   0.1s\n",
      "[CV 4/5] END colsample_bytree=0.7795033397762938, learning_rate=0.13048096489316283, max_depth=5, min_child_weight=2, n_estimators=412, subsample=0.9718709252932884;, score=0.904 total time=   0.2s\n",
      "[CV 5/5] END colsample_bytree=0.7795033397762938, learning_rate=0.13048096489316283, max_depth=5, min_child_weight=2, n_estimators=412, subsample=0.9718709252932884;, score=0.919 total time=   0.2s\n",
      "[CV 5/5] END colsample_bytree=0.770486251433288, learning_rate=0.01843868012301047, max_depth=7, min_child_weight=1, n_estimators=313, subsample=0.3378521695727145;, score=0.905 total time=   0.2s\n",
      "[CV 1/5] END colsample_bytree=0.853888540606428, learning_rate=0.12671574771933447, max_depth=5, min_child_weight=3, n_estimators=350, subsample=0.341613894536461;, score=0.929 total time=   0.2s\n",
      "[CV 4/5] END colsample_bytree=0.5525661002865564, learning_rate=0.06772038634888945, max_depth=5, min_child_weight=3, n_estimators=475, subsample=0.8490108466352804;, score=0.910 total time=   0.2s\n",
      "[CV 5/5] END colsample_bytree=0.5525661002865564, learning_rate=0.06772038634888945, max_depth=5, min_child_weight=3, n_estimators=475, subsample=0.8490108466352804;, score=0.921 total time=   0.2s\n",
      "[CV 2/5] END colsample_bytree=0.8802655407677862, learning_rate=0.2495685071586038, max_depth=4, min_child_weight=3, n_estimators=352, subsample=0.7426129260084131;, score=0.898 total time=   0.2s\n",
      "[CV 3/5] END colsample_bytree=0.671957566005949, learning_rate=0.2325907365345849, max_depth=8, min_child_weight=3, n_estimators=493, subsample=0.6409897486435672;, score=0.905 total time=   0.3s\n",
      "[CV 4/5] END colsample_bytree=0.5501627193225724, learning_rate=0.037993425166570054, max_depth=3, min_child_weight=2, n_estimators=363, subsample=0.9906320755843006;, score=0.911 total time=   0.1s\n",
      "[CV 5/5] END colsample_bytree=0.5501627193225724, learning_rate=0.037993425166570054, max_depth=3, min_child_weight=2, n_estimators=363, subsample=0.9906320755843006;, score=0.911 total time=   0.1s\n",
      "[CV 5/5] END colsample_bytree=0.6824006618655355, learning_rate=0.2518837801266726, max_depth=6, min_child_weight=2, n_estimators=228, subsample=0.8016711054374506;, score=0.904 total time=   0.1s\n",
      "[CV 1/5] END colsample_bytree=0.8365166022774724, learning_rate=0.11986957827476478, max_depth=3, min_child_weight=1, n_estimators=379, subsample=0.62595063889955;, score=0.924 total time=   0.1s\n",
      "[CV 4/5] END colsample_bytree=0.912411946596137, learning_rate=0.04326542087220545, max_depth=4, min_child_weight=2, n_estimators=304, subsample=0.9740770907494312;, score=0.907 total time=   0.1s\n",
      "[CV 3/5] END colsample_bytree=0.5828527637697932, learning_rate=0.2930682915750034, max_depth=5, min_child_weight=2, n_estimators=329, subsample=0.5382861027403686;, score=0.898 total time=   0.2s\n",
      "[CV 2/5] END colsample_bytree=0.8251074607655813, learning_rate=0.3066120938226911, max_depth=6, min_child_weight=3, n_estimators=356, subsample=0.6546034440962204;, score=0.881 total time=   0.2s\n",
      "[CV 5/5] END colsample_bytree=0.8251074607655813, learning_rate=0.3066120938226911, max_depth=6, min_child_weight=3, n_estimators=356, subsample=0.6546034440962204;, score=0.927 total time=   0.2s\n",
      "[CV 4/5] END colsample_bytree=0.6945632949491531, learning_rate=0.12056031791987, max_depth=4, min_child_weight=2, n_estimators=285, subsample=0.6609531958856669;, score=0.909 total time=   0.1s\n",
      "[CV 2/5] END colsample_bytree=0.6411928470143597, learning_rate=0.01761999621939663, max_depth=4, min_child_weight=1, n_estimators=252, subsample=0.9698751356867945;, score=0.886 total time=   0.1s\n",
      "[CV 5/5] END colsample_bytree=0.6411928470143597, learning_rate=0.01761999621939663, max_depth=4, min_child_weight=1, n_estimators=252, subsample=0.9698751356867945;, score=0.909 total time=   0.1s\n",
      "[CV 2/5] END colsample_bytree=0.7620451632601493, learning_rate=0.13867413867258951, max_depth=6, min_child_weight=2, n_estimators=211, subsample=0.4495926715411526;, score=0.914 total time=   0.1s\n",
      "[CV 4/5] END colsample_bytree=0.7620451632601493, learning_rate=0.13867413867258951, max_depth=6, min_child_weight=2, n_estimators=211, subsample=0.4495926715411526;, score=0.917 total time=   0.1s\n",
      "[CV 1/5] END colsample_bytree=0.7721882428956437, learning_rate=0.2622835563430857, max_depth=6, min_child_weight=3, n_estimators=473, subsample=0.8360120120237464;, score=0.908 total time=   0.3s\n",
      "[CV 5/5] END colsample_bytree=0.8472376848951158, learning_rate=0.17764577835242198, max_depth=7, min_child_weight=3, n_estimators=406, subsample=0.5112769114921843;, score=0.931 total time=   0.3s\n",
      "[CV 2/5] END colsample_bytree=0.9409736590926789, learning_rate=0.04764535730325267, max_depth=3, min_child_weight=2, n_estimators=457, subsample=0.7049997936156244;, score=0.907 total time=   0.2s\n",
      "[CV 5/5] END colsample_bytree=0.6429276412311167, learning_rate=0.11692741477927042, max_depth=9, min_child_weight=2, n_estimators=228, subsample=0.7377871164683986;, score=0.932 total time=   0.2s\n",
      "[CV 3/5] END colsample_bytree=0.8850201853287518, learning_rate=0.2946008909729073, max_depth=8, min_child_weight=2, n_estimators=274, subsample=0.4295163153995134;, score=0.894 total time=   0.2s\n",
      "[CV 5/5] END colsample_bytree=0.596365521411854, learning_rate=0.270079748484007, max_depth=7, min_child_weight=1, n_estimators=496, subsample=0.9589996445433266;, score=0.919 total time=   0.3s\n",
      "[CV 1/5] END colsample_bytree=0.5865842146863426, learning_rate=0.0708421081398171, max_depth=3, min_child_weight=3, n_estimators=359, subsample=0.6110275036864656;, score=0.915 total time=   0.1s\n",
      "[CV 3/5] END colsample_bytree=0.8982424956053876, learning_rate=0.17136820718639942, max_depth=6, min_child_weight=1, n_estimators=226, subsample=0.914493243996463;, score=0.928 total time=   0.2s\n",
      "[CV 3/5] END colsample_bytree=0.6271501496633742, learning_rate=0.2727270795420865, max_depth=3, min_child_weight=1, n_estimators=244, subsample=0.903965642060665;, score=0.876 total time=   0.1s\n",
      "[CV 1/5] END colsample_bytree=0.8741288980772026, learning_rate=0.23925621477472064, max_depth=8, min_child_weight=3, n_estimators=352, subsample=0.9770782441764907;, score=0.923 total time=   0.3s\n",
      "[CV 2/5] END colsample_bytree=0.883300167215453, learning_rate=0.10644753627257515, max_depth=8, min_child_weight=3, n_estimators=422, subsample=0.5365231960582166;, score=0.903 total time=   0.4s\n",
      "[CV 3/5] END colsample_bytree=0.883300167215453, learning_rate=0.10644753627257515, max_depth=8, min_child_weight=3, n_estimators=422, subsample=0.5365231960582166;, score=0.891 total time=   0.4s\n",
      "[CV 2/5] END colsample_bytree=0.6228260351002136, learning_rate=0.10561963436219139, max_depth=4, min_child_weight=1, n_estimators=375, subsample=0.3957335695509776;, score=0.912 total time=   0.1s\n",
      "[CV 3/5] END colsample_bytree=0.6228260351002136, learning_rate=0.10561963436219139, max_depth=4, min_child_weight=1, n_estimators=375, subsample=0.3957335695509776;, score=0.906 total time=   0.1s\n",
      "[CV 2/5] END colsample_bytree=0.7293042751156595, learning_rate=0.15426994028925198, max_depth=4, min_child_weight=1, n_estimators=426, subsample=0.6198093206400364;, score=0.904 total time=   0.2s\n",
      "[CV 3/5] END colsample_bytree=0.7293042751156595, learning_rate=0.15426994028925198, max_depth=4, min_child_weight=1, n_estimators=426, subsample=0.6198093206400364;, score=0.908 total time=   0.2s\n",
      "[CV 3/5] END colsample_bytree=0.8628326452685318, learning_rate=0.08551120683176276, max_depth=3, min_child_weight=3, n_estimators=211, subsample=0.7782176217314494;, score=0.892 total time=   0.1s\n",
      "[CV 4/5] END colsample_bytree=0.8628326452685318, learning_rate=0.08551120683176276, max_depth=3, min_child_weight=3, n_estimators=211, subsample=0.7782176217314494;, score=0.911 total time=   0.1s\n",
      "[CV 1/5] END colsample_bytree=0.694837236107995, learning_rate=0.1053285343643135, max_depth=8, min_child_weight=3, n_estimators=281, subsample=0.3709403233188012;, score=0.936 total time=   0.2s\n",
      "[CV 2/5] END colsample_bytree=0.694837236107995, learning_rate=0.1053285343643135, max_depth=8, min_child_weight=3, n_estimators=281, subsample=0.3709403233188012;, score=0.909 total time=   0.2s\n",
      "[CV 4/5] END colsample_bytree=0.6684290011825013, learning_rate=0.1947186582951404, max_depth=7, min_child_weight=1, n_estimators=215, subsample=0.622525346822645;, score=0.898 total time=   0.1s\n",
      "[CV 5/5] END colsample_bytree=0.6684290011825013, learning_rate=0.1947186582951404, max_depth=7, min_child_weight=1, n_estimators=215, subsample=0.622525346822645;, score=0.897 total time=   0.1s\n",
      "[CV 4/5] END colsample_bytree=0.9423876888200939, learning_rate=0.17173746135258813, max_depth=5, min_child_weight=2, n_estimators=177, subsample=0.8690113530606967;, score=0.918 total time=   0.1s\n",
      "[CV 2/5] END colsample_bytree=0.5064521023081668, learning_rate=0.19163506294337532, max_depth=7, min_child_weight=1, n_estimators=345, subsample=0.6900204882513767;, score=0.917 total time=   0.2s\n",
      "[CV 4/5] END colsample_bytree=0.6971897674532384, learning_rate=0.08255394455680529, max_depth=8, min_child_weight=3, n_estimators=491, subsample=0.9044220920495936;, score=0.896 total time=   0.4s\n",
      "[CV 5/5] END colsample_bytree=0.6722527454145587, learning_rate=0.09951772570597589, max_depth=5, min_child_weight=1, n_estimators=165, subsample=0.7331063977295481;, score=0.914 total time=   0.1s\n",
      "[CV 1/5] END colsample_bytree=0.8599694231019941, learning_rate=0.07669053007271537, max_depth=5, min_child_weight=1, n_estimators=181, subsample=0.7936343347494275;, score=0.937 total time=   0.1s\n",
      "[CV 1/5] END colsample_bytree=0.9304836334584344, learning_rate=0.3060792694493511, max_depth=3, min_child_weight=3, n_estimators=263, subsample=0.5973600457675619;, score=0.929 total time=   0.1s\n",
      "[CV 2/5] END colsample_bytree=0.9304836334584344, learning_rate=0.3060792694493511, max_depth=3, min_child_weight=3, n_estimators=263, subsample=0.5973600457675619;, score=0.900 total time=   0.1s\n",
      "[CV 1/5] END colsample_bytree=0.8057024546789733, learning_rate=0.21212196781741827, max_depth=4, min_child_weight=2, n_estimators=453, subsample=0.4679605808820978;, score=0.942 total time=   0.2s\n",
      "[CV 2/5] END colsample_bytree=0.8057024546789733, learning_rate=0.21212196781741827, max_depth=4, min_child_weight=2, n_estimators=453, subsample=0.4679605808820978;, score=0.904 total time=   0.2s\n",
      "[CV 4/5] END colsample_bytree=0.591790926558744, learning_rate=0.2976802746807924, max_depth=4, min_child_weight=3, n_estimators=211, subsample=0.6642738558787606;, score=0.915 total time=   0.1s\n",
      "[CV 5/5] END colsample_bytree=0.591790926558744, learning_rate=0.2976802746807924, max_depth=4, min_child_weight=3, n_estimators=211, subsample=0.6642738558787606;, score=0.917 total time=   0.1s\n",
      "[CV 4/5] END colsample_bytree=0.7208924781863753, learning_rate=0.0952309728542781, max_depth=4, min_child_weight=3, n_estimators=284, subsample=0.9804819768856787;, score=0.916 total time=   0.1s\n",
      "[CV 5/5] END colsample_bytree=0.7208924781863753, learning_rate=0.0952309728542781, max_depth=4, min_child_weight=3, n_estimators=284, subsample=0.9804819768856787;, score=0.915 total time=   0.1s\n",
      "[CV 4/5] END colsample_bytree=0.7677090164711498, learning_rate=0.1507586222751454, max_depth=5, min_child_weight=1, n_estimators=258, subsample=0.5399700192610141;, score=0.917 total time=   0.1s\n",
      "[CV 5/5] END colsample_bytree=0.7677090164711498, learning_rate=0.1507586222751454, max_depth=5, min_child_weight=1, n_estimators=258, subsample=0.5399700192610141;, score=0.916 total time=   0.1s\n",
      "[CV 2/5] END colsample_bytree=0.6745832060385054, learning_rate=0.05399264908170335, max_depth=4, min_child_weight=1, n_estimators=467, subsample=0.33164971382991126;, score=0.923 total time=   0.2s\n",
      "[CV 3/5] END colsample_bytree=0.6745832060385054, learning_rate=0.05399264908170335, max_depth=4, min_child_weight=1, n_estimators=467, subsample=0.33164971382991126;, score=0.905 total time=   0.1s\n",
      "[CV 5/5] END colsample_bytree=0.8575419565651514, learning_rate=0.06039437832085438, max_depth=8, min_child_weight=3, n_estimators=342, subsample=0.8649517072830082;, score=0.910 total time=   0.3s\n",
      "[CV 5/5] END colsample_bytree=0.860816451826641, learning_rate=0.23607661480576342, max_depth=3, min_child_weight=3, n_estimators=210, subsample=0.6988323422246786;, score=0.920 total time=   0.1s\n",
      "[CV 3/5] END colsample_bytree=0.7663553293542189, learning_rate=0.13690191709848953, max_depth=9, min_child_weight=1, n_estimators=288, subsample=0.32578577311262846;, score=0.926 total time=   0.2s\n",
      "[CV 1/5] END colsample_bytree=0.8708796171437739, learning_rate=0.210987434199535, max_depth=9, min_child_weight=2, n_estimators=247, subsample=0.5476866880612441;, score=0.908 total time=   0.2s\n",
      "[CV 2/5] END colsample_bytree=0.894310369232056, learning_rate=0.014531213240489008, max_depth=8, min_child_weight=1, n_estimators=234, subsample=0.847362057587637;, score=0.915 total time=   0.2s\n",
      "[CV 3/5] END colsample_bytree=0.894310369232056, learning_rate=0.014531213240489008, max_depth=8, min_child_weight=1, n_estimators=234, subsample=0.847362057587637;, score=0.909 total time=   0.2s\n",
      "[CV 4/5] END colsample_bytree=0.7821416069753125, learning_rate=0.04643686547778453, max_depth=8, min_child_weight=1, n_estimators=272, subsample=0.6984785001301271;, score=0.904 total time=   0.2s\n",
      "[CV 5/5] END colsample_bytree=0.7821416069753125, learning_rate=0.04643686547778453, max_depth=8, min_child_weight=1, n_estimators=272, subsample=0.6984785001301271;, score=0.932 total time=   0.2s\n",
      "[CV 4/5] END colsample_bytree=0.7297036695438972, learning_rate=0.21212743741339904, max_depth=9, min_child_weight=1, n_estimators=242, subsample=0.46165896913630494;, score=0.912 total time=   0.2s\n",
      "[CV 5/5] END colsample_bytree=0.7297036695438972, learning_rate=0.21212743741339904, max_depth=9, min_child_weight=1, n_estimators=242, subsample=0.46165896913630494;, score=0.896 total time=   0.2s\n",
      "[CV 2/5] END colsample_bytree=0.6297846487583291, learning_rate=0.22146565368246268, max_depth=9, min_child_weight=2, n_estimators=457, subsample=0.672280275856584;, score=0.914 total time=   0.4s\n",
      "[CV 3/5] END colsample_bytree=0.6297846487583291, learning_rate=0.22146565368246268, max_depth=9, min_child_weight=2, n_estimators=457, subsample=0.672280275856584;, score=0.908 total time=   0.4s\n",
      "[CV 4/5] END colsample_bytree=0.762745739605424, learning_rate=0.03606033418897322, max_depth=3, min_child_weight=1, n_estimators=458, subsample=0.7702094204013971;, score=0.909 total time=   0.2s\n",
      "[CV 1/5] END colsample_bytree=0.5538419869116598, learning_rate=0.18356561215922104, max_depth=6, min_child_weight=3, n_estimators=231, subsample=0.560063197014788;, score=0.919 total time=   0.1s\n",
      "[CV 5/5] END colsample_bytree=0.5538419869116598, learning_rate=0.18356561215922104, max_depth=6, min_child_weight=3, n_estimators=231, subsample=0.560063197014788;, score=0.921 total time=   0.1s\n",
      "[CV 3/5] END colsample_bytree=0.6465118098113198, learning_rate=0.2784963218865161, max_depth=3, min_child_weight=3, n_estimators=421, subsample=0.5362584361587839;, score=0.910 total time=   0.1s\n",
      "[CV 1/5] END colsample_bytree=0.6468487781256698, learning_rate=0.12894394920270588, max_depth=6, min_child_weight=2, n_estimators=370, subsample=0.33409065126026777;, score=0.918 total time=   0.2s\n",
      "[CV 1/5] END colsample_bytree=0.6749582553599609, learning_rate=0.16025171731946772, max_depth=6, min_child_weight=1, n_estimators=382, subsample=0.7848875042430252;, score=0.929 total time=   0.2s\n",
      "[CV 2/5] END colsample_bytree=0.6749582553599609, learning_rate=0.16025171731946772, max_depth=6, min_child_weight=1, n_estimators=382, subsample=0.7848875042430252;, score=0.903 total time=   0.2s\n",
      "[CV 1/5] END colsample_bytree=0.9045334386316106, learning_rate=0.1517515512935261, max_depth=3, min_child_weight=1, n_estimators=495, subsample=0.5214817361705714;, score=0.935 total time=   0.2s\n",
      "[CV 2/5] END colsample_bytree=0.9045334386316106, learning_rate=0.1517515512935261, max_depth=3, min_child_weight=1, n_estimators=495, subsample=0.5214817361705714;, score=0.897 total time=   0.2s\n",
      "[CV 1/5] END colsample_bytree=0.7003178759063104, learning_rate=0.022099580872024707, max_depth=3, min_child_weight=2, n_estimators=339, subsample=0.9795684576365742;, score=0.888 total time=   0.1s\n",
      "[CV 2/5] END colsample_bytree=0.7003178759063104, learning_rate=0.022099580872024707, max_depth=3, min_child_weight=2, n_estimators=339, subsample=0.9795684576365742;, score=0.878 total time=   0.1s\n",
      "[CV 2/5] END colsample_bytree=0.5276057027294968, learning_rate=0.0434502078095273, max_depth=4, min_child_weight=3, n_estimators=398, subsample=0.9893363832369675;, score=0.902 total time=   0.2s\n",
      "[CV 3/5] END colsample_bytree=0.5276057027294968, learning_rate=0.0434502078095273, max_depth=4, min_child_weight=3, n_estimators=398, subsample=0.9893363832369675;, score=0.908 total time=   0.1s\n",
      "[CV 4/5] END colsample_bytree=0.8052540934955585, learning_rate=0.15909495143857233, max_depth=4, min_child_weight=2, n_estimators=208, subsample=0.5890522713524817;, score=0.912 total time=   0.1s\n",
      "[CV 5/5] END colsample_bytree=0.8052540934955585, learning_rate=0.15909495143857233, max_depth=4, min_child_weight=2, n_estimators=208, subsample=0.5890522713524817;, score=0.916 total time=   0.1s\n",
      "[CV 4/5] END colsample_bytree=0.853888540606428, learning_rate=0.12671574771933447, max_depth=5, min_child_weight=3, n_estimators=350, subsample=0.341613894536461;, score=0.918 total time=   0.2s\n",
      "[CV 5/5] END colsample_bytree=0.853888540606428, learning_rate=0.12671574771933447, max_depth=5, min_child_weight=3, n_estimators=350, subsample=0.341613894536461;, score=0.906 total time=   0.2s\n",
      "[CV 4/5] END colsample_bytree=0.8643108437295626, learning_rate=0.1909680296109365, max_depth=4, min_child_weight=2, n_estimators=437, subsample=0.5428635737864422;, score=0.913 total time=   0.2s\n",
      "[CV 1/5] END colsample_bytree=0.5402685518568627, learning_rate=0.21331487720320277, max_depth=4, min_child_weight=2, n_estimators=484, subsample=0.4274877768993332;, score=0.921 total time=   0.2s\n",
      "[CV 3/5] END colsample_bytree=0.8802655407677862, learning_rate=0.2495685071586038, max_depth=4, min_child_weight=3, n_estimators=352, subsample=0.7426129260084131;, score=0.882 total time=   0.2s\n",
      "[CV 2/5] END colsample_bytree=0.671957566005949, learning_rate=0.2325907365345849, max_depth=8, min_child_weight=3, n_estimators=493, subsample=0.6409897486435672;, score=0.943 total time=   0.4s\n",
      "[CV 2/5] END colsample_bytree=0.5501627193225724, learning_rate=0.037993425166570054, max_depth=3, min_child_weight=2, n_estimators=363, subsample=0.9906320755843006;, score=0.935 total time=   0.1s\n",
      "[CV 3/5] END colsample_bytree=0.5501627193225724, learning_rate=0.037993425166570054, max_depth=3, min_child_weight=2, n_estimators=363, subsample=0.9906320755843006;, score=0.900 total time=   0.1s\n",
      "[CV 2/5] END colsample_bytree=0.5828527637697932, learning_rate=0.2930682915750034, max_depth=5, min_child_weight=2, n_estimators=329, subsample=0.5382861027403686;, score=0.897 total time=   0.2s\n",
      "[CV 1/5] END colsample_bytree=0.8251074607655813, learning_rate=0.3066120938226911, max_depth=6, min_child_weight=3, n_estimators=356, subsample=0.6546034440962204;, score=0.902 total time=   0.2s\n",
      "[CV 4/5] END colsample_bytree=0.8251074607655813, learning_rate=0.3066120938226911, max_depth=6, min_child_weight=3, n_estimators=356, subsample=0.6546034440962204;, score=0.907 total time=   0.2s\n",
      "[CV 2/5] END colsample_bytree=0.6945632949491531, learning_rate=0.12056031791987, max_depth=4, min_child_weight=2, n_estimators=285, subsample=0.6609531958856669;, score=0.916 total time=   0.1s\n",
      "[CV 5/5] END colsample_bytree=0.6945632949491531, learning_rate=0.12056031791987, max_depth=4, min_child_weight=2, n_estimators=285, subsample=0.6609531958856669;, score=0.930 total time=   0.1s\n",
      "[CV 3/5] END colsample_bytree=0.6411928470143597, learning_rate=0.01761999621939663, max_depth=4, min_child_weight=1, n_estimators=252, subsample=0.9698751356867945;, score=0.892 total time=   0.1s\n",
      "[CV 4/5] END colsample_bytree=0.9191304923622433, learning_rate=0.06154131354601591, max_depth=4, min_child_weight=3, n_estimators=167, subsample=0.45370237148673326;, score=0.912 total time=   0.1s\n",
      "[CV 1/5] END colsample_bytree=0.7620451632601493, learning_rate=0.13867413867258951, max_depth=6, min_child_weight=2, n_estimators=211, subsample=0.4495926715411526;, score=0.900 total time=   0.1s\n",
      "[CV 5/5] END colsample_bytree=0.7620451632601493, learning_rate=0.13867413867258951, max_depth=6, min_child_weight=2, n_estimators=211, subsample=0.4495926715411526;, score=0.916 total time=   0.1s\n",
      "[CV 5/5] END colsample_bytree=0.5949184911663314, learning_rate=0.20905371183998686, max_depth=9, min_child_weight=3, n_estimators=270, subsample=0.9584575891145621;, score=0.927 total time=   0.2s\n",
      "[CV 1/5] END colsample_bytree=0.8472376848951158, learning_rate=0.17764577835242198, max_depth=7, min_child_weight=3, n_estimators=406, subsample=0.5112769114921843;, score=0.906 total time=   0.4s\n",
      "[CV 4/5] END colsample_bytree=0.9409736590926789, learning_rate=0.04764535730325267, max_depth=3, min_child_weight=2, n_estimators=457, subsample=0.7049997936156244;, score=0.919 total time=   0.2s\n",
      "[CV 2/5] END colsample_bytree=0.5551935046310184, learning_rate=0.03630255133798998, max_depth=6, min_child_weight=2, n_estimators=489, subsample=0.49191801155835313;, score=0.917 total time=   0.3s\n",
      "[CV 5/5] END colsample_bytree=0.8850201853287518, learning_rate=0.2946008909729073, max_depth=8, min_child_weight=2, n_estimators=274, subsample=0.4295163153995134;, score=0.912 total time=   0.2s\n",
      "[CV 3/5] END colsample_bytree=0.6845677333856455, learning_rate=0.037091840688915835, max_depth=7, min_child_weight=1, n_estimators=313, subsample=0.7696763938340705;, score=0.936 total time=   0.2s\n",
      "[CV 5/5] END colsample_bytree=0.6017862157034561, learning_rate=0.2801679098994585, max_depth=5, min_child_weight=2, n_estimators=158, subsample=0.9609291722223101;, score=0.931 total time=   0.1s\n",
      "[CV 1/5] END colsample_bytree=0.8982424956053876, learning_rate=0.17136820718639942, max_depth=6, min_child_weight=1, n_estimators=226, subsample=0.914493243996463;, score=0.925 total time=   0.2s\n",
      "[CV 4/5] END colsample_bytree=0.658980460194543, learning_rate=0.20681803380919145, max_depth=5, min_child_weight=2, n_estimators=240, subsample=0.7774324899552882;, score=0.909 total time=   0.1s\n",
      "[CV 1/5] END colsample_bytree=0.6271501496633742, learning_rate=0.2727270795420865, max_depth=3, min_child_weight=1, n_estimators=244, subsample=0.903965642060665;, score=0.937 total time=   0.1s\n",
      "[CV 4/5] END colsample_bytree=0.6271501496633742, learning_rate=0.2727270795420865, max_depth=3, min_child_weight=1, n_estimators=244, subsample=0.903965642060665;, score=0.919 total time=   0.1s\n",
      "[CV 2/5] END colsample_bytree=0.8741288980772026, learning_rate=0.23925621477472064, max_depth=8, min_child_weight=3, n_estimators=352, subsample=0.9770782441764907;, score=0.903 total time=   0.3s\n",
      "[CV 4/5] END colsample_bytree=0.883300167215453, learning_rate=0.10644753627257515, max_depth=8, min_child_weight=3, n_estimators=422, subsample=0.5365231960582166;, score=0.913 total time=   0.4s\n",
      "[CV 5/5] END colsample_bytree=0.883300167215453, learning_rate=0.10644753627257515, max_depth=8, min_child_weight=3, n_estimators=422, subsample=0.5365231960582166;, score=0.913 total time=   0.4s\n",
      "[CV 4/5] END colsample_bytree=0.6228260351002136, learning_rate=0.10561963436219139, max_depth=4, min_child_weight=1, n_estimators=375, subsample=0.3957335695509776;, score=0.919 total time=   0.1s\n",
      "[CV 5/5] END colsample_bytree=0.6228260351002136, learning_rate=0.10561963436219139, max_depth=4, min_child_weight=1, n_estimators=375, subsample=0.3957335695509776;, score=0.907 total time=   0.1s\n",
      "[CV 3/5] END colsample_bytree=0.6143025170018108, learning_rate=0.11527716977673863, max_depth=5, min_child_weight=1, n_estimators=430, subsample=0.7407692661495429;, score=0.908 total time=   0.2s\n",
      "[CV 4/5] END colsample_bytree=0.6143025170018108, learning_rate=0.11527716977673863, max_depth=5, min_child_weight=1, n_estimators=430, subsample=0.7407692661495429;, score=0.910 total time=   0.2s\n",
      "[CV 3/5] END colsample_bytree=0.7998823941117593, learning_rate=0.22608244727795287, max_depth=8, min_child_weight=3, n_estimators=168, subsample=0.3847697007749792;, score=0.885 total time=   0.1s\n",
      "[CV 4/5] END colsample_bytree=0.7998823941117593, learning_rate=0.22608244727795287, max_depth=8, min_child_weight=3, n_estimators=168, subsample=0.3847697007749792;, score=0.914 total time=   0.1s\n",
      "[CV 4/5] END colsample_bytree=0.5028264230170217, learning_rate=0.1503829108878642, max_depth=6, min_child_weight=3, n_estimators=320, subsample=0.7921001683027522;, score=0.908 total time=   0.2s\n",
      "[CV 5/5] END colsample_bytree=0.5028264230170217, learning_rate=0.1503829108878642, max_depth=6, min_child_weight=3, n_estimators=320, subsample=0.7921001683027522;, score=0.903 total time=   0.2s\n",
      "[CV 1/5] END colsample_bytree=0.6659390925384017, learning_rate=0.026560865094244046, max_depth=4, min_child_weight=1, n_estimators=228, subsample=0.6055311915361645;, score=0.906 total time=   0.1s\n",
      "[CV 2/5] END colsample_bytree=0.9423876888200939, learning_rate=0.17173746135258813, max_depth=5, min_child_weight=2, n_estimators=177, subsample=0.8690113530606967;, score=0.901 total time=   0.1s\n",
      "[CV 3/5] END colsample_bytree=0.5064521023081668, learning_rate=0.19163506294337532, max_depth=7, min_child_weight=1, n_estimators=345, subsample=0.6900204882513767;, score=0.894 total time=   0.2s\n",
      "[CV 5/5] END colsample_bytree=0.6971897674532384, learning_rate=0.08255394455680529, max_depth=8, min_child_weight=3, n_estimators=491, subsample=0.9044220920495936;, score=0.907 total time=   0.4s\n",
      "[CV 3/5] END colsample_bytree=0.6722527454145587, learning_rate=0.09951772570597589, max_depth=5, min_child_weight=1, n_estimators=165, subsample=0.7331063977295481;, score=0.913 total time=   0.1s\n",
      "[CV 4/5] END colsample_bytree=0.6722527454145587, learning_rate=0.09951772570597589, max_depth=5, min_child_weight=1, n_estimators=165, subsample=0.7331063977295481;, score=0.907 total time=   0.1s\n",
      "[CV 4/5] END colsample_bytree=0.8599694231019941, learning_rate=0.07669053007271537, max_depth=5, min_child_weight=1, n_estimators=181, subsample=0.7936343347494275;, score=0.904 total time=   0.1s\n",
      "[CV 5/5] END colsample_bytree=0.8599694231019941, learning_rate=0.07669053007271537, max_depth=5, min_child_weight=1, n_estimators=181, subsample=0.7936343347494275;, score=0.908 total time=   0.1s\n",
      "[CV 4/5] END colsample_bytree=0.7648570232459118, learning_rate=0.16483304716937552, max_depth=3, min_child_weight=3, n_estimators=497, subsample=0.8249029184043513;, score=0.910 total time=   0.2s\n",
      "[CV 5/5] END colsample_bytree=0.7648570232459118, learning_rate=0.16483304716937552, max_depth=3, min_child_weight=3, n_estimators=497, subsample=0.8249029184043513;, score=0.920 total time=   0.2s\n",
      "[CV 1/5] END colsample_bytree=0.6805809159299325, learning_rate=0.20280352570225987, max_depth=9, min_child_weight=3, n_estimators=343, subsample=0.3756016035647356;, score=0.928 total time=   0.2s\n",
      "[CV 2/5] END colsample_bytree=0.6805809159299325, learning_rate=0.20280352570225987, max_depth=9, min_child_weight=3, n_estimators=343, subsample=0.3756016035647356;, score=0.906 total time=   0.2s\n",
      "[CV 2/5] END colsample_bytree=0.7677090164711498, learning_rate=0.1507586222751454, max_depth=5, min_child_weight=1, n_estimators=258, subsample=0.5399700192610141;, score=0.910 total time=   0.1s\n",
      "[CV 3/5] END colsample_bytree=0.7677090164711498, learning_rate=0.1507586222751454, max_depth=5, min_child_weight=1, n_estimators=258, subsample=0.5399700192610141;, score=0.900 total time=   0.1s\n",
      "[CV 3/5] END colsample_bytree=0.6638314741388824, learning_rate=0.12337963348759304, max_depth=5, min_child_weight=2, n_estimators=476, subsample=0.5237335841568537;, score=0.903 total time=   0.2s\n",
      "[CV 4/5] END colsample_bytree=0.6638314741388824, learning_rate=0.12337963348759304, max_depth=5, min_child_weight=2, n_estimators=476, subsample=0.5237335841568537;, score=0.920 total time=   0.2s\n",
      "[CV 3/5] END colsample_bytree=0.7381796567434641, learning_rate=0.2522054978277282, max_depth=6, min_child_weight=1, n_estimators=321, subsample=0.9349110166436059;, score=0.916 total time=   0.2s\n",
      "[CV 1/5] END colsample_bytree=0.5338173695003847, learning_rate=0.1753942499079638, max_depth=5, min_child_weight=3, n_estimators=270, subsample=0.7733630241280571;, score=0.922 total time=   0.1s\n",
      "[CV 4/5] END colsample_bytree=0.7663553293542189, learning_rate=0.13690191709848953, max_depth=9, min_child_weight=1, n_estimators=288, subsample=0.32578577311262846;, score=0.917 total time=   0.2s\n",
      "[CV 2/5] END colsample_bytree=0.8708796171437739, learning_rate=0.210987434199535, max_depth=9, min_child_weight=2, n_estimators=247, subsample=0.5476866880612441;, score=0.913 total time=   0.2s\n",
      "[CV 3/5] END colsample_bytree=0.8708796171437739, learning_rate=0.210987434199535, max_depth=9, min_child_weight=2, n_estimators=247, subsample=0.5476866880612441;, score=0.927 total time=   0.2s\n",
      "[CV 3/5] END colsample_bytree=0.7969057535112316, learning_rate=0.03643364072071289, max_depth=6, min_child_weight=2, n_estimators=189, subsample=0.9092438119200654;, score=0.925 total time=   0.1s\n",
      "[CV 4/5] END colsample_bytree=0.7969057535112316, learning_rate=0.03643364072071289, max_depth=6, min_child_weight=2, n_estimators=189, subsample=0.9092438119200654;, score=0.902 total time=   0.1s\n",
      "[CV 5/5] END colsample_bytree=0.8757505113623159, learning_rate=0.2989432991346515, max_depth=7, min_child_weight=3, n_estimators=477, subsample=0.779268831322893;, score=0.902 total time=   0.4s\n",
      "[CV 1/5] END colsample_bytree=0.7351669040060803, learning_rate=0.039063755861552196, max_depth=6, min_child_weight=1, n_estimators=213, subsample=0.5577529258150473;, score=0.926 total time=   0.1s\n",
      "[CV 1/5] END colsample_bytree=0.6599995748786067, learning_rate=0.2185528213424673, max_depth=5, min_child_weight=2, n_estimators=256, subsample=0.632224073663574;, score=0.925 total time=   0.1s\n",
      "[CV 2/5] END colsample_bytree=0.6599995748786067, learning_rate=0.2185528213424673, max_depth=5, min_child_weight=2, n_estimators=256, subsample=0.632224073663574;, score=0.903 total time=   0.1s\n",
      "[CV 5/5] END colsample_bytree=0.6599995748786067, learning_rate=0.2185528213424673, max_depth=5, min_child_weight=2, n_estimators=256, subsample=0.632224073663574;, score=0.906 total time=   0.1s\n",
      "[CV 1/5] END colsample_bytree=0.704248536213918, learning_rate=0.08230510777964822, max_depth=6, min_child_weight=1, n_estimators=389, subsample=0.45993858108845853;, score=0.925 total time=   0.2s\n",
      "[CV 5/5] END colsample_bytree=0.7957328656873287, learning_rate=0.1646167169778573, max_depth=5, min_child_weight=3, n_estimators=336, subsample=0.6392175651890286;, score=0.917 total time=   0.2s\n",
      "[CV 1/5] END colsample_bytree=0.5490490865394494, learning_rate=0.20027221282022886, max_depth=5, min_child_weight=2, n_estimators=440, subsample=0.30887098167562727;, score=0.914 total time=   0.2s\n",
      "[CV 5/5] END colsample_bytree=0.6539392531668959, learning_rate=0.16591208148777403, max_depth=9, min_child_weight=2, n_estimators=162, subsample=0.3319961730341788;, score=0.884 total time=   0.1s\n",
      "[CV 1/5] END colsample_bytree=0.5480363559969418, learning_rate=0.2168068648014577, max_depth=3, min_child_weight=1, n_estimators=237, subsample=0.839031077875801;, score=0.930 total time=   0.1s\n",
      "[CV 1/5] END colsample_bytree=0.9043282791333973, learning_rate=0.20689541197970548, max_depth=4, min_child_weight=3, n_estimators=390, subsample=0.8765745990336484;, score=0.920 total time=   0.2s\n",
      "[CV 3/5] END colsample_bytree=0.5538419869116598, learning_rate=0.18356561215922104, max_depth=6, min_child_weight=3, n_estimators=231, subsample=0.560063197014788;, score=0.912 total time=   0.1s\n",
      "[CV 1/5] END colsample_bytree=0.6465118098113198, learning_rate=0.2784963218865161, max_depth=3, min_child_weight=3, n_estimators=421, subsample=0.5362584361587839;, score=0.920 total time=   0.1s\n",
      "[CV 4/5] END colsample_bytree=0.7553979879759445, learning_rate=0.30192679222556895, max_depth=8, min_child_weight=3, n_estimators=400, subsample=0.5988548691095095;, score=0.894 total time=   0.3s\n",
      "[CV 2/5] END colsample_bytree=0.687135201749967, learning_rate=0.256515137135965, max_depth=9, min_child_weight=2, n_estimators=193, subsample=0.5487080139996783;, score=0.904 total time=   0.2s\n",
      "[CV 3/5] END colsample_bytree=0.687135201749967, learning_rate=0.256515137135965, max_depth=9, min_child_weight=2, n_estimators=193, subsample=0.5487080139996783;, score=0.905 total time=   0.2s\n",
      "[CV 4/5] END colsample_bytree=0.5290690304322101, learning_rate=0.05002889598096813, max_depth=3, min_child_weight=3, n_estimators=484, subsample=0.80143170649669;, score=0.916 total time=   0.1s\n",
      "[CV 5/5] END colsample_bytree=0.5290690304322101, learning_rate=0.05002889598096813, max_depth=3, min_child_weight=3, n_estimators=484, subsample=0.80143170649669;, score=0.918 total time=   0.1s\n",
      "[CV 5/5] END colsample_bytree=0.8195091133739596, learning_rate=0.05684117797044759, max_depth=3, min_child_weight=2, n_estimators=448, subsample=0.8429784267389095;, score=0.916 total time=   0.2s\n",
      "[CV 1/5] END colsample_bytree=0.8397729292752041, learning_rate=0.2617707701389024, max_depth=4, min_child_weight=1, n_estimators=231, subsample=0.7390420988834663;, score=0.918 total time=   0.1s\n",
      "[CV 1/5] END colsample_bytree=0.6538583279947515, learning_rate=0.1429074244086385, max_depth=3, min_child_weight=1, n_estimators=398, subsample=0.5115550807781737;, score=0.937 total time=   0.1s\n",
      "[CV 2/5] END colsample_bytree=0.6538583279947515, learning_rate=0.1429074244086385, max_depth=3, min_child_weight=1, n_estimators=398, subsample=0.5115550807781737;, score=0.901 total time=   0.1s\n",
      "[CV 3/5] END colsample_bytree=0.8189212634643677, learning_rate=0.019007016662697242, max_depth=9, min_child_weight=3, n_estimators=248, subsample=0.8608188037521796;, score=0.909 total time=   0.2s\n",
      "[CV 4/5] END colsample_bytree=0.8189212634643677, learning_rate=0.019007016662697242, max_depth=9, min_child_weight=3, n_estimators=248, subsample=0.8608188037521796;, score=0.871 total time=   0.2s\n",
      "[CV 3/5] END colsample_bytree=0.9315944608163874, learning_rate=0.11898298337737166, max_depth=6, min_child_weight=3, n_estimators=295, subsample=0.7800736591410462;, score=0.901 total time=   0.2s\n",
      "[CV 4/5] END colsample_bytree=0.9315944608163874, learning_rate=0.11898298337737166, max_depth=6, min_child_weight=3, n_estimators=295, subsample=0.7800736591410462;, score=0.886 total time=   0.2s\n",
      "[CV 3/5] END colsample_bytree=0.5402685518568627, learning_rate=0.21331487720320277, max_depth=4, min_child_weight=2, n_estimators=484, subsample=0.4274877768993332;, score=0.922 total time=   0.2s\n",
      "[CV 1/5] END colsample_bytree=0.6952777881441835, learning_rate=0.06109521858460568, max_depth=6, min_child_weight=2, n_estimators=348, subsample=0.9527755306502514;, score=0.915 total time=   0.2s\n",
      "[CV 1/5] END colsample_bytree=0.5828527637697932, learning_rate=0.2930682915750034, max_depth=5, min_child_weight=2, n_estimators=329, subsample=0.5382861027403686;, score=0.912 total time=   0.1s\n",
      "[CV 2/5] END colsample_bytree=0.5108144535249373, learning_rate=0.2893178685883751, max_depth=3, min_child_weight=3, n_estimators=361, subsample=0.6545434968747608;, score=0.909 total time=   0.1s\n",
      "[CV 1/5] END colsample_bytree=0.5950928892792711, learning_rate=0.24001775729179314, max_depth=8, min_child_weight=2, n_estimators=492, subsample=0.87143666434577;, score=0.908 total time=   0.4s\n",
      "[CV 1/5] END colsample_bytree=0.8912646329305884, learning_rate=0.2221144192689027, max_depth=8, min_child_weight=1, n_estimators=491, subsample=0.5992181249447543;, score=0.912 total time=   0.5s\n",
      "[CV 3/5] END colsample_bytree=0.9191304923622433, learning_rate=0.06154131354601591, max_depth=4, min_child_weight=3, n_estimators=167, subsample=0.45370237148673326;, score=0.905 total time=   0.1s\n",
      "[CV 5/5] END colsample_bytree=0.7384652676591644, learning_rate=0.16444886159338387, max_depth=6, min_child_weight=1, n_estimators=447, subsample=0.8255770910093068;, score=0.942 total time=   0.3s\n",
      "[CV 4/5] END colsample_bytree=0.5949184911663314, learning_rate=0.20905371183998686, max_depth=9, min_child_weight=3, n_estimators=270, subsample=0.9584575891145621;, score=0.891 total time=   0.2s\n",
      "[CV 3/5] END colsample_bytree=0.8472376848951158, learning_rate=0.17764577835242198, max_depth=7, min_child_weight=3, n_estimators=406, subsample=0.5112769114921843;, score=0.906 total time=   0.3s\n",
      "[CV 4/5] END colsample_bytree=0.5612304383151866, learning_rate=0.23756222361454585, max_depth=6, min_child_weight=1, n_estimators=472, subsample=0.8325915834987467;, score=0.906 total time=   0.2s\n",
      "[CV 1/5] END colsample_bytree=0.6429276412311167, learning_rate=0.11692741477927042, max_depth=9, min_child_weight=2, n_estimators=228, subsample=0.7377871164683986;, score=0.915 total time=   0.2s\n",
      "[CV 5/5] END colsample_bytree=0.5551935046310184, learning_rate=0.03630255133798998, max_depth=6, min_child_weight=2, n_estimators=489, subsample=0.49191801155835313;, score=0.941 total time=   0.2s\n",
      "[CV 3/5] END colsample_bytree=0.596365521411854, learning_rate=0.270079748484007, max_depth=7, min_child_weight=1, n_estimators=496, subsample=0.9589996445433266;, score=0.934 total time=   0.3s\n",
      "[CV 1/5] END colsample_bytree=0.6017862157034561, learning_rate=0.2801679098994585, max_depth=5, min_child_weight=2, n_estimators=158, subsample=0.9609291722223101;, score=0.920 total time=   0.1s\n",
      "[CV 2/5] END colsample_bytree=0.5865842146863426, learning_rate=0.0708421081398171, max_depth=3, min_child_weight=3, n_estimators=359, subsample=0.6110275036864656;, score=0.910 total time=   0.1s\n",
      "[CV 4/5] END colsample_bytree=0.8982424956053876, learning_rate=0.17136820718639942, max_depth=6, min_child_weight=1, n_estimators=226, subsample=0.914493243996463;, score=0.900 total time=   0.2s\n",
      "[CV 2/5] END colsample_bytree=0.6271501496633742, learning_rate=0.2727270795420865, max_depth=3, min_child_weight=1, n_estimators=244, subsample=0.903965642060665;, score=0.902 total time=   0.1s\n",
      "[CV 5/5] END colsample_bytree=0.6271501496633742, learning_rate=0.2727270795420865, max_depth=3, min_child_weight=1, n_estimators=244, subsample=0.903965642060665;, score=0.915 total time=   0.1s\n",
      "[CV 3/5] END colsample_bytree=0.8741288980772026, learning_rate=0.23925621477472064, max_depth=8, min_child_weight=3, n_estimators=352, subsample=0.9770782441764907;, score=0.886 total time=   0.3s\n",
      "[CV 1/5] END colsample_bytree=0.8352605402897357, learning_rate=0.06673328629797655, max_depth=9, min_child_weight=1, n_estimators=305, subsample=0.3472256678918349;, score=0.940 total time=   0.2s\n",
      "[CV 2/5] END colsample_bytree=0.8352605402897357, learning_rate=0.06673328629797655, max_depth=9, min_child_weight=1, n_estimators=305, subsample=0.3472256678918349;, score=0.917 total time=   0.2s\n",
      "[CV 3/5] END colsample_bytree=0.667199166503053, learning_rate=0.17877890008166894, max_depth=8, min_child_weight=2, n_estimators=405, subsample=0.3955972152267109;, score=0.873 total time=   0.3s\n",
      "[CV 4/5] END colsample_bytree=0.667199166503053, learning_rate=0.17877890008166894, max_depth=8, min_child_weight=2, n_estimators=405, subsample=0.3955972152267109;, score=0.908 total time=   0.3s\n",
      "[CV 1/5] END colsample_bytree=0.6143025170018108, learning_rate=0.11527716977673863, max_depth=5, min_child_weight=1, n_estimators=430, subsample=0.7407692661495429;, score=0.937 total time=   0.2s\n",
      "[CV 2/5] END colsample_bytree=0.6143025170018108, learning_rate=0.11527716977673863, max_depth=5, min_child_weight=1, n_estimators=430, subsample=0.7407692661495429;, score=0.916 total time=   0.2s\n",
      "[CV 5/5] END colsample_bytree=0.7998823941117593, learning_rate=0.22608244727795287, max_depth=8, min_child_weight=3, n_estimators=168, subsample=0.3847697007749792;, score=0.908 total time=   0.1s\n",
      "[CV 1/5] END colsample_bytree=0.5415883790996069, learning_rate=0.15568353721206032, max_depth=5, min_child_weight=2, n_estimators=344, subsample=0.6119952918266416;, score=0.932 total time=   0.2s\n",
      "[CV 1/5] END colsample_bytree=0.6735926060237436, learning_rate=0.15717428595077237, max_depth=3, min_child_weight=1, n_estimators=182, subsample=0.7305170156682171;, score=0.918 total time=   0.1s\n",
      "[CV 2/5] END colsample_bytree=0.6735926060237436, learning_rate=0.15717428595077237, max_depth=3, min_child_weight=1, n_estimators=182, subsample=0.7305170156682171;, score=0.904 total time=   0.1s\n",
      "[CV 2/5] END colsample_bytree=0.6684290011825013, learning_rate=0.1947186582951404, max_depth=7, min_child_weight=1, n_estimators=215, subsample=0.622525346822645;, score=0.899 total time=   0.2s\n",
      "[CV 3/5] END colsample_bytree=0.6684290011825013, learning_rate=0.1947186582951404, max_depth=7, min_child_weight=1, n_estimators=215, subsample=0.622525346822645;, score=0.883 total time=   0.1s\n",
      "[CV 3/5] END colsample_bytree=0.9423876888200939, learning_rate=0.17173746135258813, max_depth=5, min_child_weight=2, n_estimators=177, subsample=0.8690113530606967;, score=0.885 total time=   0.1s\n",
      "[CV 3/5] END colsample_bytree=0.7547880959139128, learning_rate=0.059233965744999395, max_depth=5, min_child_weight=3, n_estimators=156, subsample=0.4901203872210039;, score=0.897 total time=   0.1s\n",
      "[CV 1/5] END colsample_bytree=0.6971897674532384, learning_rate=0.08255394455680529, max_depth=8, min_child_weight=3, n_estimators=491, subsample=0.9044220920495936;, score=0.932 total time=   0.4s\n",
      "[CV 2/5] END colsample_bytree=0.6700209664017511, learning_rate=0.256425557384164, max_depth=4, min_child_weight=1, n_estimators=413, subsample=0.6518647283357337;, score=0.904 total time=   0.2s\n",
      "[CV 3/5] END colsample_bytree=0.6700209664017511, learning_rate=0.256425557384164, max_depth=4, min_child_weight=1, n_estimators=413, subsample=0.6518647283357337;, score=0.895 total time=   0.2s\n",
      "[CV 3/5] END colsample_bytree=0.9304836334584344, learning_rate=0.3060792694493511, max_depth=3, min_child_weight=3, n_estimators=263, subsample=0.5973600457675619;, score=0.894 total time=   0.1s\n",
      "[CV 4/5] END colsample_bytree=0.9304836334584344, learning_rate=0.3060792694493511, max_depth=3, min_child_weight=3, n_estimators=263, subsample=0.5973600457675619;, score=0.919 total time=   0.1s\n",
      "[CV 3/5] END colsample_bytree=0.8057024546789733, learning_rate=0.21212196781741827, max_depth=4, min_child_weight=2, n_estimators=453, subsample=0.4679605808820978;, score=0.903 total time=   0.2s\n",
      "[CV 4/5] END colsample_bytree=0.8057024546789733, learning_rate=0.21212196781741827, max_depth=4, min_child_weight=2, n_estimators=453, subsample=0.4679605808820978;, score=0.912 total time=   0.2s\n",
      "[CV 1/5] END colsample_bytree=0.7562664996598729, learning_rate=0.08581006781286536, max_depth=6, min_child_weight=1, n_estimators=248, subsample=0.7518935338629913;, score=0.941 total time=   0.2s\n",
      "[CV 2/5] END colsample_bytree=0.7562664996598729, learning_rate=0.08581006781286536, max_depth=6, min_child_weight=1, n_estimators=248, subsample=0.7518935338629913;, score=0.919 total time=   0.2s\n",
      "[CV 3/5] END colsample_bytree=0.7392636692950943, learning_rate=0.22057934265040516, max_depth=5, min_child_weight=1, n_estimators=378, subsample=0.7987191183166638;, score=0.899 total time=   0.2s\n",
      "[CV 4/5] END colsample_bytree=0.7392636692950943, learning_rate=0.22057934265040516, max_depth=5, min_child_weight=1, n_estimators=378, subsample=0.7987191183166638;, score=0.909 total time=   0.2s\n",
      "[CV 4/5] END colsample_bytree=0.6745832060385054, learning_rate=0.05399264908170335, max_depth=4, min_child_weight=1, n_estimators=467, subsample=0.33164971382991126;, score=0.924 total time=   0.2s\n",
      "[CV 5/5] END colsample_bytree=0.6745832060385054, learning_rate=0.05399264908170335, max_depth=4, min_child_weight=1, n_estimators=467, subsample=0.33164971382991126;, score=0.912 total time=   0.2s\n",
      "[CV 1/5] END colsample_bytree=0.7381796567434641, learning_rate=0.2522054978277282, max_depth=6, min_child_weight=1, n_estimators=321, subsample=0.9349110166436059;, score=0.924 total time=   0.2s\n",
      "[CV 3/5] END colsample_bytree=0.860816451826641, learning_rate=0.23607661480576342, max_depth=3, min_child_weight=3, n_estimators=210, subsample=0.6988323422246786;, score=0.905 total time=   0.1s\n",
      "[CV 1/5] END colsample_bytree=0.7663553293542189, learning_rate=0.13690191709848953, max_depth=9, min_child_weight=1, n_estimators=288, subsample=0.32578577311262846;, score=0.919 total time=   0.2s\n",
      "[CV 5/5] END colsample_bytree=0.8175218576996528, learning_rate=0.24072884693548566, max_depth=6, min_child_weight=3, n_estimators=465, subsample=0.8682621305022311;, score=0.914 total time=   0.3s\n",
      "[CV 1/5] END colsample_bytree=0.5935884931961738, learning_rate=0.22098693560760338, max_depth=6, min_child_weight=2, n_estimators=225, subsample=0.8873744934273502;, score=0.927 total time=   0.1s\n",
      "[CV 2/5] END colsample_bytree=0.5935884931961738, learning_rate=0.22098693560760338, max_depth=6, min_child_weight=2, n_estimators=225, subsample=0.8873744934273502;, score=0.914 total time=   0.1s\n",
      "[CV 1/5] END colsample_bytree=0.7969057535112316, learning_rate=0.03643364072071289, max_depth=6, min_child_weight=2, n_estimators=189, subsample=0.9092438119200654;, score=0.919 total time=   0.1s\n",
      "[CV 2/5] END colsample_bytree=0.7969057535112316, learning_rate=0.03643364072071289, max_depth=6, min_child_weight=2, n_estimators=189, subsample=0.9092438119200654;, score=0.919 total time=   0.1s\n",
      "[CV 3/5] END colsample_bytree=0.8757505113623159, learning_rate=0.2989432991346515, max_depth=7, min_child_weight=3, n_estimators=477, subsample=0.779268831322893;, score=0.909 total time=   0.4s\n",
      "[CV 4/5] END colsample_bytree=0.8757505113623159, learning_rate=0.2989432991346515, max_depth=7, min_child_weight=3, n_estimators=477, subsample=0.779268831322893;, score=0.899 total time=   0.4s\n",
      "[CV 4/5] END colsample_bytree=0.704248536213918, learning_rate=0.08230510777964822, max_depth=6, min_child_weight=1, n_estimators=389, subsample=0.45993858108845853;, score=0.918 total time=   0.2s\n",
      "[CV 5/5] END colsample_bytree=0.704248536213918, learning_rate=0.08230510777964822, max_depth=6, min_child_weight=1, n_estimators=389, subsample=0.45993858108845853;, score=0.926 total time=   0.2s\n",
      "[CV 4/5] END colsample_bytree=0.5490490865394494, learning_rate=0.20027221282022886, max_depth=5, min_child_weight=2, n_estimators=440, subsample=0.30887098167562727;, score=0.920 total time=   0.2s\n",
      "[CV 5/5] END colsample_bytree=0.5490490865394494, learning_rate=0.20027221282022886, max_depth=5, min_child_weight=2, n_estimators=440, subsample=0.30887098167562727;, score=0.887 total time=   0.2s\n",
      "[CV 1/5] END colsample_bytree=0.762745739605424, learning_rate=0.03606033418897322, max_depth=3, min_child_weight=1, n_estimators=458, subsample=0.7702094204013971;, score=0.918 total time=   0.2s\n",
      "[CV 2/5] END colsample_bytree=0.762745739605424, learning_rate=0.03606033418897322, max_depth=3, min_child_weight=1, n_estimators=458, subsample=0.7702094204013971;, score=0.914 total time=   0.2s\n",
      "[CV 2/5] END colsample_bytree=0.6465118098113198, learning_rate=0.2784963218865161, max_depth=3, min_child_weight=3, n_estimators=421, subsample=0.5362584361587839;, score=0.882 total time=   0.1s\n",
      "[CV 5/5] END colsample_bytree=0.7553979879759445, learning_rate=0.30192679222556895, max_depth=8, min_child_weight=3, n_estimators=400, subsample=0.5988548691095095;, score=0.910 total time=   0.4s\n",
      "[CV 1/5] END colsample_bytree=0.611482839519456, learning_rate=0.06587146111438892, max_depth=6, min_child_weight=1, n_estimators=352, subsample=0.4499099555749775;, score=0.938 total time=   0.2s\n",
      "[CV 2/5] END colsample_bytree=0.611482839519456, learning_rate=0.06587146111438892, max_depth=6, min_child_weight=1, n_estimators=352, subsample=0.4499099555749775;, score=0.912 total time=   0.2s\n",
      "[CV 3/5] END colsample_bytree=0.9045334386316106, learning_rate=0.1517515512935261, max_depth=3, min_child_weight=1, n_estimators=495, subsample=0.5214817361705714;, score=0.892 total time=   0.2s\n",
      "[CV 4/5] END colsample_bytree=0.9045334386316106, learning_rate=0.1517515512935261, max_depth=3, min_child_weight=1, n_estimators=495, subsample=0.5214817361705714;, score=0.917 total time=   0.2s\n",
      "[CV 5/5] END colsample_bytree=0.7003178759063104, learning_rate=0.022099580872024707, max_depth=3, min_child_weight=2, n_estimators=339, subsample=0.9795684576365742;, score=0.898 total time=   0.1s\n",
      "[CV 1/5] END colsample_bytree=0.7795033397762938, learning_rate=0.13048096489316283, max_depth=5, min_child_weight=2, n_estimators=412, subsample=0.9718709252932884;, score=0.924 total time=   0.2s\n",
      "[CV 1/5] END colsample_bytree=0.8189212634643677, learning_rate=0.019007016662697242, max_depth=9, min_child_weight=3, n_estimators=248, subsample=0.8608188037521796;, score=0.921 total time=   0.3s\n",
      "[CV 2/5] END colsample_bytree=0.8189212634643677, learning_rate=0.019007016662697242, max_depth=9, min_child_weight=3, n_estimators=248, subsample=0.8608188037521796;, score=0.907 total time=   0.2s\n",
      "[CV 5/5] END colsample_bytree=0.9315944608163874, learning_rate=0.11898298337737166, max_depth=6, min_child_weight=3, n_estimators=295, subsample=0.7800736591410462;, score=0.900 total time=   0.2s\n",
      "[CV 1/5] END colsample_bytree=0.5525661002865564, learning_rate=0.06772038634888945, max_depth=5, min_child_weight=3, n_estimators=475, subsample=0.8490108466352804;, score=0.921 total time=   0.2s\n",
      "[CV 4/5] END colsample_bytree=0.5402685518568627, learning_rate=0.21331487720320277, max_depth=4, min_child_weight=2, n_estimators=484, subsample=0.4274877768993332;, score=0.911 total time=   0.2s\n",
      "[CV 5/5] END colsample_bytree=0.6952777881441835, learning_rate=0.06109521858460568, max_depth=6, min_child_weight=2, n_estimators=348, subsample=0.9527755306502514;, score=0.909 total time=   0.2s\n",
      "[CV 3/5] END colsample_bytree=0.6188200967924237, learning_rate=0.27010682028583427, max_depth=4, min_child_weight=3, n_estimators=487, subsample=0.9097297257406101;, score=0.887 total time=   0.2s\n",
      "[CV 1/5] END colsample_bytree=0.6403407860671078, learning_rate=0.2512398143174357, max_depth=7, min_child_weight=2, n_estimators=223, subsample=0.65002147597816;, score=0.912 total time=   0.2s\n",
      "[CV 2/5] END colsample_bytree=0.6403407860671078, learning_rate=0.2512398143174357, max_depth=7, min_child_weight=2, n_estimators=223, subsample=0.65002147597816;, score=0.933 total time=   0.1s\n",
      "[CV 2/5] END colsample_bytree=0.8365166022774724, learning_rate=0.11986957827476478, max_depth=3, min_child_weight=1, n_estimators=379, subsample=0.62595063889955;, score=0.937 total time=   0.1s\n",
      "[CV 3/5] END colsample_bytree=0.8365166022774724, learning_rate=0.11986957827476478, max_depth=3, min_child_weight=1, n_estimators=379, subsample=0.62595063889955;, score=0.925 total time=   0.1s\n",
      "[CV 3/5] END colsample_bytree=0.7469370655622576, learning_rate=0.23802424328316987, max_depth=3, min_child_weight=3, n_estimators=289, subsample=0.8450593644660676;, score=0.915 total time=   0.1s\n",
      "[CV 4/5] END colsample_bytree=0.7469370655622576, learning_rate=0.23802424328316987, max_depth=3, min_child_weight=3, n_estimators=289, subsample=0.8450593644660676;, score=0.937 total time=   0.1s\n"
     ]
    },
    {
     "name": "stdout",
     "output_type": "stream",
     "text": [
      "Fitting 5 folds for each of 25 candidates, totalling 125 fits\n",
      "[CV 3/5] END colsample_bytree=0.6128907647899967, learning_rate=0.10259270220990106, max_depth=4, min_child_weight=1, n_estimators=381, subsample=0.5661588537737381;, score=0.930 total time=   0.1s\n",
      "[CV 5/5] END colsample_bytree=0.5828527637697932, learning_rate=0.2930682915750034, max_depth=5, min_child_weight=2, n_estimators=329, subsample=0.5382861027403686;, score=0.928 total time=   0.2s\n",
      "[CV 5/5] END colsample_bytree=0.5950928892792711, learning_rate=0.24001775729179314, max_depth=8, min_child_weight=2, n_estimators=492, subsample=0.87143666434577;, score=0.927 total time=   0.4s\n",
      "[CV 5/5] END colsample_bytree=0.8912646329305884, learning_rate=0.2221144192689027, max_depth=8, min_child_weight=1, n_estimators=491, subsample=0.5992181249447543;, score=0.924 total time=   0.4s\n",
      "[CV 5/5] END colsample_bytree=0.9191304923622433, learning_rate=0.06154131354601591, max_depth=4, min_child_weight=3, n_estimators=167, subsample=0.45370237148673326;, score=0.921 total time=   0.1s\n",
      "[CV 3/5] END colsample_bytree=0.7620451632601493, learning_rate=0.13867413867258951, max_depth=6, min_child_weight=2, n_estimators=211, subsample=0.4495926715411526;, score=0.927 total time=   0.1s\n",
      "[CV 1/5] END colsample_bytree=0.5949184911663314, learning_rate=0.20905371183998686, max_depth=9, min_child_weight=3, n_estimators=270, subsample=0.9584575891145621;, score=0.916 total time=   0.2s\n",
      "[CV 4/5] END colsample_bytree=0.7721882428956437, learning_rate=0.2622835563430857, max_depth=6, min_child_weight=3, n_estimators=473, subsample=0.8360120120237464;, score=0.915 total time=   0.3s\n",
      "[CV 2/5] END colsample_bytree=0.5612304383151866, learning_rate=0.23756222361454585, max_depth=6, min_child_weight=1, n_estimators=472, subsample=0.8325915834987467;, score=0.904 total time=   0.2s\n",
      "[CV 5/5] END colsample_bytree=0.9409736590926789, learning_rate=0.04764535730325267, max_depth=3, min_child_weight=2, n_estimators=457, subsample=0.7049997936156244;, score=0.930 total time=   0.2s\n",
      "[CV 3/5] END colsample_bytree=0.5551935046310184, learning_rate=0.03630255133798998, max_depth=6, min_child_weight=2, n_estimators=489, subsample=0.49191801155835313;, score=0.934 total time=   0.2s\n",
      "[CV 1/5] END colsample_bytree=0.596365521411854, learning_rate=0.270079748484007, max_depth=7, min_child_weight=1, n_estimators=496, subsample=0.9589996445433266;, score=0.915 total time=   0.3s\n",
      "[CV 4/5] END colsample_bytree=0.6845677333856455, learning_rate=0.037091840688915835, max_depth=7, min_child_weight=1, n_estimators=313, subsample=0.7696763938340705;, score=0.899 total time=   0.2s\n",
      "[CV 2/5] END colsample_bytree=0.8982424956053876, learning_rate=0.17136820718639942, max_depth=6, min_child_weight=1, n_estimators=226, subsample=0.914493243996463;, score=0.903 total time=   0.2s\n",
      "[CV 5/5] END colsample_bytree=0.658980460194543, learning_rate=0.20681803380919145, max_depth=5, min_child_weight=2, n_estimators=240, subsample=0.7774324899552882;, score=0.928 total time=   0.1s\n",
      "[CV 3/5] END colsample_bytree=0.8207531888794941, learning_rate=0.21277367607256217, max_depth=7, min_child_weight=1, n_estimators=364, subsample=0.7982976757659939;, score=0.900 total time=   0.3s\n",
      "[CV 5/5] END colsample_bytree=0.8741288980772026, learning_rate=0.23925621477472064, max_depth=8, min_child_weight=3, n_estimators=352, subsample=0.9770782441764907;, score=0.891 total time=   0.3s\n",
      "[CV 3/5] END colsample_bytree=0.8352605402897357, learning_rate=0.06673328629797655, max_depth=9, min_child_weight=1, n_estimators=305, subsample=0.3472256678918349;, score=0.876 total time=   0.2s\n",
      "[CV 4/5] END colsample_bytree=0.8352605402897357, learning_rate=0.06673328629797655, max_depth=9, min_child_weight=1, n_estimators=305, subsample=0.3472256678918349;, score=0.911 total time=   0.2s\n",
      "[CV 5/5] END colsample_bytree=0.667199166503053, learning_rate=0.17877890008166894, max_depth=8, min_child_weight=2, n_estimators=405, subsample=0.3955972152267109;, score=0.901 total time=   0.3s\n",
      "[CV 1/5] END colsample_bytree=0.6228260351002136, learning_rate=0.10561963436219139, max_depth=4, min_child_weight=1, n_estimators=375, subsample=0.3957335695509776;, score=0.936 total time=   0.1s\n",
      "[CV 3/5] END colsample_bytree=0.8907993123284983, learning_rate=0.11331446732742019, max_depth=4, min_child_weight=3, n_estimators=180, subsample=0.8421018244386651;, score=0.890 total time=   0.1s\n",
      "[CV 4/5] END colsample_bytree=0.8907993123284983, learning_rate=0.11331446732742019, max_depth=4, min_child_weight=3, n_estimators=180, subsample=0.8421018244386651;, score=0.916 total time=   0.1s\n",
      "[CV 4/5] END colsample_bytree=0.6275637202856466, learning_rate=0.274905781717752, max_depth=4, min_child_weight=3, n_estimators=390, subsample=0.87319988101576;, score=0.913 total time=   0.2s\n",
      "[CV 5/5] END colsample_bytree=0.6275637202856466, learning_rate=0.274905781717752, max_depth=4, min_child_weight=3, n_estimators=390, subsample=0.87319988101576;, score=0.908 total time=   0.1s\n",
      "[CV 2/5] END colsample_bytree=0.5415883790996069, learning_rate=0.15568353721206032, max_depth=5, min_child_weight=2, n_estimators=344, subsample=0.6119952918266416;, score=0.910 total time=   0.1s\n",
      "[CV 3/5] END colsample_bytree=0.5415883790996069, learning_rate=0.15568353721206032, max_depth=5, min_child_weight=2, n_estimators=344, subsample=0.6119952918266416;, score=0.908 total time=   0.1s\n",
      "[CV 3/5] END colsample_bytree=0.6735926060237436, learning_rate=0.15717428595077237, max_depth=3, min_child_weight=1, n_estimators=182, subsample=0.7305170156682171;, score=0.881 total time=   0.1s\n",
      "[CV 4/5] END colsample_bytree=0.6735926060237436, learning_rate=0.15717428595077237, max_depth=3, min_child_weight=1, n_estimators=182, subsample=0.7305170156682171;, score=0.914 total time=   0.1s\n",
      "[CV 4/5] END colsample_bytree=0.6327348645005346, learning_rate=0.03888040417565769, max_depth=6, min_child_weight=2, n_estimators=255, subsample=0.7095949209235477;, score=0.901 total time=   0.1s\n",
      "[CV 3/5] END colsample_bytree=0.6659390925384017, learning_rate=0.026560865094244046, max_depth=4, min_child_weight=1, n_estimators=228, subsample=0.6055311915361645;, score=0.883 total time=   0.1s\n",
      "[CV 5/5] END colsample_bytree=0.9423876888200939, learning_rate=0.17173746135258813, max_depth=5, min_child_weight=2, n_estimators=177, subsample=0.8690113530606967;, score=0.913 total time=   0.1s\n",
      "[CV 1/5] END colsample_bytree=0.7547880959139128, learning_rate=0.059233965744999395, max_depth=5, min_child_weight=3, n_estimators=156, subsample=0.4901203872210039;, score=0.930 total time=   0.1s\n",
      "[CV 4/5] END colsample_bytree=0.7547880959139128, learning_rate=0.059233965744999395, max_depth=5, min_child_weight=3, n_estimators=156, subsample=0.4901203872210039;, score=0.909 total time=   0.1s\n",
      "[CV 2/5] END colsample_bytree=0.6971897674532384, learning_rate=0.08255394455680529, max_depth=8, min_child_weight=3, n_estimators=491, subsample=0.9044220920495936;, score=0.919 total time=   0.4s\n",
      "[CV 4/5] END colsample_bytree=0.6700209664017511, learning_rate=0.256425557384164, max_depth=4, min_child_weight=1, n_estimators=413, subsample=0.6518647283357337;, score=0.913 total time=   0.2s\n",
      "[CV 5/5] END colsample_bytree=0.6700209664017511, learning_rate=0.256425557384164, max_depth=4, min_child_weight=1, n_estimators=413, subsample=0.6518647283357337;, score=0.895 total time=   0.2s\n",
      "[CV 5/5] END colsample_bytree=0.9304836334584344, learning_rate=0.3060792694493511, max_depth=3, min_child_weight=3, n_estimators=263, subsample=0.5973600457675619;, score=0.901 total time=   0.1s\n",
      "[CV 1/5] END colsample_bytree=0.7648570232459118, learning_rate=0.16483304716937552, max_depth=3, min_child_weight=3, n_estimators=497, subsample=0.8249029184043513;, score=0.940 total time=   0.2s\n",
      "[CV 2/5] END colsample_bytree=0.6034124990381091, learning_rate=0.1336491935337133, max_depth=4, min_child_weight=3, n_estimators=460, subsample=0.9555474695103636;, score=0.914 total time=   0.2s\n",
      "[CV 3/5] END colsample_bytree=0.6034124990381091, learning_rate=0.1336491935337133, max_depth=4, min_child_weight=3, n_estimators=460, subsample=0.9555474695103636;, score=0.910 total time=   0.2s\n",
      "[CV 5/5] END colsample_bytree=0.7562664996598729, learning_rate=0.08581006781286536, max_depth=6, min_child_weight=1, n_estimators=248, subsample=0.7518935338629913;, score=0.914 total time=   0.2s\n",
      "[CV 1/5] END colsample_bytree=0.7208924781863753, learning_rate=0.0952309728542781, max_depth=4, min_child_weight=3, n_estimators=284, subsample=0.9804819768856787;, score=0.936 total time=   0.1s\n",
      "[CV 3/5] END colsample_bytree=0.6429093750256056, learning_rate=0.08022299121763524, max_depth=3, min_child_weight=1, n_estimators=310, subsample=0.7639138626261868;, score=0.907 total time=   0.1s\n",
      "[CV 4/5] END colsample_bytree=0.6429093750256056, learning_rate=0.08022299121763524, max_depth=3, min_child_weight=1, n_estimators=310, subsample=0.7639138626261868;, score=0.920 total time=   0.1s\n",
      "[CV 4/5] END colsample_bytree=0.8458929765274925, learning_rate=0.05368591975762641, max_depth=3, min_child_weight=2, n_estimators=310, subsample=0.6691474443572243;, score=0.913 total time=   0.1s\n",
      "[CV 5/5] END colsample_bytree=0.8458929765274925, learning_rate=0.05368591975762641, max_depth=3, min_child_weight=2, n_estimators=310, subsample=0.6691474443572243;, score=0.908 total time=   0.1s\n",
      "[CV 3/5] END colsample_bytree=0.8575419565651514, learning_rate=0.06039437832085438, max_depth=8, min_child_weight=3, n_estimators=342, subsample=0.8649517072830082;, score=0.898 total time=   0.3s\n",
      "[CV 5/5] END colsample_bytree=0.7381796567434641, learning_rate=0.2522054978277282, max_depth=6, min_child_weight=1, n_estimators=321, subsample=0.9349110166436059;, score=0.903 total time=   0.2s\n",
      "[CV 4/5] END colsample_bytree=0.5338173695003847, learning_rate=0.1753942499079638, max_depth=5, min_child_weight=3, n_estimators=270, subsample=0.7733630241280571;, score=0.919 total time=   0.1s\n",
      "[CV 1/5] END colsample_bytree=0.8175218576996528, learning_rate=0.24072884693548566, max_depth=6, min_child_weight=3, n_estimators=465, subsample=0.8682621305022311;, score=0.933 total time=   0.3s\n",
      "[CV 3/5] END colsample_bytree=0.6701666572127698, learning_rate=0.2503254616924945, max_depth=4, min_child_weight=1, n_estimators=188, subsample=0.5664435059701372;, score=0.933 total time=   0.1s\n",
      "[CV 4/5] END colsample_bytree=0.6701666572127698, learning_rate=0.2503254616924945, max_depth=4, min_child_weight=1, n_estimators=188, subsample=0.5664435059701372;, score=0.918 total time=   0.1s\n",
      "[CV 3/5] END colsample_bytree=0.5935884931961738, learning_rate=0.22098693560760338, max_depth=6, min_child_weight=2, n_estimators=225, subsample=0.8873744934273502;, score=0.920 total time=   0.1s\n",
      "[CV 4/5] END colsample_bytree=0.5935884931961738, learning_rate=0.22098693560760338, max_depth=6, min_child_weight=2, n_estimators=225, subsample=0.8873744934273502;, score=0.898 total time=   0.1s\n",
      "[CV 5/5] END colsample_bytree=0.7969057535112316, learning_rate=0.03643364072071289, max_depth=6, min_child_weight=2, n_estimators=189, subsample=0.9092438119200654;, score=0.915 total time=   0.1s\n",
      "[CV 1/5] END colsample_bytree=0.7821416069753125, learning_rate=0.04643686547778453, max_depth=8, min_child_weight=1, n_estimators=272, subsample=0.6984785001301271;, score=0.929 total time=   0.2s\n",
      "[CV 1/5] END colsample_bytree=0.6758061137426097, learning_rate=0.25595238140245125, max_depth=5, min_child_weight=1, n_estimators=436, subsample=0.7819871190759129;, score=0.921 total time=   0.2s\n",
      "[CV 2/5] END colsample_bytree=0.6758061137426097, learning_rate=0.25595238140245125, max_depth=5, min_child_weight=1, n_estimators=436, subsample=0.7819871190759129;, score=0.912 total time=   0.2s\n",
      "[CV 3/5] END colsample_bytree=0.6599995748786067, learning_rate=0.2185528213424673, max_depth=5, min_child_weight=2, n_estimators=256, subsample=0.632224073663574;, score=0.919 total time=   0.1s\n",
      "[CV 4/5] END colsample_bytree=0.6599995748786067, learning_rate=0.2185528213424673, max_depth=5, min_child_weight=2, n_estimators=256, subsample=0.632224073663574;, score=0.895 total time=   0.1s\n",
      "[CV 4/5] END colsample_bytree=0.6297846487583291, learning_rate=0.22146565368246268, max_depth=9, min_child_weight=2, n_estimators=457, subsample=0.672280275856584;, score=0.904 total time=   0.4s\n",
      "[CV 5/5] END colsample_bytree=0.6297846487583291, learning_rate=0.22146565368246268, max_depth=9, min_child_weight=2, n_estimators=457, subsample=0.672280275856584;, score=0.914 total time=   0.4s\n",
      "[CV 4/5] END colsample_bytree=0.9043282791333973, learning_rate=0.20689541197970548, max_depth=4, min_child_weight=3, n_estimators=390, subsample=0.8765745990336484;, score=0.896 total time=   0.2s\n",
      "[CV 5/5] END colsample_bytree=0.6794128020418015, learning_rate=0.1920635975680169, max_depth=6, min_child_weight=1, n_estimators=220, subsample=0.4845660998826722;, score=0.906 total time=   0.1s\n",
      "[CV 3/5] END colsample_bytree=0.7553979879759445, learning_rate=0.30192679222556895, max_depth=8, min_child_weight=3, n_estimators=400, subsample=0.5988548691095095;, score=0.902 total time=   0.3s\n",
      "[CV 4/5] END colsample_bytree=0.687135201749967, learning_rate=0.256515137135965, max_depth=9, min_child_weight=2, n_estimators=193, subsample=0.5487080139996783;, score=0.903 total time=   0.1s\n",
      "[CV 5/5] END colsample_bytree=0.687135201749967, learning_rate=0.256515137135965, max_depth=9, min_child_weight=2, n_estimators=193, subsample=0.5487080139996783;, score=0.912 total time=   0.2s\n",
      "[CV 2/5] END colsample_bytree=0.5290690304322101, learning_rate=0.05002889598096813, max_depth=3, min_child_weight=3, n_estimators=484, subsample=0.80143170649669;, score=0.904 total time=   0.1s\n",
      "[CV 3/5] END colsample_bytree=0.5290690304322101, learning_rate=0.05002889598096813, max_depth=3, min_child_weight=3, n_estimators=484, subsample=0.80143170649669;, score=0.908 total time=   0.1s\n",
      "[CV 3/5] END colsample_bytree=0.8195091133739596, learning_rate=0.05684117797044759, max_depth=3, min_child_weight=2, n_estimators=448, subsample=0.8429784267389095;, score=0.905 total time=   0.2s\n",
      "[CV 4/5] END colsample_bytree=0.8195091133739596, learning_rate=0.05684117797044759, max_depth=3, min_child_weight=2, n_estimators=448, subsample=0.8429784267389095;, score=0.910 total time=   0.2s\n",
      "[CV 5/5] END colsample_bytree=0.6538583279947515, learning_rate=0.1429074244086385, max_depth=3, min_child_weight=1, n_estimators=398, subsample=0.5115550807781737;, score=0.930 total time=   0.1s\n",
      "[CV 1/5] END colsample_bytree=0.5276057027294968, learning_rate=0.0434502078095273, max_depth=4, min_child_weight=3, n_estimators=398, subsample=0.9893363832369675;, score=0.922 total time=   0.1s\n",
      "[CV 5/5] END colsample_bytree=0.8189212634643677, learning_rate=0.019007016662697242, max_depth=9, min_child_weight=3, n_estimators=248, subsample=0.8608188037521796;, score=0.895 total time=   0.2s\n",
      "[CV 1/5] END colsample_bytree=0.8052540934955585, learning_rate=0.15909495143857233, max_depth=4, min_child_weight=2, n_estimators=208, subsample=0.5890522713524817;, score=0.929 total time=   0.1s\n",
      "[CV 1/5] END colsample_bytree=0.9315944608163874, learning_rate=0.11898298337737166, max_depth=6, min_child_weight=3, n_estimators=295, subsample=0.7800736591410462;, score=0.927 total time=   0.2s\n",
      "[CV 2/5] END colsample_bytree=0.9315944608163874, learning_rate=0.11898298337737166, max_depth=6, min_child_weight=3, n_estimators=295, subsample=0.7800736591410462;, score=0.902 total time=   0.2s\n",
      "[CV 2/5] END colsample_bytree=0.5402685518568627, learning_rate=0.21331487720320277, max_depth=4, min_child_weight=2, n_estimators=484, subsample=0.4274877768993332;, score=0.896 total time=   0.2s\n",
      "[CV 5/5] END colsample_bytree=0.8802655407677862, learning_rate=0.2495685071586038, max_depth=4, min_child_weight=3, n_estimators=352, subsample=0.7426129260084131;, score=0.918 total time=   0.2s\n",
      "[CV 2/5] END colsample_bytree=0.6952777881441835, learning_rate=0.06109521858460568, max_depth=6, min_child_weight=2, n_estimators=348, subsample=0.9527755306502514;, score=0.952 total time=   0.2s\n",
      "[CV 5/5] END colsample_bytree=0.671957566005949, learning_rate=0.2325907365345849, max_depth=8, min_child_weight=3, n_estimators=493, subsample=0.6409897486435672;, score=0.910 total time=   0.4s\n"
     ]
    },
    {
     "name": "stdout",
     "output_type": "stream",
     "text": [
      "Fitting 5 folds for each of 25 candidates, totalling 125 fits\n",
      "Fitting 5 folds for each of 25 candidates, totalling 125 fits\n",
      "K-fold CV average score: 0.94\n"
     ]
    }
   ],
   "source": [
    "param_dist = {'n_estimators': stats.randint(150, 500),\n",
    "              'learning_rate': stats.uniform(0.01, 0.3),\n",
    "              'subsample': stats.uniform(0.3, 0.7),\n",
    "              'max_depth': [3, 4, 5, 6, 7, 8, 9],\n",
    "              'colsample_bytree': stats.uniform(0.5, 0.45),\n",
    "              'min_child_weight': [1, 2, 3]\n",
    "             }\n",
    "regress = RandomizedSearchCV(xgbr, param_distributions=param_dist, n_iter=25, error_score=0, verbose=3, n_jobs=-1)\n",
    "\n",
    "numFolds = 5\n",
    "folds = KFold(n_splits = numFolds, shuffle = True)\n",
    "kf_cv_scores = cross_val_score(regress, X_train, y_train, cv=kfold )\n",
    "regress.fit(X_train, y_train)\n",
    "print(\"K-fold CV average score: %.2f\" % kf_cv_scores.mean())"
   ]
  },
  {
   "cell_type": "code",
   "execution_count": 8,
   "id": "f1b4c5d7",
   "metadata": {
    "scrolled": true
   },
   "outputs": [
    {
     "data": {
      "text/plain": [
       "{'colsample_bytree': 0.8465548069218283,\n",
       " 'learning_rate': 0.10240078715075915,\n",
       " 'max_depth': 7,\n",
       " 'min_child_weight': 3,\n",
       " 'n_estimators': 326,\n",
       " 'subsample': 0.3051884970378706}"
      ]
     },
     "execution_count": 8,
     "metadata": {},
     "output_type": "execute_result"
    }
   ],
   "source": [
    "# best training parameters from randomized search with cross validation\n",
    "bp = regress.best_params_\n",
    "bp"
   ]
  },
  {
   "cell_type": "markdown",
   "id": "13588d33",
   "metadata": {},
   "source": [
    "Now we train a model on our training set using the optimal training parameters. Below, we can see that the scores are an improvement on the original off-the-shelf model. Ideally, having a model that fits the feature space well to the predicitve output will give an output that realistically models the physical space that we're trying to optimize."
   ]
  },
  {
   "cell_type": "code",
   "execution_count": null,
   "id": "5a86f229",
   "metadata": {},
   "outputs": [],
   "source": [
    "xgbr_optimal = xgb.XGBRegressor(verbosity=0\n",
    "                                , colsample_bytree=bp['colsample_bytree']\n",
    "                                , learning_rate=bp['learning_rate']\n",
    "                                , max_depth=bp['max_depth']\n",
    "                                , min_child_weight=bp['min_child_weight']\n",
    "                                , n_estimators=bp['n_estimators']\n",
    "                                , subsample=bp['subsample'])\n",
    "\n",
    "kf_cv_scores = cross_val_score(xgbr_optimal, X, y, cv=kfold)\n",
    "\n",
    "xgbr_optimal.fit(X_train, y_train)\n",
    "mse = mean_squared_error(y_test, xgbr_optimal.predict(X_test))\n",
    "\n",
    "print(\"Training Score: %.2f\" % xgbr_optimal.score(X_train, y_train))\n",
    "print('K-fold CV average score: %.2f' % np.mean(kf_cv_scores))\n",
    "print(\"Testing Score: %.2f\" % xgbr_optimal.score(X_test, y_test))\n",
    "print(\"MSE: %.2f\" % mse)\n",
    "print(\"RMSE: %.2f\" % (mse**(1/2.0)))"
   ]
  },
  {
   "cell_type": "markdown",
   "id": "3578b96d",
   "metadata": {},
   "source": [
    "The testing scores of this model improve on the Yeh (1998) paper which employed a neural network to predict compressive concrete strength. The average testing score of all of the author's experiments is below."
   ]
  },
  {
   "cell_type": "code",
   "execution_count": 30,
   "id": "6f789041",
   "metadata": {},
   "outputs": [
    {
     "data": {
      "text/plain": [
       "8"
      ]
     },
     "execution_count": 30,
     "metadata": {},
     "output_type": "execute_result"
    }
   ],
   "source": [
    "len(author_scores)"
   ]
  },
  {
   "cell_type": "code",
   "execution_count": 10,
   "id": "e52e1b24",
   "metadata": {},
   "outputs": [
    {
     "data": {
      "text/plain": [
       "0.885"
      ]
     },
     "execution_count": 10,
     "metadata": {},
     "output_type": "execute_result"
    }
   ],
   "source": [
    "author_scores = [0.855, 0.814, 0.895, 0.859, 0.916, 0.908, 0.922, 0.911]\n",
    "np.mean(author_scores)"
   ]
  },
  {
   "cell_type": "markdown",
   "id": "9fc4aee5",
   "metadata": {},
   "source": [
    "The gradient boosting method allows us to look into the model and see which features were having the most significant effect on the models output. In this case, the age of the mix, amount of water, and the amount of fly ash are the three most important components of the mix."
   ]
  },
  {
   "cell_type": "code",
   "execution_count": 11,
   "id": "e8b0b303",
   "metadata": {},
   "outputs": [
    {
     "data": {
      "image/png": "[encoded data removed]",
      "text/plain": [
       "<Figure size 720x576 with 1 Axes>"
      ]
     },
     "metadata": {},
     "output_type": "display_data"
    }
   ],
   "source": [
    "fig, ax = plt.subplots(figsize=(10,8), nrows=1,ncols=1)\n",
    "\n",
    "ft_importance = xgbr_optimal.feature_importances_\n",
    "args = ft_importance.argsort()[::-1]\n",
    "sns.barplot(x=ft_importance[args] , y=df.columns[:-1][args], color=sns.husl_palette(2)[1], orient='h', ax=ax)\n",
    "ax.set_title('XGBoost Regressor % Feature Importances')\n",
    "\n",
    "plt.show()"
   ]
  },
  {
   "cell_type": "markdown",
   "id": "cc84857a",
   "metadata": {},
   "source": [
    "I want to use all the data now to train a model. Normally, we would be weary of doing this because we wouldn't wnat to overfit the mdoel to our data. However, XGBoost regularization should ensure we aren't overfiiting to our data, and we can fill out the search space for the GA as much as possible. Again I will use the optimal training parameters to fit the XGBoost regressor. Using the GA, we can search the regressors' feature space and see which composition of concrete is predicted to be the strongest."
   ]
  },
  {
   "cell_type": "code",
   "execution_count": 12,
   "id": "dea5b536",
   "metadata": {},
   "outputs": [
    {
     "data": {
      "text/html": [
       "<style>#sk-container-id-1 {color: black;background-color: white;}#sk-container-id-1 pre{padding: 0;}#sk-container-id-1 div.sk-toggleable {background-color: white;}#sk-container-id-1 label.sk-toggleable__label {cursor: pointer;display: block;width: 100%;margin-bottom: 0;padding: 0.3em;box-sizing: border-box;text-align: center;}#sk-container-id-1 label.sk-toggleable__label-arrow:before {content: \"▸\";float: left;margin-right: 0.25em;color: #696969;}#sk-container-id-1 label.sk-toggleable__label-arrow:hover:before {color: black;}#sk-container-id-1 div.sk-estimator:hover label.sk-toggleable__label-arrow:before {color: black;}#sk-container-id-1 div.sk-toggleable__content {max-height: 0;max-width: 0;overflow: hidden;text-align: left;background-color: #f0f8ff;}#sk-container-id-1 div.sk-toggleable__content pre {margin: 0.2em;color: black;border-radius: 0.25em;background-color: #f0f8ff;}#sk-container-id-1 input.sk-toggleable__control:checked~div.sk-toggleable__content {max-height: 200px;max-width: 100%;overflow: auto;}#sk-container-id-1 input.sk-toggleable__control:checked~label.sk-toggleable__label-arrow:before {content: \"▾\";}#sk-container-id-1 div.sk-estimator input.sk-toggleable__control:checked~label.sk-toggleable__label {background-color: #d4ebff;}#sk-container-id-1 div.sk-label input.sk-toggleable__control:checked~label.sk-toggleable__label {background-color: #d4ebff;}#sk-container-id-1 input.sk-hidden--visually {border: 0;clip: rect(1px 1px 1px 1px);clip: rect(1px, 1px, 1px, 1px);height: 1px;margin: -1px;overflow: hidden;padding: 0;position: absolute;width: 1px;}#sk-container-id-1 div.sk-estimator {font-family: monospace;background-color: #f0f8ff;border: 1px dotted black;border-radius: 0.25em;box-sizing: border-box;margin-bottom: 0.5em;}#sk-container-id-1 div.sk-estimator:hover {background-color: #d4ebff;}#sk-container-id-1 div.sk-parallel-item::after {content: \"\";width: 100%;border-bottom: 1px solid gray;flex-grow: 1;}#sk-container-id-1 div.sk-label:hover label.sk-toggleable__label {background-color: #d4ebff;}#sk-container-id-1 div.sk-serial::before {content: \"\";position: absolute;border-left: 1px solid gray;box-sizing: border-box;top: 0;bottom: 0;left: 50%;z-index: 0;}#sk-container-id-1 div.sk-serial {display: flex;flex-direction: column;align-items: center;background-color: white;padding-right: 0.2em;padding-left: 0.2em;position: relative;}#sk-container-id-1 div.sk-item {position: relative;z-index: 1;}#sk-container-id-1 div.sk-parallel {display: flex;align-items: stretch;justify-content: center;background-color: white;position: relative;}#sk-container-id-1 div.sk-item::before, #sk-container-id-1 div.sk-parallel-item::before {content: \"\";position: absolute;border-left: 1px solid gray;box-sizing: border-box;top: 0;bottom: 0;left: 50%;z-index: -1;}#sk-container-id-1 div.sk-parallel-item {display: flex;flex-direction: column;z-index: 1;position: relative;background-color: white;}#sk-container-id-1 div.sk-parallel-item:first-child::after {align-self: flex-end;width: 50%;}#sk-container-id-1 div.sk-parallel-item:last-child::after {align-self: flex-start;width: 50%;}#sk-container-id-1 div.sk-parallel-item:only-child::after {width: 0;}#sk-container-id-1 div.sk-dashed-wrapped {border: 1px dashed gray;margin: 0 0.4em 0.5em 0.4em;box-sizing: border-box;padding-bottom: 0.4em;background-color: white;}#sk-container-id-1 div.sk-label label {font-family: monospace;font-weight: bold;display: inline-block;line-height: 1.2em;}#sk-container-id-1 div.sk-label-container {text-align: center;}#sk-container-id-1 div.sk-container {/* jupyter's `normalize.less` sets `[hidden] { display: none; }` but bootstrap.min.css set `[hidden] { display: none !important; }` so we also need the `!important` here to be able to override the default hidden behavior on the sphinx rendered scikit-learn.org. See: https://github.com/scikit-learn/scikit-learn/issues/21755 */display: inline-block !important;position: relative;}#sk-container-id-1 div.sk-text-repr-fallback {display: none;}</style><div id=\"sk-container-id-1\" class=\"sk-top-container\"><div class=\"sk-text-repr-fallback\"><pre>XGBRegressor(base_score=0.5, booster=&#x27;gbtree&#x27;, callbacks=None,\n",
       "             colsample_bylevel=1, colsample_bynode=1,\n",
       "             colsample_bytree=0.8465548069218283, early_stopping_rounds=None,\n",
       "             enable_categorical=False, eval_metric=None, feature_types=None,\n",
       "             gamma=0, gpu_id=-1, grow_policy=&#x27;depthwise&#x27;, importance_type=None,\n",
       "             interaction_constraints=&#x27;&#x27;, learning_rate=0.10240078715075915,\n",
       "             max_bin=256, max_cat_threshold=64, max_cat_to_onehot=4,\n",
       "             max_delta_step=0, max_depth=7, max_leaves=0, min_child_weight=3,\n",
       "             missing=nan, monotone_constraints=&#x27;()&#x27;, n_estimators=326, n_jobs=0,\n",
       "             num_parallel_tree=1, predictor=&#x27;auto&#x27;, random_state=0, ...)</pre><b>In a Jupyter environment, please rerun this cell to show the HTML representation or trust the notebook. <br />On GitHub, the HTML representation is unable to render, please try loading this page with nbviewer.org.</b></div><div class=\"sk-container\" hidden><div class=\"sk-item\"><div class=\"sk-estimator sk-toggleable\"><input class=\"sk-toggleable__control sk-hidden--visually\" id=\"sk-estimator-id-1\" type=\"checkbox\" checked><label for=\"sk-estimator-id-1\" class=\"sk-toggleable__label sk-toggleable__label-arrow\">XGBRegressor</label><div class=\"sk-toggleable__content\"><pre>XGBRegressor(base_score=0.5, booster=&#x27;gbtree&#x27;, callbacks=None,\n",
       "             colsample_bylevel=1, colsample_bynode=1,\n",
       "             colsample_bytree=0.8465548069218283, early_stopping_rounds=None,\n",
       "             enable_categorical=False, eval_metric=None, feature_types=None,\n",
       "             gamma=0, gpu_id=-1, grow_policy=&#x27;depthwise&#x27;, importance_type=None,\n",
       "             interaction_constraints=&#x27;&#x27;, learning_rate=0.10240078715075915,\n",
       "             max_bin=256, max_cat_threshold=64, max_cat_to_onehot=4,\n",
       "             max_delta_step=0, max_depth=7, max_leaves=0, min_child_weight=3,\n",
       "             missing=nan, monotone_constraints=&#x27;()&#x27;, n_estimators=326, n_jobs=0,\n",
       "             num_parallel_tree=1, predictor=&#x27;auto&#x27;, random_state=0, ...)</pre></div></div></div></div></div>"
      ],
      "text/plain": [
       "XGBRegressor(base_score=0.5, booster='gbtree', callbacks=None,\n",
       "             colsample_bylevel=1, colsample_bynode=1,\n",
       "             colsample_bytree=0.8465548069218283, early_stopping_rounds=None,\n",
       "             enable_categorical=False, eval_metric=None, feature_types=None,\n",
       "             gamma=0, gpu_id=-1, grow_policy='depthwise', importance_type=None,\n",
       "             interaction_constraints='', learning_rate=0.10240078715075915,\n",
       "             max_bin=256, max_cat_threshold=64, max_cat_to_onehot=4,\n",
       "             max_delta_step=0, max_depth=7, max_leaves=0, min_child_weight=3,\n",
       "             missing=nan, monotone_constraints='()', n_estimators=326, n_jobs=0,\n",
       "             num_parallel_tree=1, predictor='auto', random_state=0, ...)"
      ]
     },
     "execution_count": 12,
     "metadata": {},
     "output_type": "execute_result"
    }
   ],
   "source": [
    "xgbr_ga = xgb.XGBRegressor(verbosity=0\n",
    "                                , colsample_bytree=bp['colsample_bytree']\n",
    "                                , learning_rate=bp['learning_rate']\n",
    "                                , max_depth=bp['max_depth']\n",
    "                                , min_child_weight=bp['min_child_weight']\n",
    "                                , n_estimators=bp['n_estimators']\n",
    "                                , subsample=bp['subsample'])\n",
    "\n",
    "xgbr_ga.fit(X, y)"
   ]
  },
  {
   "cell_type": "code",
   "execution_count": 13,
   "id": "e98293c3",
   "metadata": {},
   "outputs": [],
   "source": [
    "# Keep boundaries within known ranges. This way we can keep the\n",
    "# interpolations within the known data\n",
    "boundaries = [[i, j] for i, j in zip(X.min(axis=0), X.max(axis=0))]"
   ]
  },
  {
   "cell_type": "code",
   "execution_count": 32,
   "id": "7f00482c",
   "metadata": {},
   "outputs": [],
   "source": [
    "ga_concrete = GeneticAlgorithm(model=xgbr_ga\n",
    "                               , parameters=df.columns[:-1]\n",
    "                               , boundaries=boundaries\n",
    "                               , pop_size=100)\n",
    "\n",
    "strongest_predicted_comp, hist = ga_concrete.run(mode='maximize'\n",
    "                                                  , select='rank'\n",
    "                                                  , boltzmann=True\n",
    "                                                  , generations=2000\n",
    "                                                  , exploration=.35\n",
    "                                                  , keep_top=5\n",
    "                                                  , verbose=False)"
   ]
  },
  {
   "cell_type": "markdown",
   "id": "5efd7ccc",
   "metadata": {},
   "source": [
    "According to the GA's search over the XGBoost model, the strongest "
   ]
  },
  {
   "cell_type": "code",
   "execution_count": 34,
   "id": "af3249f5",
   "metadata": {
    "scrolled": true
   },
   "outputs": [
    {
     "data": {
      "text/plain": [
       "{'Cement (component 1)(kg in a m^3 mixture)': 540.0,\n",
       " 'Blast Furnace Slag (component 2)(kg in a m^3 mixture)': 285.59998167421304,\n",
       " 'Fly Ash (component 3)(kg in a m^3 mixture)': 123.43754594249728,\n",
       " 'Water  (component 4)(kg in a m^3 mixture)': 151.11001994539228,\n",
       " 'Superplasticizer (component 5)(kg in a m^3 mixture)': 11.282155219290692,\n",
       " 'Coarse Aggregate  (component 6)(kg in a m^3 mixture)': 1029.8330722135322,\n",
       " 'Fine Aggregate (component 7)(kg in a m^3 mixture)': 749.5383733380505,\n",
       " 'Age (day)': 150.35350406787876}"
      ]
     },
     "execution_count": 34,
     "metadata": {},
     "output_type": "execute_result"
    }
   ],
   "source": [
    "strongest_predicted_comp"
   ]
  },
  {
   "cell_type": "code",
   "execution_count": 55,
   "id": "87b9d4a6",
   "metadata": {},
   "outputs": [
    {
     "data": {
      "text/plain": [
       "[540.0,\n",
       " 285.59998167421304,\n",
       " 123.43754594249728,\n",
       " 151.11001994539228,\n",
       " 11.282155219290692,\n",
       " 1029.8330722135322,\n",
       " 749.5383733380505,\n",
       " 150.35350406787876]"
      ]
     },
     "execution_count": 55,
     "metadata": {},
     "output_type": "execute_result"
    }
   ],
   "source": [
    "list(strongest_predicted_comp.values())"
   ]
  },
  {
   "cell_type": "code",
   "execution_count": 35,
   "id": "a331e1a7",
   "metadata": {},
   "outputs": [
    {
     "name": "stdout",
     "output_type": "stream",
     "text": [
      "Predicited strongest concrete compressive strength: 107.83\n",
      "Is the prediction stronger than the max in our data? True\n"
     ]
    }
   ],
   "source": [
    "# convert dictionary to array suitable for predicition by the GA\n",
    "comp = np.array(list(strongest_predicted_comp.values())).reshape(1,-1)\n",
    "predicted_max = xgbr_ga.predict(comp)[0].round(2)\n",
    "print('Predicited strongest concrete compressive strength:', predicted_max)\n",
    "print('Is the prediction stronger than the max in our data?', predicted_max >= y.max())"
   ]
  },
  {
   "cell_type": "markdown",
   "id": "bd345024",
   "metadata": {},
   "source": [
    "Unlike a neural network or a support vector regression, the XGBoost returns discrete sets of values, so the evolution of its search are happening in steps. We would expect a smoother looking evolution from a function that returns continuous values. "
   ]
  },
  {
   "cell_type": "code",
   "execution_count": 36,
   "id": "ec194419",
   "metadata": {
    "scrolled": false
   },
   "outputs": [
    {
     "data": {
      "image/png": "[encoded data removed]",
      "text/plain": [
       "<Figure size 576x432 with 1 Axes>"
      ]
     },
     "metadata": {},
     "output_type": "display_data"
    }
   ],
   "source": [
    "fig, ax = plt.subplots(figsize=(8,6), nrows=1,ncols=1)\n",
    "sns.lineplot(data=hist, label=f'predicted_max={predicted_max.round()}', ax=ax)\n",
    "ax.set_xlabel('Generation')\n",
    "ax.set_ylabel('Predicted Concrete Compressive Strength')\n",
    "ax.set_title('Evolution History XGBoost')\n",
    "ax.legend()\n",
    "plt.show()"
   ]
  },
  {
   "cell_type": "markdown",
   "id": "37c482bb",
   "metadata": {},
   "source": [
    "In the Yeh (1998) paper, the author trains a neural network with 1 hidden layer with 89 units, a learning rate of 1.0, momentum factor of .5 with 3000 learning cycles. We try a new neural net architecture and a support vector regression to compare."
   ]
  },
  {
   "cell_type": "code",
   "execution_count": 37,
   "id": "38b73084",
   "metadata": {},
   "outputs": [],
   "source": [
    "from sklearn.neural_network import MLPRegressor\n",
    "from sklearn.svm import SVR"
   ]
  },
  {
   "cell_type": "code",
   "execution_count": 38,
   "id": "f61fa2d6",
   "metadata": {
    "scrolled": true
   },
   "outputs": [
    {
     "name": "stdout",
     "output_type": "stream",
     "text": [
      "K-Fold CV Mean MLP Score: 0.8020782786418005\n"
     ]
    },
    {
     "data": {
      "text/html": [
       "<style>#sk-container-id-5 {color: black;background-color: white;}#sk-container-id-5 pre{padding: 0;}#sk-container-id-5 div.sk-toggleable {background-color: white;}#sk-container-id-5 label.sk-toggleable__label {cursor: pointer;display: block;width: 100%;margin-bottom: 0;padding: 0.3em;box-sizing: border-box;text-align: center;}#sk-container-id-5 label.sk-toggleable__label-arrow:before {content: \"▸\";float: left;margin-right: 0.25em;color: #696969;}#sk-container-id-5 label.sk-toggleable__label-arrow:hover:before {color: black;}#sk-container-id-5 div.sk-estimator:hover label.sk-toggleable__label-arrow:before {color: black;}#sk-container-id-5 div.sk-toggleable__content {max-height: 0;max-width: 0;overflow: hidden;text-align: left;background-color: #f0f8ff;}#sk-container-id-5 div.sk-toggleable__content pre {margin: 0.2em;color: black;border-radius: 0.25em;background-color: #f0f8ff;}#sk-container-id-5 input.sk-toggleable__control:checked~div.sk-toggleable__content {max-height: 200px;max-width: 100%;overflow: auto;}#sk-container-id-5 input.sk-toggleable__control:checked~label.sk-toggleable__label-arrow:before {content: \"▾\";}#sk-container-id-5 div.sk-estimator input.sk-toggleable__control:checked~label.sk-toggleable__label {background-color: #d4ebff;}#sk-container-id-5 div.sk-label input.sk-toggleable__control:checked~label.sk-toggleable__label {background-color: #d4ebff;}#sk-container-id-5 input.sk-hidden--visually {border: 0;clip: rect(1px 1px 1px 1px);clip: rect(1px, 1px, 1px, 1px);height: 1px;margin: -1px;overflow: hidden;padding: 0;position: absolute;width: 1px;}#sk-container-id-5 div.sk-estimator {font-family: monospace;background-color: #f0f8ff;border: 1px dotted black;border-radius: 0.25em;box-sizing: border-box;margin-bottom: 0.5em;}#sk-container-id-5 div.sk-estimator:hover {background-color: #d4ebff;}#sk-container-id-5 div.sk-parallel-item::after {content: \"\";width: 100%;border-bottom: 1px solid gray;flex-grow: 1;}#sk-container-id-5 div.sk-label:hover label.sk-toggleable__label {background-color: #d4ebff;}#sk-container-id-5 div.sk-serial::before {content: \"\";position: absolute;border-left: 1px solid gray;box-sizing: border-box;top: 0;bottom: 0;left: 50%;z-index: 0;}#sk-container-id-5 div.sk-serial {display: flex;flex-direction: column;align-items: center;background-color: white;padding-right: 0.2em;padding-left: 0.2em;position: relative;}#sk-container-id-5 div.sk-item {position: relative;z-index: 1;}#sk-container-id-5 div.sk-parallel {display: flex;align-items: stretch;justify-content: center;background-color: white;position: relative;}#sk-container-id-5 div.sk-item::before, #sk-container-id-5 div.sk-parallel-item::before {content: \"\";position: absolute;border-left: 1px solid gray;box-sizing: border-box;top: 0;bottom: 0;left: 50%;z-index: -1;}#sk-container-id-5 div.sk-parallel-item {display: flex;flex-direction: column;z-index: 1;position: relative;background-color: white;}#sk-container-id-5 div.sk-parallel-item:first-child::after {align-self: flex-end;width: 50%;}#sk-container-id-5 div.sk-parallel-item:last-child::after {align-self: flex-start;width: 50%;}#sk-container-id-5 div.sk-parallel-item:only-child::after {width: 0;}#sk-container-id-5 div.sk-dashed-wrapped {border: 1px dashed gray;margin: 0 0.4em 0.5em 0.4em;box-sizing: border-box;padding-bottom: 0.4em;background-color: white;}#sk-container-id-5 div.sk-label label {font-family: monospace;font-weight: bold;display: inline-block;line-height: 1.2em;}#sk-container-id-5 div.sk-label-container {text-align: center;}#sk-container-id-5 div.sk-container {/* jupyter's `normalize.less` sets `[hidden] { display: none; }` but bootstrap.min.css set `[hidden] { display: none !important; }` so we also need the `!important` here to be able to override the default hidden behavior on the sphinx rendered scikit-learn.org. See: https://github.com/scikit-learn/scikit-learn/issues/21755 */display: inline-block !important;position: relative;}#sk-container-id-5 div.sk-text-repr-fallback {display: none;}</style><div id=\"sk-container-id-5\" class=\"sk-top-container\"><div class=\"sk-text-repr-fallback\"><pre>MLPRegressor(hidden_layer_sizes=(64, 128, 64), max_iter=2000)</pre><b>In a Jupyter environment, please rerun this cell to show the HTML representation or trust the notebook. <br />On GitHub, the HTML representation is unable to render, please try loading this page with nbviewer.org.</b></div><div class=\"sk-container\" hidden><div class=\"sk-item\"><div class=\"sk-estimator sk-toggleable\"><input class=\"sk-toggleable__control sk-hidden--visually\" id=\"sk-estimator-id-5\" type=\"checkbox\" checked><label for=\"sk-estimator-id-5\" class=\"sk-toggleable__label sk-toggleable__label-arrow\">MLPRegressor</label><div class=\"sk-toggleable__content\"><pre>MLPRegressor(hidden_layer_sizes=(64, 128, 64), max_iter=2000)</pre></div></div></div></div></div>"
      ],
      "text/plain": [
       "MLPRegressor(hidden_layer_sizes=(64, 128, 64), max_iter=2000)"
      ]
     },
     "execution_count": 38,
     "metadata": {},
     "output_type": "execute_result"
    }
   ],
   "source": [
    "mlp = MLPRegressor(hidden_layer_sizes=(64,128,64,), activation='relu', solver='adam', max_iter=2000)\n",
    "cv_mlp_score = np.mean(cross_val_score(mlp, X_train, y_train, cv=kfold))\n",
    "print('K-Fold CV Mean MLP Score:', cv_mlp_score)\n",
    "mlp.fit(X.values,y.values)"
   ]
  },
  {
   "cell_type": "code",
   "execution_count": 40,
   "id": "7394b88f",
   "metadata": {},
   "outputs": [
    {
     "name": "stdout",
     "output_type": "stream",
     "text": [
      "K-Fold CV Mean SVR Score: 0.712453814136116\n"
     ]
    },
    {
     "data": {
      "text/html": [
       "<style>#sk-container-id-7 {color: black;background-color: white;}#sk-container-id-7 pre{padding: 0;}#sk-container-id-7 div.sk-toggleable {background-color: white;}#sk-container-id-7 label.sk-toggleable__label {cursor: pointer;display: block;width: 100%;margin-bottom: 0;padding: 0.3em;box-sizing: border-box;text-align: center;}#sk-container-id-7 label.sk-toggleable__label-arrow:before {content: \"▸\";float: left;margin-right: 0.25em;color: #696969;}#sk-container-id-7 label.sk-toggleable__label-arrow:hover:before {color: black;}#sk-container-id-7 div.sk-estimator:hover label.sk-toggleable__label-arrow:before {color: black;}#sk-container-id-7 div.sk-toggleable__content {max-height: 0;max-width: 0;overflow: hidden;text-align: left;background-color: #f0f8ff;}#sk-container-id-7 div.sk-toggleable__content pre {margin: 0.2em;color: black;border-radius: 0.25em;background-color: #f0f8ff;}#sk-container-id-7 input.sk-toggleable__control:checked~div.sk-toggleable__content {max-height: 200px;max-width: 100%;overflow: auto;}#sk-container-id-7 input.sk-toggleable__control:checked~label.sk-toggleable__label-arrow:before {content: \"▾\";}#sk-container-id-7 div.sk-estimator input.sk-toggleable__control:checked~label.sk-toggleable__label {background-color: #d4ebff;}#sk-container-id-7 div.sk-label input.sk-toggleable__control:checked~label.sk-toggleable__label {background-color: #d4ebff;}#sk-container-id-7 input.sk-hidden--visually {border: 0;clip: rect(1px 1px 1px 1px);clip: rect(1px, 1px, 1px, 1px);height: 1px;margin: -1px;overflow: hidden;padding: 0;position: absolute;width: 1px;}#sk-container-id-7 div.sk-estimator {font-family: monospace;background-color: #f0f8ff;border: 1px dotted black;border-radius: 0.25em;box-sizing: border-box;margin-bottom: 0.5em;}#sk-container-id-7 div.sk-estimator:hover {background-color: #d4ebff;}#sk-container-id-7 div.sk-parallel-item::after {content: \"\";width: 100%;border-bottom: 1px solid gray;flex-grow: 1;}#sk-container-id-7 div.sk-label:hover label.sk-toggleable__label {background-color: #d4ebff;}#sk-container-id-7 div.sk-serial::before {content: \"\";position: absolute;border-left: 1px solid gray;box-sizing: border-box;top: 0;bottom: 0;left: 50%;z-index: 0;}#sk-container-id-7 div.sk-serial {display: flex;flex-direction: column;align-items: center;background-color: white;padding-right: 0.2em;padding-left: 0.2em;position: relative;}#sk-container-id-7 div.sk-item {position: relative;z-index: 1;}#sk-container-id-7 div.sk-parallel {display: flex;align-items: stretch;justify-content: center;background-color: white;position: relative;}#sk-container-id-7 div.sk-item::before, #sk-container-id-7 div.sk-parallel-item::before {content: \"\";position: absolute;border-left: 1px solid gray;box-sizing: border-box;top: 0;bottom: 0;left: 50%;z-index: -1;}#sk-container-id-7 div.sk-parallel-item {display: flex;flex-direction: column;z-index: 1;position: relative;background-color: white;}#sk-container-id-7 div.sk-parallel-item:first-child::after {align-self: flex-end;width: 50%;}#sk-container-id-7 div.sk-parallel-item:last-child::after {align-self: flex-start;width: 50%;}#sk-container-id-7 div.sk-parallel-item:only-child::after {width: 0;}#sk-container-id-7 div.sk-dashed-wrapped {border: 1px dashed gray;margin: 0 0.4em 0.5em 0.4em;box-sizing: border-box;padding-bottom: 0.4em;background-color: white;}#sk-container-id-7 div.sk-label label {font-family: monospace;font-weight: bold;display: inline-block;line-height: 1.2em;}#sk-container-id-7 div.sk-label-container {text-align: center;}#sk-container-id-7 div.sk-container {/* jupyter's `normalize.less` sets `[hidden] { display: none; }` but bootstrap.min.css set `[hidden] { display: none !important; }` so we also need the `!important` here to be able to override the default hidden behavior on the sphinx rendered scikit-learn.org. See: https://github.com/scikit-learn/scikit-learn/issues/21755 */display: inline-block !important;position: relative;}#sk-container-id-7 div.sk-text-repr-fallback {display: none;}</style><div id=\"sk-container-id-7\" class=\"sk-top-container\"><div class=\"sk-text-repr-fallback\"><pre>SVR(degree=8, kernel=&#x27;poly&#x27;)</pre><b>In a Jupyter environment, please rerun this cell to show the HTML representation or trust the notebook. <br />On GitHub, the HTML representation is unable to render, please try loading this page with nbviewer.org.</b></div><div class=\"sk-container\" hidden><div class=\"sk-item\"><div class=\"sk-estimator sk-toggleable\"><input class=\"sk-toggleable__control sk-hidden--visually\" id=\"sk-estimator-id-7\" type=\"checkbox\" checked><label for=\"sk-estimator-id-7\" class=\"sk-toggleable__label sk-toggleable__label-arrow\">SVR</label><div class=\"sk-toggleable__content\"><pre>SVR(degree=8, kernel=&#x27;poly&#x27;)</pre></div></div></div></div></div>"
      ],
      "text/plain": [
       "SVR(degree=8, kernel='poly')"
      ]
     },
     "execution_count": 40,
     "metadata": {},
     "output_type": "execute_result"
    }
   ],
   "source": [
    "svr = SVR(kernel='poly', degree=8)\n",
    "cv_svr_score = np.mean(cross_val_score(svr, X_train, y_train, cv=kfold))\n",
    "print('K-Fold CV Mean SVR Score:', cv_svr_score)\n",
    "svr.fit(X.values,y.values)"
   ]
  },
  {
   "cell_type": "markdown",
   "id": "9215027f",
   "metadata": {},
   "source": [
    "Now we can run the GA on these new models and compare to the XGBoost."
   ]
  },
  {
   "cell_type": "code",
   "execution_count": 41,
   "id": "de033b22",
   "metadata": {},
   "outputs": [],
   "source": [
    "mlp_best, mlp_hist = GeneticAlgorithm(model=mlp, parameters=df.columns[:-1], boundaries=boundaries, pop_size=50).run(mode='maximize', select='rank', boltzmann=True, generations=500, exploration=.35, keep_top=3, verbose=False)"
   ]
  },
  {
   "cell_type": "code",
   "execution_count": 42,
   "id": "c115310a",
   "metadata": {},
   "outputs": [],
   "source": [
    "mlp_comp = np.array(list(mlp_best.values())).reshape(1,-1)\n",
    "predicted_max_mlp = mlp.predict(mlp_comp)[0]"
   ]
  },
  {
   "cell_type": "code",
   "execution_count": 43,
   "id": "76e6e562",
   "metadata": {},
   "outputs": [],
   "source": [
    "svr_best, svr_hist = GeneticAlgorithm(model=svr, parameters=df.columns[:-1], boundaries=boundaries, pop_size=50).run(mode='maximize', select='rank', boltzmann=True, generations=500, exploration=.35, keep_top=3, verbose=False)"
   ]
  },
  {
   "cell_type": "code",
   "execution_count": 44,
   "id": "ee5bd005",
   "metadata": {},
   "outputs": [],
   "source": [
    "svr_comp = np.array(list(svr_best.values())).reshape(1,-1)\n",
    "predicted_max_svr = svr.predict(svr_comp)[0]"
   ]
  },
  {
   "cell_type": "code",
   "execution_count": 45,
   "id": "b6e6920b",
   "metadata": {},
   "outputs": [
    {
     "data": {
      "text/plain": [
       "({'Cement (component 1)(kg in a m^3 mixture)': 540.0,\n",
       "  'Blast Furnace Slag (component 2)(kg in a m^3 mixture)': 284.2139400740389,\n",
       "  'Fly Ash (component 3)(kg in a m^3 mixture)': 107.49270987529638,\n",
       "  'Water  (component 4)(kg in a m^3 mixture)': 121.75,\n",
       "  'Superplasticizer (component 5)(kg in a m^3 mixture)': 32.135500954553244,\n",
       "  'Coarse Aggregate  (component 6)(kg in a m^3 mixture)': 1145.0,\n",
       "  'Fine Aggregate (component 7)(kg in a m^3 mixture)': 992.6,\n",
       "  'Age (day)': 204.6483704300706},\n",
       " {'Cement (component 1)(kg in a m^3 mixture)': 540.0,\n",
       "  'Blast Furnace Slag (component 2)(kg in a m^3 mixture)': 359.4,\n",
       "  'Fly Ash (component 3)(kg in a m^3 mixture)': 200.1,\n",
       "  'Water  (component 4)(kg in a m^3 mixture)': 121.75,\n",
       "  'Superplasticizer (component 5)(kg in a m^3 mixture)': 32.2,\n",
       "  'Coarse Aggregate  (component 6)(kg in a m^3 mixture)': 1145.0,\n",
       "  'Fine Aggregate (component 7)(kg in a m^3 mixture)': 992.6,\n",
       "  'Age (day)': 365.0})"
      ]
     },
     "execution_count": 45,
     "metadata": {},
     "output_type": "execute_result"
    }
   ],
   "source": [
    "mlp_best, svr_best"
   ]
  },
  {
   "cell_type": "code",
   "execution_count": 46,
   "id": "48ec2b4c",
   "metadata": {},
   "outputs": [
    {
     "data": {
      "text/plain": [
       "[[102.0, 540.0],\n",
       " [0.0, 359.4],\n",
       " [0.0, 200.1],\n",
       " [121.75, 247.0],\n",
       " [0.0, 32.2],\n",
       " [801.0, 1145.0],\n",
       " [594.0, 992.6],\n",
       " [1.0, 365.0]]"
      ]
     },
     "execution_count": 46,
     "metadata": {},
     "output_type": "execute_result"
    }
   ],
   "source": [
    "boundaries"
   ]
  },
  {
   "cell_type": "code",
   "execution_count": 47,
   "id": "b39f6aca",
   "metadata": {},
   "outputs": [
    {
     "data": {
      "image/png": "[encoded data removed]",
      "text/plain": [
       "<Figure size 1152x432 with 2 Axes>"
      ]
     },
     "metadata": {},
     "output_type": "display_data"
    }
   ],
   "source": [
    "fig, ax = plt.subplots(figsize=(16,6), nrows=1,ncols=2)\n",
    "sns.lineplot(data=mlp_hist, label=f'predicted_max_mlp={predicted_max_mlp.round()}', color=sns.husl_palette(2)[0], ax=ax[0])\n",
    "sns.lineplot(data=svr_hist, label=f'predicted_max_svr={predicted_max_svr.round()}', color=sns.husl_palette(2)[1], ax=ax[1])\n",
    "\n",
    "for i in range(len(ax)):\n",
    "    ax[i].set_xlabel('Generation')\n",
    "    ax[i].set_ylabel('Predicted Concrete Compressive Strength')\n",
    "\n",
    "fig.suptitle('Evolution Histories SVR/MLP', size='x-large')\n",
    "plt.show()"
   ]
  },
  {
   "cell_type": "markdown",
   "id": "dab458a5",
   "metadata": {},
   "source": [
    "These values do not seem plausible relative to the data. The XGBoost gives a much more accurate model of the realistic interactions that occur in concrete mixing."
   ]
  }
 ],
 "metadata": {
  "kernelspec": {
   "display_name": "Python 3 (ipykernel)",
   "language": "python",
   "name": "python3"
  },
  "language_info": {
   "codemirror_mode": {
    "name": "ipython",
    "version": 3
   },
   "file_extension": ".py",
   "mimetype": "text/x-python",
   "name": "python",
   "nbconvert_exporter": "python",
   "pygments_lexer": "ipython3",
   "version": "3.9.7"
  }
 },
 "nbformat": 4,
 "nbformat_minor": 5
}
